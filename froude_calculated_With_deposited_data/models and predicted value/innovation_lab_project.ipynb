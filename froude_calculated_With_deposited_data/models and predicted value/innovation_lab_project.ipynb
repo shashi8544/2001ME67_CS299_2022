{
  "cells": [
    {
      "cell_type": "code",
      "execution_count": null,
      "metadata": {
        "id": "5Ksde-THscDE"
      },
      "outputs": [],
      "source": [
        "import numpy as np  \n",
        "import pandas as pd\n",
        "import matplotlib.pyplot as plt \n",
        "import seaborn as sns\n",
        "from sklearn import metrics\n",
        "\n",
        "import math\n",
        "from sklearn.metrics import r2_score\n"
      ]
    },
    {
      "cell_type": "code",
      "execution_count": null,
      "metadata": {
        "id": "OMVzPFc2s8IR"
      },
      "outputs": [],
      "source": [
        "dataset = pd.read_csv('froude_calculated_With_deposited_data.csv')\n",
        "X = dataset.iloc[:, :-1].values\n",
        "y = dataset.iloc[:, -1].values"
      ]
    },
    {
      "cell_type": "code",
      "execution_count": null,
      "metadata": {
        "colab": {
          "base_uri": "https://localhost:8080/",
          "height": 206
        },
        "id": "ZYcaS6DSt_-K",
        "outputId": "f27b0add-ef62-41aa-e531-628bc7934b83"
      },
      "outputs": [
        {
          "data": {
            "text/html": [
              "\n",
              "  <div id=\"df-5afa340a-048b-4b48-ab76-bbfdf6ddb75e\">\n",
              "    <div class=\"colab-df-container\">\n",
              "      <div>\n",
              "<style scoped>\n",
              "    .dataframe tbody tr th:only-of-type {\n",
              "        vertical-align: middle;\n",
              "    }\n",
              "\n",
              "    .dataframe tbody tr th {\n",
              "        vertical-align: top;\n",
              "    }\n",
              "\n",
              "    .dataframe thead th {\n",
              "        text-align: right;\n",
              "    }\n",
              "</style>\n",
              "<table border=\"1\" class=\"dataframe\">\n",
              "  <thead>\n",
              "    <tr style=\"text-align: right;\">\n",
              "      <th></th>\n",
              "      <th>c(kg)</th>\n",
              "      <th>Dgr</th>\n",
              "      <th>d/R</th>\n",
              "      <th>i</th>\n",
              "      <th>Fr</th>\n",
              "    </tr>\n",
              "  </thead>\n",
              "  <tbody>\n",
              "    <tr>\n",
              "      <th>0</th>\n",
              "      <td>0.073</td>\n",
              "      <td>13.242335</td>\n",
              "      <td>0.011277</td>\n",
              "      <td>0.018</td>\n",
              "      <td>5.477197</td>\n",
              "    </tr>\n",
              "    <tr>\n",
              "      <th>1</th>\n",
              "      <td>0.019</td>\n",
              "      <td>13.242335</td>\n",
              "      <td>0.011277</td>\n",
              "      <td>0.013</td>\n",
              "      <td>4.388356</td>\n",
              "    </tr>\n",
              "    <tr>\n",
              "      <th>2</th>\n",
              "      <td>0.460</td>\n",
              "      <td>13.242335</td>\n",
              "      <td>0.012326</td>\n",
              "      <td>0.023</td>\n",
              "      <td>8.501753</td>\n",
              "    </tr>\n",
              "    <tr>\n",
              "      <th>3</th>\n",
              "      <td>0.090</td>\n",
              "      <td>13.242335</td>\n",
              "      <td>0.011778</td>\n",
              "      <td>0.022</td>\n",
              "      <td>7.049966</td>\n",
              "    </tr>\n",
              "    <tr>\n",
              "      <th>4</th>\n",
              "      <td>0.151</td>\n",
              "      <td>13.242335</td>\n",
              "      <td>0.008154</td>\n",
              "      <td>0.019</td>\n",
              "      <td>9.524603</td>\n",
              "    </tr>\n",
              "  </tbody>\n",
              "</table>\n",
              "</div>\n",
              "      <button class=\"colab-df-convert\" onclick=\"convertToInteractive('df-5afa340a-048b-4b48-ab76-bbfdf6ddb75e')\"\n",
              "              title=\"Convert this dataframe to an interactive table.\"\n",
              "              style=\"display:none;\">\n",
              "        \n",
              "  <svg xmlns=\"http://www.w3.org/2000/svg\" height=\"24px\"viewBox=\"0 0 24 24\"\n",
              "       width=\"24px\">\n",
              "    <path d=\"M0 0h24v24H0V0z\" fill=\"none\"/>\n",
              "    <path d=\"M18.56 5.44l.94 2.06.94-2.06 2.06-.94-2.06-.94-.94-2.06-.94 2.06-2.06.94zm-11 1L8.5 8.5l.94-2.06 2.06-.94-2.06-.94L8.5 2.5l-.94 2.06-2.06.94zm10 10l.94 2.06.94-2.06 2.06-.94-2.06-.94-.94-2.06-.94 2.06-2.06.94z\"/><path d=\"M17.41 7.96l-1.37-1.37c-.4-.4-.92-.59-1.43-.59-.52 0-1.04.2-1.43.59L10.3 9.45l-7.72 7.72c-.78.78-.78 2.05 0 2.83L4 21.41c.39.39.9.59 1.41.59.51 0 1.02-.2 1.41-.59l7.78-7.78 2.81-2.81c.8-.78.8-2.07 0-2.86zM5.41 20L4 18.59l7.72-7.72 1.47 1.35L5.41 20z\"/>\n",
              "  </svg>\n",
              "      </button>\n",
              "      \n",
              "  <style>\n",
              "    .colab-df-container {\n",
              "      display:flex;\n",
              "      flex-wrap:wrap;\n",
              "      gap: 12px;\n",
              "    }\n",
              "\n",
              "    .colab-df-convert {\n",
              "      background-color: #E8F0FE;\n",
              "      border: none;\n",
              "      border-radius: 50%;\n",
              "      cursor: pointer;\n",
              "      display: none;\n",
              "      fill: #1967D2;\n",
              "      height: 32px;\n",
              "      padding: 0 0 0 0;\n",
              "      width: 32px;\n",
              "    }\n",
              "\n",
              "    .colab-df-convert:hover {\n",
              "      background-color: #E2EBFA;\n",
              "      box-shadow: 0px 1px 2px rgba(60, 64, 67, 0.3), 0px 1px 3px 1px rgba(60, 64, 67, 0.15);\n",
              "      fill: #174EA6;\n",
              "    }\n",
              "\n",
              "    [theme=dark] .colab-df-convert {\n",
              "      background-color: #3B4455;\n",
              "      fill: #D2E3FC;\n",
              "    }\n",
              "\n",
              "    [theme=dark] .colab-df-convert:hover {\n",
              "      background-color: #434B5C;\n",
              "      box-shadow: 0px 1px 3px 1px rgba(0, 0, 0, 0.15);\n",
              "      filter: drop-shadow(0px 1px 2px rgba(0, 0, 0, 0.3));\n",
              "      fill: #FFFFFF;\n",
              "    }\n",
              "  </style>\n",
              "\n",
              "      <script>\n",
              "        const buttonEl =\n",
              "          document.querySelector('#df-5afa340a-048b-4b48-ab76-bbfdf6ddb75e button.colab-df-convert');\n",
              "        buttonEl.style.display =\n",
              "          google.colab.kernel.accessAllowed ? 'block' : 'none';\n",
              "\n",
              "        async function convertToInteractive(key) {\n",
              "          const element = document.querySelector('#df-5afa340a-048b-4b48-ab76-bbfdf6ddb75e');\n",
              "          const dataTable =\n",
              "            await google.colab.kernel.invokeFunction('convertToInteractive',\n",
              "                                                     [key], {});\n",
              "          if (!dataTable) return;\n",
              "\n",
              "          const docLinkHtml = 'Like what you see? Visit the ' +\n",
              "            '<a target=\"_blank\" href=https://colab.research.google.com/notebooks/data_table.ipynb>data table notebook</a>'\n",
              "            + ' to learn more about interactive tables.';\n",
              "          element.innerHTML = '';\n",
              "          dataTable['output_type'] = 'display_data';\n",
              "          await google.colab.output.renderOutput(dataTable, element);\n",
              "          const docLink = document.createElement('div');\n",
              "          docLink.innerHTML = docLinkHtml;\n",
              "          element.appendChild(docLink);\n",
              "        }\n",
              "      </script>\n",
              "    </div>\n",
              "  </div>\n",
              "  "
            ],
            "text/plain": [
              "   c(kg)        Dgr       d/R      i        Fr\n",
              "0  0.073  13.242335  0.011277  0.018  5.477197\n",
              "1  0.019  13.242335  0.011277  0.013  4.388356\n",
              "2  0.460  13.242335  0.012326  0.023  8.501753\n",
              "3  0.090  13.242335  0.011778  0.022  7.049966\n",
              "4  0.151  13.242335  0.008154  0.019  9.524603"
            ]
          },
          "execution_count": 3,
          "metadata": {},
          "output_type": "execute_result"
        }
      ],
      "source": [
        "dataset.head()"
      ]
    },
    {
      "cell_type": "code",
      "execution_count": null,
      "metadata": {
        "colab": {
          "base_uri": "https://localhost:8080/",
          "height": 300
        },
        "id": "t8klcq9UuW06",
        "outputId": "d0a31ee3-80c6-48b2-e6a1-dffb8cd78ab3"
      },
      "outputs": [
        {
          "data": {
            "text/html": [
              "\n",
              "  <div id=\"df-ef22b86a-7051-4e4c-b1ad-e314c6cb8ac2\">\n",
              "    <div class=\"colab-df-container\">\n",
              "      <div>\n",
              "<style scoped>\n",
              "    .dataframe tbody tr th:only-of-type {\n",
              "        vertical-align: middle;\n",
              "    }\n",
              "\n",
              "    .dataframe tbody tr th {\n",
              "        vertical-align: top;\n",
              "    }\n",
              "\n",
              "    .dataframe thead th {\n",
              "        text-align: right;\n",
              "    }\n",
              "</style>\n",
              "<table border=\"1\" class=\"dataframe\">\n",
              "  <thead>\n",
              "    <tr style=\"text-align: right;\">\n",
              "      <th></th>\n",
              "      <th>c(kg)</th>\n",
              "      <th>Dgr</th>\n",
              "      <th>d/R</th>\n",
              "      <th>i</th>\n",
              "      <th>Fr</th>\n",
              "    </tr>\n",
              "  </thead>\n",
              "  <tbody>\n",
              "    <tr>\n",
              "      <th>count</th>\n",
              "      <td>387.000000</td>\n",
              "      <td>387.000000</td>\n",
              "      <td>387.000000</td>\n",
              "      <td>387.000000</td>\n",
              "      <td>387.000000</td>\n",
              "    </tr>\n",
              "    <tr>\n",
              "      <th>mean</th>\n",
              "      <td>0.223205</td>\n",
              "      <td>80.150635</td>\n",
              "      <td>0.056572</td>\n",
              "      <td>0.030078</td>\n",
              "      <td>4.022855</td>\n",
              "    </tr>\n",
              "    <tr>\n",
              "      <th>std</th>\n",
              "      <td>0.209265</td>\n",
              "      <td>68.433901</td>\n",
              "      <td>0.052363</td>\n",
              "      <td>0.012489</td>\n",
              "      <td>2.272003</td>\n",
              "    </tr>\n",
              "    <tr>\n",
              "      <th>min</th>\n",
              "      <td>0.007000</td>\n",
              "      <td>11.865029</td>\n",
              "      <td>0.004796</td>\n",
              "      <td>0.007300</td>\n",
              "      <td>1.262905</td>\n",
              "    </tr>\n",
              "    <tr>\n",
              "      <th>25%</th>\n",
              "      <td>0.078000</td>\n",
              "      <td>18.391129</td>\n",
              "      <td>0.010834</td>\n",
              "      <td>0.021000</td>\n",
              "      <td>2.215267</td>\n",
              "    </tr>\n",
              "    <tr>\n",
              "      <th>50%</th>\n",
              "      <td>0.148000</td>\n",
              "      <td>49.971077</td>\n",
              "      <td>0.040816</td>\n",
              "      <td>0.028600</td>\n",
              "      <td>3.318484</td>\n",
              "    </tr>\n",
              "    <tr>\n",
              "      <th>75%</th>\n",
              "      <td>0.296500</td>\n",
              "      <td>139.033427</td>\n",
              "      <td>0.088384</td>\n",
              "      <td>0.035000</td>\n",
              "      <td>4.989288</td>\n",
              "    </tr>\n",
              "    <tr>\n",
              "      <th>max</th>\n",
              "      <td>1.044000</td>\n",
              "      <td>210.754851</td>\n",
              "      <td>0.233333</td>\n",
              "      <td>0.090400</td>\n",
              "      <td>13.075404</td>\n",
              "    </tr>\n",
              "  </tbody>\n",
              "</table>\n",
              "</div>\n",
              "      <button class=\"colab-df-convert\" onclick=\"convertToInteractive('df-ef22b86a-7051-4e4c-b1ad-e314c6cb8ac2')\"\n",
              "              title=\"Convert this dataframe to an interactive table.\"\n",
              "              style=\"display:none;\">\n",
              "        \n",
              "  <svg xmlns=\"http://www.w3.org/2000/svg\" height=\"24px\"viewBox=\"0 0 24 24\"\n",
              "       width=\"24px\">\n",
              "    <path d=\"M0 0h24v24H0V0z\" fill=\"none\"/>\n",
              "    <path d=\"M18.56 5.44l.94 2.06.94-2.06 2.06-.94-2.06-.94-.94-2.06-.94 2.06-2.06.94zm-11 1L8.5 8.5l.94-2.06 2.06-.94-2.06-.94L8.5 2.5l-.94 2.06-2.06.94zm10 10l.94 2.06.94-2.06 2.06-.94-2.06-.94-.94-2.06-.94 2.06-2.06.94z\"/><path d=\"M17.41 7.96l-1.37-1.37c-.4-.4-.92-.59-1.43-.59-.52 0-1.04.2-1.43.59L10.3 9.45l-7.72 7.72c-.78.78-.78 2.05 0 2.83L4 21.41c.39.39.9.59 1.41.59.51 0 1.02-.2 1.41-.59l7.78-7.78 2.81-2.81c.8-.78.8-2.07 0-2.86zM5.41 20L4 18.59l7.72-7.72 1.47 1.35L5.41 20z\"/>\n",
              "  </svg>\n",
              "      </button>\n",
              "      \n",
              "  <style>\n",
              "    .colab-df-container {\n",
              "      display:flex;\n",
              "      flex-wrap:wrap;\n",
              "      gap: 12px;\n",
              "    }\n",
              "\n",
              "    .colab-df-convert {\n",
              "      background-color: #E8F0FE;\n",
              "      border: none;\n",
              "      border-radius: 50%;\n",
              "      cursor: pointer;\n",
              "      display: none;\n",
              "      fill: #1967D2;\n",
              "      height: 32px;\n",
              "      padding: 0 0 0 0;\n",
              "      width: 32px;\n",
              "    }\n",
              "\n",
              "    .colab-df-convert:hover {\n",
              "      background-color: #E2EBFA;\n",
              "      box-shadow: 0px 1px 2px rgba(60, 64, 67, 0.3), 0px 1px 3px 1px rgba(60, 64, 67, 0.15);\n",
              "      fill: #174EA6;\n",
              "    }\n",
              "\n",
              "    [theme=dark] .colab-df-convert {\n",
              "      background-color: #3B4455;\n",
              "      fill: #D2E3FC;\n",
              "    }\n",
              "\n",
              "    [theme=dark] .colab-df-convert:hover {\n",
              "      background-color: #434B5C;\n",
              "      box-shadow: 0px 1px 3px 1px rgba(0, 0, 0, 0.15);\n",
              "      filter: drop-shadow(0px 1px 2px rgba(0, 0, 0, 0.3));\n",
              "      fill: #FFFFFF;\n",
              "    }\n",
              "  </style>\n",
              "\n",
              "      <script>\n",
              "        const buttonEl =\n",
              "          document.querySelector('#df-ef22b86a-7051-4e4c-b1ad-e314c6cb8ac2 button.colab-df-convert');\n",
              "        buttonEl.style.display =\n",
              "          google.colab.kernel.accessAllowed ? 'block' : 'none';\n",
              "\n",
              "        async function convertToInteractive(key) {\n",
              "          const element = document.querySelector('#df-ef22b86a-7051-4e4c-b1ad-e314c6cb8ac2');\n",
              "          const dataTable =\n",
              "            await google.colab.kernel.invokeFunction('convertToInteractive',\n",
              "                                                     [key], {});\n",
              "          if (!dataTable) return;\n",
              "\n",
              "          const docLinkHtml = 'Like what you see? Visit the ' +\n",
              "            '<a target=\"_blank\" href=https://colab.research.google.com/notebooks/data_table.ipynb>data table notebook</a>'\n",
              "            + ' to learn more about interactive tables.';\n",
              "          element.innerHTML = '';\n",
              "          dataTable['output_type'] = 'display_data';\n",
              "          await google.colab.output.renderOutput(dataTable, element);\n",
              "          const docLink = document.createElement('div');\n",
              "          docLink.innerHTML = docLinkHtml;\n",
              "          element.appendChild(docLink);\n",
              "        }\n",
              "      </script>\n",
              "    </div>\n",
              "  </div>\n",
              "  "
            ],
            "text/plain": [
              "            c(kg)         Dgr         d/R           i          Fr\n",
              "count  387.000000  387.000000  387.000000  387.000000  387.000000\n",
              "mean     0.223205   80.150635    0.056572    0.030078    4.022855\n",
              "std      0.209265   68.433901    0.052363    0.012489    2.272003\n",
              "min      0.007000   11.865029    0.004796    0.007300    1.262905\n",
              "25%      0.078000   18.391129    0.010834    0.021000    2.215267\n",
              "50%      0.148000   49.971077    0.040816    0.028600    3.318484\n",
              "75%      0.296500  139.033427    0.088384    0.035000    4.989288\n",
              "max      1.044000  210.754851    0.233333    0.090400   13.075404"
            ]
          },
          "execution_count": 4,
          "metadata": {},
          "output_type": "execute_result"
        }
      ],
      "source": [
        "dataset.describe()"
      ]
    },
    {
      "cell_type": "code",
      "execution_count": null,
      "metadata": {
        "colab": {
          "base_uri": "https://localhost:8080/"
        },
        "id": "_uF5APD9l5Ng",
        "outputId": "aeccb0d9-c4f6-43eb-81d1-c462ea50b182"
      },
      "outputs": [
        {
          "data": {
            "text/plain": [
              "Index(['c(kg)', 'Dgr', 'd/R', 'i', 'Fr'], dtype='object')"
            ]
          },
          "execution_count": 5,
          "metadata": {},
          "output_type": "execute_result"
        }
      ],
      "source": [
        "dataset.columns"
      ]
    },
    {
      "cell_type": "code",
      "execution_count": null,
      "metadata": {
        "colab": {
          "base_uri": "https://localhost:8080/",
          "height": 920
        },
        "id": "n-nAnLYoitP8",
        "outputId": "34c222ea-d974-4a68-b9c6-91cbdd2686a5"
      },
      "outputs": [
        {
          "data": {
            "text/plain": [
              "<seaborn.axisgrid.PairGrid at 0x7f304ec08850>"
            ]
          },
          "execution_count": 6,
          "metadata": {},
          "output_type": "execute_result"
        },
        {
          "data": {
            "image/png": "[encoded data removed]",
            "text/plain": [
              "<Figure size 900x900 with 30 Axes>"
            ]
          },
          "metadata": {},
          "output_type": "display_data"
        }
      ],
      "source": [
        "sns.pairplot(dataset)"
      ]
    },
    {
      "cell_type": "code",
      "execution_count": null,
      "metadata": {
        "colab": {
          "base_uri": "https://localhost:8080/",
          "height": 286
        },
        "id": "clHEtB1Li6Ky",
        "outputId": "28b38c5c-a25a-4ad8-8000-77f8f2308c55"
      },
      "outputs": [
        {
          "data": {
            "text/plain": [
              "<matplotlib.axes._subplots.AxesSubplot at 0x7f304b9ad1d0>"
            ]
          },
          "execution_count": 7,
          "metadata": {},
          "output_type": "execute_result"
        },
        {
          "data": {
            "image/png": "[encoded data removed]",
            "text/plain": [
              "<Figure size 432x288 with 2 Axes>"
            ]
          },
          "metadata": {},
          "output_type": "display_data"
        }
      ],
      "source": [
        "sns.heatmap(dataset.corr(), annot=True)"
      ]
    },
    {
      "cell_type": "code",
      "execution_count": null,
      "metadata": {
        "colab": {
          "base_uri": "https://localhost:8080/",
          "height": 295
        },
        "id": "TC6Fr5B9nuyT",
        "outputId": "289b90a7-feb2-4bba-89bf-cd4a1053bd30"
      },
      "outputs": [
        {
          "data": {
            "image/png": "[encoded data removed]",
            "text/plain": [
              "<Figure size 432x288 with 1 Axes>"
            ]
          },
          "metadata": {},
          "output_type": "display_data"
        }
      ],
      "source": [
        "plt.scatter(dataset['Dgr'],dataset['Fr'],alpha=0.5)\n",
        "plt.title('scatter plot of Fr with c(Kg)')\n",
        "plt.xlabel('c(Kg)')\n",
        "plt.ylabel('Fr')\n",
        "plt.show()"
      ]
    },
    {
      "cell_type": "code",
      "execution_count": null,
      "metadata": {
        "colab": {
          "base_uri": "https://localhost:8080/",
          "height": 295
        },
        "id": "gg1KqQ95p_Y_",
        "outputId": "2ad44bc4-abd5-4827-ad59-de5cf26194e2"
      },
      "outputs": [
        {
          "data": {
            "image/png": "[encoded data removed]",
            "text/plain": [
              "<Figure size 432x288 with 1 Axes>"
            ]
          },
          "metadata": {},
          "output_type": "display_data"
        }
      ],
      "source": [
        "plt.scatter(dataset['i'],dataset['Fr'],alpha=0.5)\n",
        "plt.title('scatter plot of Fr with i')\n",
        "plt.xlabel('i')\n",
        "plt.ylabel('Fr')\n",
        "plt.show()"
      ]
    },
    {
      "cell_type": "code",
      "execution_count": null,
      "metadata": {
        "colab": {
          "base_uri": "https://localhost:8080/",
          "height": 295
        },
        "id": "JQximEWqqHrx",
        "outputId": "76304d95-4225-4942-a596-e0b791187604"
      },
      "outputs": [
        {
          "data": {
            "image/png": "[encoded data removed]",
            "text/plain": [
              "<Figure size 432x288 with 1 Axes>"
            ]
          },
          "metadata": {},
          "output_type": "display_data"
        }
      ],
      "source": [
        "plt.scatter(dataset['d/R'],dataset['Fr'],alpha=0.5)\n",
        "plt.title('scatter plot of Fr with d/R')\n",
        "plt.xlabel('d/R')\n",
        "plt.ylabel('Fr')\n",
        "plt.show()"
      ]
    },
    {
      "cell_type": "code",
      "execution_count": null,
      "metadata": {
        "colab": {
          "base_uri": "https://localhost:8080/",
          "height": 295
        },
        "id": "YT0ZfS1aqQ4w",
        "outputId": "0ef85137-f15e-4ab7-e7dd-d10d76f3df21"
      },
      "outputs": [
        {
          "data": {
            "image/png": "[encoded data removed]",
            "text/plain": [
              "<Figure size 432x288 with 1 Axes>"
            ]
          },
          "metadata": {},
          "output_type": "display_data"
        }
      ],
      "source": [
        "plt.scatter(dataset['c(kg)'],dataset['Fr'],alpha=0.5)\n",
        "plt.title('scatter plot of Fr with c(Kg)')\n",
        "plt.xlabel('c(Kg)')\n",
        "plt.ylabel('Fr')\n",
        "plt.show()"
      ]
    },
    {
      "cell_type": "code",
      "execution_count": null,
      "metadata": {
        "id": "08AG1XNUuxPl"
      },
      "outputs": [],
      "source": [
        "print(X)"
      ]
    },
    {
      "cell_type": "code",
      "execution_count": null,
      "metadata": {
        "id": "SjQ3opq1u27I"
      },
      "outputs": [],
      "source": [
        "print(y)"
      ]
    },
    {
      "cell_type": "code",
      "execution_count": null,
      "metadata": {
        "id": "C_LoI14au48m"
      },
      "outputs": [],
      "source": [
        "from sklearn.model_selection import train_test_split\n",
        "X_train, X_test, y_train, y_test = train_test_split(X, y, test_size = 0.2, random_state = 1)"
      ]
    },
    {
      "cell_type": "code",
      "execution_count": null,
      "metadata": {
        "id": "sIxN34Dtvj0p"
      },
      "outputs": [],
      "source": [
        "print(X_train)"
      ]
    },
    {
      "cell_type": "code",
      "execution_count": null,
      "metadata": {
        "id": "j3vqRgBUvmy_"
      },
      "outputs": [],
      "source": [
        "print(y_train)"
      ]
    },
    {
      "cell_type": "code",
      "execution_count": null,
      "metadata": {
        "id": "zRgp9gs0v8SA"
      },
      "outputs": [],
      "source": [
        "from sklearn.preprocessing import StandardScaler\n",
        "sc = StandardScaler()\n",
        "X_train[:, :] = sc.fit_transform(X_train[:, :])\n",
        "X_test[:, :] = sc.transform(X_test[:, :])"
      ]
    },
    {
      "cell_type": "code",
      "execution_count": null,
      "metadata": {
        "id": "mDuqcgvKwEzp"
      },
      "outputs": [],
      "source": [
        "print(X_train)"
      ]
    },
    {
      "cell_type": "code",
      "execution_count": null,
      "metadata": {
        "id": "E9lo9t_PwGra"
      },
      "outputs": [],
      "source": [
        "print(X_test)"
      ]
    },
    {
      "cell_type": "markdown",
      "metadata": {
        "id": "lL2OkdPijeqs"
      },
      "source": [
        "Evaluation of linear regression model"
      ]
    },
    {
      "cell_type": "code",
      "execution_count": null,
      "metadata": {
        "id": "egg3Of7lwIY4"
      },
      "outputs": [],
      "source": [
        "from sklearn.linear_model import LinearRegression\n",
        "regressor = LinearRegression()\n",
        "regressor.fit(X_train, y_train)"
      ]
    },
    {
      "cell_type": "code",
      "execution_count": null,
      "metadata": {
        "id": "6MzKWD8SyEWB"
      },
      "outputs": [],
      "source": [
        "y_pred_linear = regressor.predict(X_test)\n",
        "print(np.concatenate((y_pred_linear.reshape(len(y_pred_linear),1), y_test.reshape(len(y_test),1)),1))"
      ]
    },
    {
      "cell_type": "code",
      "execution_count": null,
      "metadata": {
        "id": "2dhVRiJJreLm"
      },
      "outputs": [],
      "source": [
        "r2_score(y_test, y_pred_linear)"
      ]
    },
    {
      "cell_type": "code",
      "execution_count": null,
      "metadata": {
        "id": "mFMzdUnWliEv"
      },
      "outputs": [],
      "source": [
        "print(\"Model slope:    \", regressor.coef_[0])\n",
        "print(\"Model intercept:\", regressor.intercept_)"
      ]
    },
    {
      "cell_type": "code",
      "execution_count": null,
      "metadata": {
        "id": "dpdiQSg6hDGx"
      },
      "outputs": [],
      "source": [
        "print('MAE:', metrics.mean_absolute_error(y_test, y_pred_linear))\n",
        "print('MSE:', metrics.mean_squared_error(y_test, y_pred_linear))\n",
        "print('RMSE:', np.sqrt(metrics.mean_squared_error(y_test, y_pred_linear)))\n",
        "print('R2:', np.sqrt(metrics.mean_squared_error(y_test, y_pred_linear)))\n",
        "print('BIAS:', np.sqrt(metrics.mean_squared_error(y_test, y_pred_linear)))\n",
        "print('IQRREST:', np.sqrt(metrics.mean_squared_error(y_test, y_pred_linear)))"
      ]
    },
    {
      "cell_type": "code",
      "execution_count": null,
      "metadata": {
        "id": "nRoxETTCjqEf"
      },
      "outputs": [],
      "source": [
        "plt.scatter(y_pred_linear,y_test,color = 'blue')\n",
        "plt.title('Comparing predicted and test Fr')\n",
        "plt.xlabel('Predicted Fr',size=16)\n",
        "plt.ylabel('test Fr',size=16,)\n",
        "plt.show()"
      ]
    },
    {
      "cell_type": "code",
      "execution_count": null,
      "metadata": {
        "id": "NhGG_Paymbkt"
      },
      "outputs": [],
      "source": [
        "sns.distplot((y_pred_linear),bins=50)"
      ]
    },
    {
      "cell_type": "markdown",
      "metadata": {
        "id": "2ozNF4-T7GqS"
      },
      "source": [
        "Gradient Boosting Regressor"
      ]
    },
    {
      "cell_type": "code",
      "execution_count": null,
      "metadata": {
        "colab": {
          "base_uri": "https://localhost:8080/"
        },
        "id": "O5RKsJUs7ESd",
        "outputId": "5544eb77-b4db-4901-af88-5faaf960e366"
      },
      "outputs": [
        {
          "name": "stderr",
          "output_type": "stream",
          "text": [
            "/usr/local/lib/python3.7/dist-packages/sklearn/ensemble/_gb.py:290: FutureWarning: The loss 'ls' was deprecated in v1.0 and will be removed in version 1.2. Use 'squared_error' which is equivalent.\n",
            "  FutureWarning,\n"
          ]
        },
        {
          "data": {
            "text/plain": [
              "GradientBoostingRegressor(loss='ls', max_depth=5, n_estimators=400)"
            ]
          },
          "execution_count": 28,
          "metadata": {},
          "output_type": "execute_result"
        }
      ],
      "source": [
        "from sklearn import ensemble\n",
        "reg_grad= ensemble.GradientBoostingRegressor(n_estimators = 400, max_depth = 5, min_samples_split = 2,\n",
        "          learning_rate = 0.1, loss = 'ls')\n",
        "reg_grad.fit(X_train, y_train)"
      ]
    },
    {
      "cell_type": "code",
      "execution_count": null,
      "metadata": {
        "id": "EkN2_7Xv985l"
      },
      "outputs": [],
      "source": [
        "y_pred_GB = reg_grad.predict(X_test)"
      ]
    },
    {
      "cell_type": "code",
      "execution_count": null,
      "metadata": {
        "colab": {
          "base_uri": "https://localhost:8080/"
        },
        "id": "32OgkDfO-R5e",
        "outputId": "36fe554c-998f-4260-ac1a-32969e9b3eff"
      },
      "outputs": [
        {
          "name": "stdout",
          "output_type": "stream",
          "text": [
            "[[3.97012717 3.14228028]\n",
            " [2.53243987 2.49363017]\n",
            " [6.06407384 4.75130321]\n",
            " [1.34634564 1.49352266]\n",
            " [4.68692151 4.7773898 ]\n",
            " [4.83441711 4.79036455]\n",
            " [5.67972802 5.56149608]\n",
            " [1.79555077 1.67197665]\n",
            " [5.14109812 4.63192837]\n",
            " [2.60696815 2.65536838]\n",
            " [8.26724816 9.00581672]\n",
            " [7.85783082 9.52460319]\n",
            " [2.84521031 2.59197995]\n",
            " [7.75372824 7.99582739]\n",
            " [6.52713861 8.2377919 ]\n",
            " [1.96328708 1.93279402]\n",
            " [6.33375752 7.43718076]\n",
            " [1.84680354 2.12129361]\n",
            " [4.39402435 4.39746202]\n",
            " [2.94196671 3.13677147]\n",
            " [7.60980314 7.4230884 ]\n",
            " [1.84486982 1.7406128 ]\n",
            " [3.75266925 3.17787053]\n",
            " [2.72719675 4.20103057]\n",
            " [5.50736377 4.44151703]\n",
            " [2.82507888 3.12162504]\n",
            " [3.34138376 3.11217441]\n",
            " [2.1508456  1.79277628]\n",
            " [2.55974513 2.38926536]\n",
            " [6.99458907 6.92898385]\n",
            " [2.7215442  2.53462135]\n",
            " [5.14507677 6.03745556]\n",
            " [8.19777081 7.33978691]\n",
            " [2.08717331 2.20733863]\n",
            " [5.1278953  5.23817607]\n",
            " [4.26298964 4.72191306]\n",
            " [7.16300604 7.38126211]\n",
            " [4.04350319 3.2045597 ]\n",
            " [7.27907445 6.42001097]\n",
            " [7.49988984 7.61114509]\n",
            " [4.91432416 4.41362916]\n",
            " [3.81818977 4.1613982 ]\n",
            " [1.62329761 2.2951929 ]\n",
            " [1.63017361 1.47568251]\n",
            " [4.08593077 4.44914495]\n",
            " [3.016145   3.65750101]\n",
            " [4.13227345 3.86698636]\n",
            " [2.88563893 2.92798478]\n",
            " [2.52725009 2.11389323]\n",
            " [2.02757411 2.001736  ]\n",
            " [5.77169986 4.71116209]\n",
            " [7.51516028 7.30831438]\n",
            " [4.52158036 3.21588324]\n",
            " [5.01517278 4.57232627]\n",
            " [3.66228555 3.64617747]\n",
            " [5.67911162 6.91953582]\n",
            " [1.55789766 1.63079496]\n",
            " [4.05334239 4.84081016]\n",
            " [6.60763534 6.65218118]\n",
            " [1.9078048  2.09477534]\n",
            " [2.82544431 3.12162504]\n",
            " [3.86071993 3.53860391]\n",
            " [2.84192636 3.41222677]\n",
            " [1.91214347 2.29244746]\n",
            " [3.60657831 4.73889836]\n",
            " [4.71614509 5.45640967]\n",
            " [5.44476382 6.67702872]\n",
            " [7.03052663 9.28263868]\n",
            " [2.79458431 2.84977181]\n",
            " [1.72665832 1.70766745]\n",
            " [2.77352174 3.72157699]\n",
            " [7.42266181 8.39493912]\n",
            " [4.75707883 5.62616464]\n",
            " [2.27971609 2.05639091]\n",
            " [4.11183103 4.05382464]\n",
            " [2.02547457 2.10762988]\n",
            " [2.29579457 2.30233799]\n",
            " [2.08470559 2.11787768]]\n"
          ]
        }
      ],
      "source": [
        "print(np.concatenate((y_pred_GB.reshape(len(y_pred_GB),1), y_test.reshape(len(y_test),1)),1))"
      ]
    },
    {
      "cell_type": "code",
      "execution_count": null,
      "metadata": {
        "colab": {
          "base_uri": "https://localhost:8080/",
          "height": 300
        },
        "id": "GDvqOBMtEMuy",
        "outputId": "836596b2-70e8-4972-becc-f07545d5d18c"
      },
      "outputs": [
        {
          "data": {
            "image/png": "[encoded data removed]",
            "text/plain": [
              "<Figure size 432x288 with 1 Axes>"
            ]
          },
          "metadata": {},
          "output_type": "display_data"
        }
      ],
      "source": [
        "plt.scatter(y_pred_GB,y_test,color = 'blue')\n",
        "plt.title('Comparing predicted and test Fr')\n",
        "plt.xlabel('Predicted Fr',size=16)\n",
        "plt.ylabel('test Fr',size=16,)\n",
        "plt.show()"
      ]
    },
    {
      "cell_type": "code",
      "execution_count": null,
      "metadata": {
        "colab": {
          "base_uri": "https://localhost:8080/"
        },
        "id": "CsJA_Yd7EWu2",
        "outputId": "dea1345a-4a32-46c1-ec48-afeab76a0850"
      },
      "outputs": [
        {
          "data": {
            "text/plain": [
              "0.8981085342187137"
            ]
          },
          "execution_count": 32,
          "metadata": {},
          "output_type": "execute_result"
        }
      ],
      "source": [
        "r2_score(y_test, y_pred_GB)"
      ]
    },
    {
      "cell_type": "code",
      "execution_count": null,
      "metadata": {
        "colab": {
          "base_uri": "https://localhost:8080/"
        },
        "id": "3qeXX-yJhqrf",
        "outputId": "25065ed8-6324-4948-d164-61f8540e9dfe"
      },
      "outputs": [
        {
          "name": "stdout",
          "output_type": "stream",
          "text": [
            "MAE: 0.48252177758447534\n",
            "MSE: 0.4663671406375111\n",
            "RMSE: 0.6829107852695776\n",
            "R2: 0.6829107852695776\n",
            "BIAS: 0.6829107852695776\n",
            "IQRREST: 0.6829107852695776\n"
          ]
        }
      ],
      "source": [
        "print('MAE:', metrics.mean_absolute_error(y_test, y_pred_GB))\n",
        "print('MSE:', metrics.mean_squared_error(y_test, y_pred_GB))\n",
        "print('RMSE:', np.sqrt(metrics.mean_squared_error(y_test, y_pred_GB)))\n",
        "print('R2:', np.sqrt(metrics.mean_squared_error(y_test, y_pred_GB)))\n",
        "print('BIAS:', np.sqrt(metrics.mean_squared_error(y_test, y_pred_GB)))\n",
        "print('IQRREST:', np.sqrt(metrics.mean_squared_error(y_test, y_pred_GB)))"
      ]
    },
    {
      "cell_type": "markdown",
      "metadata": {
        "id": "eeqFtn08-ci6"
      },
      "source": [
        "Cat Boost Regressor"
      ]
    },
    {
      "cell_type": "code",
      "execution_count": null,
      "metadata": {
        "colab": {
          "background_save": true,
          "base_uri": "https://localhost:8080/"
        },
        "id": "iXCER2nR-b7C",
        "outputId": "e3ca7d16-7f4d-4aee-92a8-b9cad10a40f1"
      },
      "outputs": [
        {
          "name": "stdout",
          "output_type": "stream",
          "text": [
            "Collecting catboost\n",
            "  Downloading catboost-1.0.5-cp37-none-manylinux1_x86_64.whl (76.6 MB)\n",
            "\u001b[K     |████████████████████████████████| 76.6 MB 1.3 MB/s \n",
            "\u001b[?25hRequirement already satisfied: scipy in /usr/local/lib/python3.7/dist-packages (from catboost) (1.4.1)\n",
            "Requirement already satisfied: matplotlib in /usr/local/lib/python3.7/dist-packages (from catboost) (3.2.2)\n",
            "Requirement already satisfied: plotly in /usr/local/lib/python3.7/dist-packages (from catboost) (5.5.0)\n",
            "Requirement already satisfied: graphviz in /usr/local/lib/python3.7/dist-packages (from catboost) (0.10.1)\n",
            "Requirement already satisfied: pandas>=0.24.0 in /usr/local/lib/python3.7/dist-packages (from catboost) (1.3.5)\n",
            "Requirement already satisfied: six in /usr/local/lib/python3.7/dist-packages (from catboost) (1.15.0)\n",
            "Requirement already satisfied: numpy>=1.16.0 in /usr/local/lib/python3.7/dist-packages (from catboost) (1.21.6)\n",
            "Requirement already satisfied: pytz>=2017.3 in /usr/local/lib/python3.7/dist-packages (from pandas>=0.24.0->catboost) (2022.1)\n",
            "Requirement already satisfied: python-dateutil>=2.7.3 in /usr/local/lib/python3.7/dist-packages (from pandas>=0.24.0->catboost) (2.8.2)\n",
            "Requirement already satisfied: kiwisolver>=1.0.1 in /usr/local/lib/python3.7/dist-packages (from matplotlib->catboost) (1.4.2)\n",
            "Requirement already satisfied: pyparsing!=2.0.4,!=2.1.2,!=2.1.6,>=2.0.1 in /usr/local/lib/python3.7/dist-packages (from matplotlib->catboost) (3.0.8)\n",
            "Requirement already satisfied: cycler>=0.10 in /usr/local/lib/python3.7/dist-packages (from matplotlib->catboost) (0.11.0)\n",
            "Requirement already satisfied: typing-extensions in /usr/local/lib/python3.7/dist-packages (from kiwisolver>=1.0.1->matplotlib->catboost) (4.2.0)\n",
            "Requirement already satisfied: tenacity>=6.2.0 in /usr/local/lib/python3.7/dist-packages (from plotly->catboost) (8.0.1)\n",
            "Installing collected packages: catboost\n",
            "Successfully installed catboost-1.0.5\n"
          ]
        }
      ],
      "source": [
        "!pip install catboost"
      ]
    },
    {
      "cell_type": "code",
      "execution_count": null,
      "metadata": {
        "colab": {
          "background_save": true
        },
        "id": "iVuxbuow42_-"
      },
      "outputs": [],
      "source": [
        "# from catboost import Pool\n",
        "from catboost import CatBoostRegressor\n",
        "# train_data = Pool(data=X_train,\n",
        "#                   label=y_train\n",
        "#                  )\n",
        "\n",
        "# test_data = Pool(data=X_test,\n",
        "#                   label=y_test,\n",
        "                  \n",
        "#                  )"
      ]
    },
    {
      "cell_type": "code",
      "execution_count": null,
      "metadata": {
        "colab": {
          "background_save": true,
          "base_uri": "https://localhost:8080/",
          "height": 1000,
          "referenced_widgets": [
            "0a0fb19d248642318639e0b097977d22"
          ]
        },
        "id": "w4fEmi9K33Dy",
        "outputId": "f00eb4af-6a85-4788-a689-30730b66c5d4"
      },
      "outputs": [
        {
          "data": {
            "application/vnd.jupyter.widget-view+json": {
              "model_id": "0a0fb19d248642318639e0b097977d22",
              "version_major": 2,
              "version_minor": 0
            },
            "text/plain": [
              "MetricVisualizer(layout=Layout(align_self='stretch', height='500px'))"
            ]
          },
          "metadata": {},
          "output_type": "display_data"
        },
        {
          "name": "stdout",
          "output_type": "stream",
          "text": [
            "Learning rate set to 0.042347\n",
            "0:\tlearn: 2.2248866\ttest: 2.1062905\tbest: 2.1062905 (0)\ttotal: 47.2ms\tremaining: 47.1s\n",
            "1:\tlearn: 2.1588175\ttest: 2.0550473\tbest: 2.0550473 (1)\ttotal: 48.3ms\tremaining: 24.1s\n",
            "2:\tlearn: 2.0958976\ttest: 1.9943098\tbest: 1.9943098 (2)\ttotal: 49.4ms\tremaining: 16.4s\n",
            "3:\tlearn: 2.0412080\ttest: 1.9501523\tbest: 1.9501523 (3)\ttotal: 50.5ms\tremaining: 12.6s\n",
            "4:\tlearn: 1.9772787\ttest: 1.8963092\tbest: 1.8963092 (4)\ttotal: 51.5ms\tremaining: 10.3s\n",
            "5:\tlearn: 1.9186264\ttest: 1.8454275\tbest: 1.8454275 (5)\ttotal: 52.7ms\tremaining: 8.72s\n",
            "6:\tlearn: 1.8603524\ttest: 1.7937884\tbest: 1.7937884 (6)\ttotal: 53.7ms\tremaining: 7.62s\n",
            "7:\tlearn: 1.8063145\ttest: 1.7473514\tbest: 1.7473514 (7)\ttotal: 54.8ms\tremaining: 6.8s\n",
            "8:\tlearn: 1.7549889\ttest: 1.7053601\tbest: 1.7053601 (8)\ttotal: 55.9ms\tremaining: 6.16s\n",
            "9:\tlearn: 1.7130148\ttest: 1.6765806\tbest: 1.6765806 (9)\ttotal: 57ms\tremaining: 5.64s\n",
            "10:\tlearn: 1.6740402\ttest: 1.6422407\tbest: 1.6422407 (10)\ttotal: 58.1ms\tremaining: 5.22s\n",
            "11:\tlearn: 1.6293933\ttest: 1.6012831\tbest: 1.6012831 (11)\ttotal: 59.2ms\tremaining: 4.87s\n",
            "12:\tlearn: 1.5827990\ttest: 1.5586015\tbest: 1.5586015 (12)\ttotal: 60.3ms\tremaining: 4.58s\n",
            "13:\tlearn: 1.5389514\ttest: 1.5217832\tbest: 1.5217832 (13)\ttotal: 61.4ms\tremaining: 4.32s\n",
            "14:\tlearn: 1.4986129\ttest: 1.4941858\tbest: 1.4941858 (14)\ttotal: 62.5ms\tremaining: 4.1s\n",
            "15:\tlearn: 1.4576007\ttest: 1.4603709\tbest: 1.4603709 (15)\ttotal: 63.6ms\tremaining: 3.91s\n",
            "16:\tlearn: 1.4220100\ttest: 1.4249449\tbest: 1.4249449 (16)\ttotal: 64.7ms\tremaining: 3.74s\n",
            "17:\tlearn: 1.3849012\ttest: 1.3949667\tbest: 1.3949667 (17)\ttotal: 65.8ms\tremaining: 3.59s\n",
            "18:\tlearn: 1.3501225\ttest: 1.3680230\tbest: 1.3680230 (18)\ttotal: 66.8ms\tremaining: 3.45s\n",
            "19:\tlearn: 1.3175002\ttest: 1.3461187\tbest: 1.3461187 (19)\ttotal: 67.9ms\tremaining: 3.33s\n",
            "20:\tlearn: 1.2852338\ttest: 1.3157903\tbest: 1.3157903 (20)\ttotal: 69.1ms\tremaining: 3.22s\n",
            "21:\tlearn: 1.2549400\ttest: 1.2937707\tbest: 1.2937707 (21)\ttotal: 70.2ms\tremaining: 3.12s\n",
            "22:\tlearn: 1.2250009\ttest: 1.2725518\tbest: 1.2725518 (22)\ttotal: 71.3ms\tremaining: 3.03s\n",
            "23:\tlearn: 1.1968356\ttest: 1.2489806\tbest: 1.2489806 (23)\ttotal: 72.4ms\tremaining: 2.94s\n",
            "24:\tlearn: 1.1698636\ttest: 1.2295763\tbest: 1.2295763 (24)\ttotal: 73.5ms\tremaining: 2.87s\n",
            "25:\tlearn: 1.1453891\ttest: 1.2120741\tbest: 1.2120741 (25)\ttotal: 74.6ms\tremaining: 2.79s\n",
            "26:\tlearn: 1.1200988\ttest: 1.1954799\tbest: 1.1954799 (26)\ttotal: 75.7ms\tremaining: 2.73s\n",
            "27:\tlearn: 1.0994978\ttest: 1.1785054\tbest: 1.1785054 (27)\ttotal: 76.8ms\tremaining: 2.67s\n",
            "28:\tlearn: 1.0763164\ttest: 1.1555745\tbest: 1.1555745 (28)\ttotal: 77.9ms\tremaining: 2.61s\n",
            "29:\tlearn: 1.0527425\ttest: 1.1371924\tbest: 1.1371924 (29)\ttotal: 79ms\tremaining: 2.55s\n",
            "30:\tlearn: 1.0338414\ttest: 1.1217568\tbest: 1.1217568 (30)\ttotal: 80ms\tremaining: 2.5s\n",
            "31:\tlearn: 1.0141702\ttest: 1.1061861\tbest: 1.1061861 (31)\ttotal: 81.1ms\tremaining: 2.45s\n",
            "32:\tlearn: 0.9942334\ttest: 1.0911073\tbest: 1.0911073 (32)\ttotal: 82.2ms\tremaining: 2.41s\n",
            "33:\tlearn: 0.9757518\ttest: 1.0813705\tbest: 1.0813705 (33)\ttotal: 83.3ms\tremaining: 2.37s\n",
            "34:\tlearn: 0.9583582\ttest: 1.0702136\tbest: 1.0702136 (34)\ttotal: 84.4ms\tremaining: 2.33s\n",
            "35:\tlearn: 0.9417173\ttest: 1.0580824\tbest: 1.0580824 (35)\ttotal: 85.2ms\tremaining: 2.28s\n",
            "36:\tlearn: 0.9272151\ttest: 1.0478199\tbest: 1.0478199 (36)\ttotal: 86.3ms\tremaining: 2.25s\n",
            "37:\tlearn: 0.9109980\ttest: 1.0380529\tbest: 1.0380529 (37)\ttotal: 87.4ms\tremaining: 2.21s\n",
            "38:\tlearn: 0.8964879\ttest: 1.0279061\tbest: 1.0279061 (38)\ttotal: 88.6ms\tremaining: 2.18s\n",
            "39:\tlearn: 0.8813047\ttest: 1.0162631\tbest: 1.0162631 (39)\ttotal: 89.8ms\tremaining: 2.15s\n",
            "40:\tlearn: 0.8681215\ttest: 1.0080579\tbest: 1.0080579 (40)\ttotal: 90.9ms\tremaining: 2.13s\n",
            "41:\tlearn: 0.8512855\ttest: 0.9960083\tbest: 0.9960083 (41)\ttotal: 91.9ms\tremaining: 2.1s\n",
            "42:\tlearn: 0.8378790\ttest: 0.9866573\tbest: 0.9866573 (42)\ttotal: 93ms\tremaining: 2.07s\n",
            "43:\tlearn: 0.8252456\ttest: 0.9792367\tbest: 0.9792367 (43)\ttotal: 94.1ms\tremaining: 2.04s\n",
            "44:\tlearn: 0.8131390\ttest: 0.9701218\tbest: 0.9701218 (44)\ttotal: 95.2ms\tremaining: 2.02s\n",
            "45:\tlearn: 0.8002755\ttest: 0.9595285\tbest: 0.9595285 (45)\ttotal: 96.3ms\tremaining: 2s\n",
            "46:\tlearn: 0.7881918\ttest: 0.9509561\tbest: 0.9509561 (46)\ttotal: 97.4ms\tremaining: 1.98s\n",
            "47:\tlearn: 0.7766635\ttest: 0.9451033\tbest: 0.9451033 (47)\ttotal: 98.5ms\tremaining: 1.95s\n",
            "48:\tlearn: 0.7646581\ttest: 0.9378545\tbest: 0.9378545 (48)\ttotal: 99.6ms\tremaining: 1.93s\n",
            "49:\tlearn: 0.7539940\ttest: 0.9327506\tbest: 0.9327506 (49)\ttotal: 101ms\tremaining: 1.91s\n",
            "50:\tlearn: 0.7448407\ttest: 0.9283082\tbest: 0.9283082 (50)\ttotal: 102ms\tremaining: 1.89s\n",
            "51:\tlearn: 0.7349624\ttest: 0.9227121\tbest: 0.9227121 (51)\ttotal: 104ms\tremaining: 1.89s\n",
            "52:\tlearn: 0.7243882\ttest: 0.9137337\tbest: 0.9137337 (52)\ttotal: 105ms\tremaining: 1.87s\n",
            "53:\tlearn: 0.7166194\ttest: 0.9121219\tbest: 0.9121219 (53)\ttotal: 106ms\tremaining: 1.85s\n",
            "54:\tlearn: 0.7066216\ttest: 0.9077123\tbest: 0.9077123 (54)\ttotal: 107ms\tremaining: 1.84s\n",
            "55:\tlearn: 0.6981597\ttest: 0.9035105\tbest: 0.9035105 (55)\ttotal: 108ms\tremaining: 1.82s\n",
            "56:\tlearn: 0.6903179\ttest: 0.8987138\tbest: 0.8987138 (56)\ttotal: 109ms\tremaining: 1.81s\n",
            "57:\tlearn: 0.6818882\ttest: 0.8929737\tbest: 0.8929737 (57)\ttotal: 110ms\tremaining: 1.79s\n",
            "58:\tlearn: 0.6743312\ttest: 0.8904420\tbest: 0.8904420 (58)\ttotal: 112ms\tremaining: 1.78s\n",
            "59:\tlearn: 0.6654172\ttest: 0.8844875\tbest: 0.8844875 (59)\ttotal: 113ms\tremaining: 1.77s\n",
            "60:\tlearn: 0.6587864\ttest: 0.8778755\tbest: 0.8778755 (60)\ttotal: 114ms\tremaining: 1.75s\n",
            "61:\tlearn: 0.6521276\ttest: 0.8748980\tbest: 0.8748980 (61)\ttotal: 115ms\tremaining: 1.74s\n",
            "62:\tlearn: 0.6456604\ttest: 0.8698242\tbest: 0.8698242 (62)\ttotal: 116ms\tremaining: 1.73s\n",
            "63:\tlearn: 0.6397269\ttest: 0.8660643\tbest: 0.8660643 (63)\ttotal: 117ms\tremaining: 1.71s\n",
            "64:\tlearn: 0.6334146\ttest: 0.8610226\tbest: 0.8610226 (64)\ttotal: 118ms\tremaining: 1.7s\n",
            "65:\tlearn: 0.6269995\ttest: 0.8569976\tbest: 0.8569976 (65)\ttotal: 119ms\tremaining: 1.69s\n",
            "66:\tlearn: 0.6220840\ttest: 0.8539461\tbest: 0.8539461 (66)\ttotal: 120ms\tremaining: 1.68s\n",
            "67:\tlearn: 0.6171274\ttest: 0.8515792\tbest: 0.8515792 (67)\ttotal: 121ms\tremaining: 1.66s\n",
            "68:\tlearn: 0.6102373\ttest: 0.8485725\tbest: 0.8485725 (68)\ttotal: 123ms\tremaining: 1.65s\n",
            "69:\tlearn: 0.6044222\ttest: 0.8440447\tbest: 0.8440447 (69)\ttotal: 124ms\tremaining: 1.64s\n",
            "70:\tlearn: 0.5994818\ttest: 0.8423233\tbest: 0.8423233 (70)\ttotal: 125ms\tremaining: 1.63s\n",
            "71:\tlearn: 0.5942033\ttest: 0.8393866\tbest: 0.8393866 (71)\ttotal: 126ms\tremaining: 1.62s\n",
            "72:\tlearn: 0.5895008\ttest: 0.8380321\tbest: 0.8380321 (72)\ttotal: 127ms\tremaining: 1.61s\n",
            "73:\tlearn: 0.5847066\ttest: 0.8368248\tbest: 0.8368248 (73)\ttotal: 128ms\tremaining: 1.6s\n",
            "74:\tlearn: 0.5802955\ttest: 0.8351268\tbest: 0.8351268 (74)\ttotal: 129ms\tremaining: 1.59s\n",
            "75:\tlearn: 0.5752138\ttest: 0.8346431\tbest: 0.8346431 (75)\ttotal: 130ms\tremaining: 1.58s\n",
            "76:\tlearn: 0.5700038\ttest: 0.8311508\tbest: 0.8311508 (76)\ttotal: 131ms\tremaining: 1.57s\n",
            "77:\tlearn: 0.5660301\ttest: 0.8303521\tbest: 0.8303521 (77)\ttotal: 132ms\tremaining: 1.56s\n",
            "78:\tlearn: 0.5618963\ttest: 0.8289676\tbest: 0.8289676 (78)\ttotal: 134ms\tremaining: 1.56s\n",
            "79:\tlearn: 0.5573094\ttest: 0.8276401\tbest: 0.8276401 (79)\ttotal: 135ms\tremaining: 1.55s\n",
            "80:\tlearn: 0.5533990\ttest: 0.8254342\tbest: 0.8254342 (80)\ttotal: 136ms\tremaining: 1.54s\n",
            "81:\tlearn: 0.5488656\ttest: 0.8217420\tbest: 0.8217420 (81)\ttotal: 137ms\tremaining: 1.53s\n",
            "82:\tlearn: 0.5448846\ttest: 0.8180315\tbest: 0.8180315 (82)\ttotal: 138ms\tremaining: 1.53s\n",
            "83:\tlearn: 0.5409287\ttest: 0.8159675\tbest: 0.8159675 (83)\ttotal: 139ms\tremaining: 1.52s\n",
            "84:\tlearn: 0.5367057\ttest: 0.8148384\tbest: 0.8148384 (84)\ttotal: 140ms\tremaining: 1.51s\n",
            "85:\tlearn: 0.5332537\ttest: 0.8132939\tbest: 0.8132939 (85)\ttotal: 141ms\tremaining: 1.5s\n",
            "86:\tlearn: 0.5295318\ttest: 0.8116530\tbest: 0.8116530 (86)\ttotal: 143ms\tremaining: 1.5s\n",
            "87:\tlearn: 0.5265753\ttest: 0.8085245\tbest: 0.8085245 (87)\ttotal: 144ms\tremaining: 1.49s\n",
            "88:\tlearn: 0.5226708\ttest: 0.8080522\tbest: 0.8080522 (88)\ttotal: 145ms\tremaining: 1.48s\n",
            "89:\tlearn: 0.5188463\ttest: 0.8068923\tbest: 0.8068923 (89)\ttotal: 146ms\tremaining: 1.47s\n",
            "90:\tlearn: 0.5166601\ttest: 0.8062206\tbest: 0.8062206 (90)\ttotal: 147ms\tremaining: 1.47s\n",
            "91:\tlearn: 0.5146493\ttest: 0.8056257\tbest: 0.8056257 (91)\ttotal: 148ms\tremaining: 1.46s\n",
            "92:\tlearn: 0.5115549\ttest: 0.8039776\tbest: 0.8039776 (92)\ttotal: 149ms\tremaining: 1.45s\n",
            "93:\tlearn: 0.5083021\ttest: 0.8014147\tbest: 0.8014147 (93)\ttotal: 150ms\tremaining: 1.44s\n",
            "94:\tlearn: 0.5053572\ttest: 0.7990587\tbest: 0.7990587 (94)\ttotal: 151ms\tremaining: 1.44s\n",
            "95:\tlearn: 0.5030475\ttest: 0.7980004\tbest: 0.7980004 (95)\ttotal: 152ms\tremaining: 1.43s\n",
            "96:\tlearn: 0.5000457\ttest: 0.7950166\tbest: 0.7950166 (96)\ttotal: 153ms\tremaining: 1.43s\n",
            "97:\tlearn: 0.4976544\ttest: 0.7925840\tbest: 0.7925840 (97)\ttotal: 154ms\tremaining: 1.42s\n",
            "98:\tlearn: 0.4950244\ttest: 0.7907159\tbest: 0.7907159 (98)\ttotal: 156ms\tremaining: 1.42s\n",
            "99:\tlearn: 0.4923977\ttest: 0.7894141\tbest: 0.7894141 (99)\ttotal: 157ms\tremaining: 1.41s\n",
            "100:\tlearn: 0.4894859\ttest: 0.7861775\tbest: 0.7861775 (100)\ttotal: 158ms\tremaining: 1.4s\n",
            "101:\tlearn: 0.4878039\ttest: 0.7853048\tbest: 0.7853048 (101)\ttotal: 159ms\tremaining: 1.4s\n",
            "102:\tlearn: 0.4856984\ttest: 0.7843727\tbest: 0.7843727 (102)\ttotal: 160ms\tremaining: 1.39s\n",
            "103:\tlearn: 0.4823145\ttest: 0.7821111\tbest: 0.7821111 (103)\ttotal: 161ms\tremaining: 1.39s\n",
            "104:\tlearn: 0.4794051\ttest: 0.7809664\tbest: 0.7809664 (104)\ttotal: 162ms\tremaining: 1.38s\n",
            "105:\tlearn: 0.4774762\ttest: 0.7806185\tbest: 0.7806185 (105)\ttotal: 163ms\tremaining: 1.37s\n",
            "106:\tlearn: 0.4761828\ttest: 0.7795621\tbest: 0.7795621 (106)\ttotal: 164ms\tremaining: 1.37s\n",
            "107:\tlearn: 0.4739825\ttest: 0.7793656\tbest: 0.7793656 (107)\ttotal: 165ms\tremaining: 1.36s\n",
            "108:\tlearn: 0.4718949\ttest: 0.7787814\tbest: 0.7787814 (108)\ttotal: 166ms\tremaining: 1.36s\n",
            "109:\tlearn: 0.4695522\ttest: 0.7787039\tbest: 0.7787039 (109)\ttotal: 167ms\tremaining: 1.35s\n",
            "110:\tlearn: 0.4669607\ttest: 0.7762176\tbest: 0.7762176 (110)\ttotal: 168ms\tremaining: 1.35s\n",
            "111:\tlearn: 0.4648933\ttest: 0.7735304\tbest: 0.7735304 (111)\ttotal: 169ms\tremaining: 1.34s\n",
            "112:\tlearn: 0.4625538\ttest: 0.7713950\tbest: 0.7713950 (112)\ttotal: 170ms\tremaining: 1.33s\n",
            "113:\tlearn: 0.4603907\ttest: 0.7706221\tbest: 0.7706221 (113)\ttotal: 171ms\tremaining: 1.33s\n",
            "114:\tlearn: 0.4577332\ttest: 0.7680121\tbest: 0.7680121 (114)\ttotal: 172ms\tremaining: 1.32s\n",
            "115:\tlearn: 0.4560304\ttest: 0.7674324\tbest: 0.7674324 (115)\ttotal: 173ms\tremaining: 1.32s\n",
            "116:\tlearn: 0.4541549\ttest: 0.7667320\tbest: 0.7667320 (116)\ttotal: 174ms\tremaining: 1.32s\n",
            "117:\tlearn: 0.4524572\ttest: 0.7656644\tbest: 0.7656644 (117)\ttotal: 176ms\tremaining: 1.31s\n",
            "118:\tlearn: 0.4508435\ttest: 0.7646386\tbest: 0.7646386 (118)\ttotal: 177ms\tremaining: 1.31s\n",
            "119:\tlearn: 0.4489120\ttest: 0.7634552\tbest: 0.7634552 (119)\ttotal: 178ms\tremaining: 1.3s\n",
            "120:\tlearn: 0.4472448\ttest: 0.7628393\tbest: 0.7628393 (120)\ttotal: 181ms\tremaining: 1.31s\n",
            "121:\tlearn: 0.4457237\ttest: 0.7611340\tbest: 0.7611340 (121)\ttotal: 182ms\tremaining: 1.31s\n",
            "122:\tlearn: 0.4440053\ttest: 0.7609393\tbest: 0.7609393 (122)\ttotal: 184ms\tremaining: 1.31s\n",
            "123:\tlearn: 0.4423531\ttest: 0.7602750\tbest: 0.7602750 (123)\ttotal: 186ms\tremaining: 1.31s\n",
            "124:\tlearn: 0.4414012\ttest: 0.7603772\tbest: 0.7602750 (123)\ttotal: 187ms\tremaining: 1.31s\n",
            "125:\tlearn: 0.4402859\ttest: 0.7594111\tbest: 0.7594111 (125)\ttotal: 188ms\tremaining: 1.31s\n",
            "126:\tlearn: 0.4380398\ttest: 0.7583147\tbest: 0.7583147 (126)\ttotal: 189ms\tremaining: 1.3s\n",
            "127:\tlearn: 0.4366518\ttest: 0.7575719\tbest: 0.7575719 (127)\ttotal: 190ms\tremaining: 1.3s\n",
            "128:\tlearn: 0.4348608\ttest: 0.7553089\tbest: 0.7553089 (128)\ttotal: 192ms\tremaining: 1.29s\n",
            "129:\tlearn: 0.4329140\ttest: 0.7539860\tbest: 0.7539860 (129)\ttotal: 193ms\tremaining: 1.29s\n",
            "130:\tlearn: 0.4311193\ttest: 0.7523172\tbest: 0.7523172 (130)\ttotal: 194ms\tremaining: 1.28s\n",
            "131:\tlearn: 0.4302282\ttest: 0.7516300\tbest: 0.7516300 (131)\ttotal: 195ms\tremaining: 1.28s\n",
            "132:\tlearn: 0.4283809\ttest: 0.7493350\tbest: 0.7493350 (132)\ttotal: 196ms\tremaining: 1.28s\n",
            "133:\tlearn: 0.4273298\ttest: 0.7482242\tbest: 0.7482242 (133)\ttotal: 197ms\tremaining: 1.27s\n",
            "134:\tlearn: 0.4262418\ttest: 0.7477231\tbest: 0.7477231 (134)\ttotal: 198ms\tremaining: 1.27s\n",
            "135:\tlearn: 0.4242012\ttest: 0.7464851\tbest: 0.7464851 (135)\ttotal: 199ms\tremaining: 1.27s\n",
            "136:\tlearn: 0.4226623\ttest: 0.7442639\tbest: 0.7442639 (136)\ttotal: 200ms\tremaining: 1.26s\n",
            "137:\tlearn: 0.4200704\ttest: 0.7442508\tbest: 0.7442508 (137)\ttotal: 202ms\tremaining: 1.26s\n",
            "138:\tlearn: 0.4192586\ttest: 0.7438233\tbest: 0.7438233 (138)\ttotal: 203ms\tremaining: 1.25s\n",
            "139:\tlearn: 0.4185871\ttest: 0.7433612\tbest: 0.7433612 (139)\ttotal: 204ms\tremaining: 1.25s\n",
            "140:\tlearn: 0.4175100\ttest: 0.7425309\tbest: 0.7425309 (140)\ttotal: 205ms\tremaining: 1.25s\n",
            "141:\tlearn: 0.4164829\ttest: 0.7418706\tbest: 0.7418706 (141)\ttotal: 206ms\tremaining: 1.24s\n",
            "142:\tlearn: 0.4153421\ttest: 0.7413100\tbest: 0.7413100 (142)\ttotal: 207ms\tremaining: 1.24s\n",
            "143:\tlearn: 0.4130991\ttest: 0.7398853\tbest: 0.7398853 (143)\ttotal: 208ms\tremaining: 1.24s\n",
            "144:\tlearn: 0.4116581\ttest: 0.7381043\tbest: 0.7381043 (144)\ttotal: 209ms\tremaining: 1.23s\n",
            "145:\tlearn: 0.4106127\ttest: 0.7374513\tbest: 0.7374513 (145)\ttotal: 210ms\tremaining: 1.23s\n",
            "146:\tlearn: 0.4099807\ttest: 0.7371633\tbest: 0.7371633 (146)\ttotal: 211ms\tremaining: 1.23s\n",
            "147:\tlearn: 0.4092683\ttest: 0.7370056\tbest: 0.7370056 (147)\ttotal: 212ms\tremaining: 1.22s\n",
            "148:\tlearn: 0.4082336\ttest: 0.7374495\tbest: 0.7370056 (147)\ttotal: 213ms\tremaining: 1.22s\n",
            "149:\tlearn: 0.4078163\ttest: 0.7370886\tbest: 0.7370056 (147)\ttotal: 215ms\tremaining: 1.22s\n",
            "150:\tlearn: 0.4068231\ttest: 0.7352135\tbest: 0.7352135 (150)\ttotal: 216ms\tremaining: 1.21s\n",
            "151:\tlearn: 0.4066495\ttest: 0.7353130\tbest: 0.7352135 (150)\ttotal: 216ms\tremaining: 1.21s\n",
            "152:\tlearn: 0.4057208\ttest: 0.7334932\tbest: 0.7334932 (152)\ttotal: 217ms\tremaining: 1.2s\n",
            "153:\tlearn: 0.4045532\ttest: 0.7333406\tbest: 0.7333406 (153)\ttotal: 218ms\tremaining: 1.2s\n",
            "154:\tlearn: 0.4027155\ttest: 0.7336455\tbest: 0.7333406 (153)\ttotal: 220ms\tremaining: 1.2s\n",
            "155:\tlearn: 0.4009091\ttest: 0.7326488\tbest: 0.7326488 (155)\ttotal: 221ms\tremaining: 1.19s\n",
            "156:\tlearn: 0.3998761\ttest: 0.7318721\tbest: 0.7318721 (156)\ttotal: 222ms\tremaining: 1.19s\n",
            "157:\tlearn: 0.3985196\ttest: 0.7326734\tbest: 0.7318721 (156)\ttotal: 223ms\tremaining: 1.19s\n",
            "158:\tlearn: 0.3974331\ttest: 0.7312160\tbest: 0.7312160 (158)\ttotal: 224ms\tremaining: 1.18s\n",
            "159:\tlearn: 0.3960840\ttest: 0.7295931\tbest: 0.7295931 (159)\ttotal: 225ms\tremaining: 1.18s\n",
            "160:\tlearn: 0.3957406\ttest: 0.7296587\tbest: 0.7295931 (159)\ttotal: 226ms\tremaining: 1.18s\n",
            "161:\tlearn: 0.3941458\ttest: 0.7288738\tbest: 0.7288738 (161)\ttotal: 227ms\tremaining: 1.18s\n",
            "162:\tlearn: 0.3929660\ttest: 0.7274561\tbest: 0.7274561 (162)\ttotal: 228ms\tremaining: 1.17s\n",
            "163:\tlearn: 0.3917681\ttest: 0.7273845\tbest: 0.7273845 (163)\ttotal: 229ms\tremaining: 1.17s\n",
            "164:\tlearn: 0.3898014\ttest: 0.7258018\tbest: 0.7258018 (164)\ttotal: 231ms\tremaining: 1.17s\n",
            "165:\tlearn: 0.3894999\ttest: 0.7259266\tbest: 0.7258018 (164)\ttotal: 232ms\tremaining: 1.16s\n",
            "166:\tlearn: 0.3873959\ttest: 0.7249724\tbest: 0.7249724 (166)\ttotal: 233ms\tremaining: 1.16s\n",
            "167:\tlearn: 0.3864663\ttest: 0.7244184\tbest: 0.7244184 (167)\ttotal: 234ms\tremaining: 1.16s\n",
            "168:\tlearn: 0.3852963\ttest: 0.7238686\tbest: 0.7238686 (168)\ttotal: 235ms\tremaining: 1.16s\n",
            "169:\tlearn: 0.3848694\ttest: 0.7238919\tbest: 0.7238686 (168)\ttotal: 236ms\tremaining: 1.15s\n",
            "170:\tlearn: 0.3845476\ttest: 0.7235376\tbest: 0.7235376 (170)\ttotal: 237ms\tremaining: 1.15s\n",
            "171:\tlearn: 0.3838179\ttest: 0.7226173\tbest: 0.7226173 (171)\ttotal: 238ms\tremaining: 1.15s\n",
            "172:\tlearn: 0.3828680\ttest: 0.7214569\tbest: 0.7214569 (172)\ttotal: 239ms\tremaining: 1.14s\n",
            "173:\tlearn: 0.3825591\ttest: 0.7214034\tbest: 0.7214034 (173)\ttotal: 240ms\tremaining: 1.14s\n",
            "174:\tlearn: 0.3817952\ttest: 0.7207266\tbest: 0.7207266 (174)\ttotal: 241ms\tremaining: 1.14s\n",
            "175:\tlearn: 0.3807912\ttest: 0.7202165\tbest: 0.7202165 (175)\ttotal: 242ms\tremaining: 1.14s\n",
            "176:\tlearn: 0.3805698\ttest: 0.7201743\tbest: 0.7201743 (176)\ttotal: 244ms\tremaining: 1.13s\n",
            "177:\tlearn: 0.3800852\ttest: 0.7197844\tbest: 0.7197844 (177)\ttotal: 245ms\tremaining: 1.13s\n",
            "178:\tlearn: 0.3790241\ttest: 0.7199380\tbest: 0.7197844 (177)\ttotal: 246ms\tremaining: 1.13s\n",
            "179:\tlearn: 0.3786211\ttest: 0.7196060\tbest: 0.7196060 (179)\ttotal: 247ms\tremaining: 1.12s\n",
            "180:\tlearn: 0.3781414\ttest: 0.7194385\tbest: 0.7194385 (180)\ttotal: 248ms\tremaining: 1.12s\n",
            "181:\tlearn: 0.3779106\ttest: 0.7194235\tbest: 0.7194235 (181)\ttotal: 249ms\tremaining: 1.12s\n",
            "182:\tlearn: 0.3776149\ttest: 0.7193378\tbest: 0.7193378 (182)\ttotal: 250ms\tremaining: 1.11s\n",
            "183:\tlearn: 0.3768588\ttest: 0.7190251\tbest: 0.7190251 (183)\ttotal: 251ms\tremaining: 1.11s\n",
            "184:\tlearn: 0.3766265\ttest: 0.7190165\tbest: 0.7190165 (184)\ttotal: 252ms\tremaining: 1.11s\n",
            "185:\tlearn: 0.3751929\ttest: 0.7183734\tbest: 0.7183734 (185)\ttotal: 253ms\tremaining: 1.11s\n",
            "186:\tlearn: 0.3735246\ttest: 0.7179956\tbest: 0.7179956 (186)\ttotal: 254ms\tremaining: 1.1s\n",
            "187:\tlearn: 0.3732626\ttest: 0.7179790\tbest: 0.7179790 (187)\ttotal: 255ms\tremaining: 1.1s\n",
            "188:\tlearn: 0.3730927\ttest: 0.7179830\tbest: 0.7179790 (187)\ttotal: 256ms\tremaining: 1.1s\n",
            "189:\tlearn: 0.3727887\ttest: 0.7179339\tbest: 0.7179339 (189)\ttotal: 257ms\tremaining: 1.1s\n",
            "190:\tlearn: 0.3712634\ttest: 0.7187789\tbest: 0.7179339 (189)\ttotal: 259ms\tremaining: 1.09s\n",
            "191:\tlearn: 0.3707932\ttest: 0.7186344\tbest: 0.7179339 (189)\ttotal: 260ms\tremaining: 1.09s\n",
            "192:\tlearn: 0.3693063\ttest: 0.7182032\tbest: 0.7179339 (189)\ttotal: 261ms\tremaining: 1.09s\n",
            "193:\tlearn: 0.3677592\ttest: 0.7176094\tbest: 0.7176094 (193)\ttotal: 262ms\tremaining: 1.09s\n",
            "194:\tlearn: 0.3675327\ttest: 0.7175890\tbest: 0.7175890 (194)\ttotal: 263ms\tremaining: 1.08s\n",
            "195:\tlearn: 0.3666432\ttest: 0.7160768\tbest: 0.7160768 (195)\ttotal: 264ms\tremaining: 1.08s\n",
            "196:\tlearn: 0.3657663\ttest: 0.7164247\tbest: 0.7160768 (195)\ttotal: 265ms\tremaining: 1.08s\n",
            "197:\tlearn: 0.3653801\ttest: 0.7162533\tbest: 0.7160768 (195)\ttotal: 266ms\tremaining: 1.08s\n",
            "198:\tlearn: 0.3644805\ttest: 0.7150011\tbest: 0.7150011 (198)\ttotal: 267ms\tremaining: 1.07s\n",
            "199:\tlearn: 0.3635910\ttest: 0.7136385\tbest: 0.7136385 (199)\ttotal: 268ms\tremaining: 1.07s\n",
            "200:\tlearn: 0.3626913\ttest: 0.7115994\tbest: 0.7115994 (200)\ttotal: 269ms\tremaining: 1.07s\n",
            "201:\tlearn: 0.3614337\ttest: 0.7122101\tbest: 0.7115994 (200)\ttotal: 270ms\tremaining: 1.06s\n",
            "202:\tlearn: 0.3607814\ttest: 0.7123339\tbest: 0.7115994 (200)\ttotal: 271ms\tremaining: 1.06s\n",
            "203:\tlearn: 0.3596582\ttest: 0.7113635\tbest: 0.7113635 (203)\ttotal: 272ms\tremaining: 1.06s\n",
            "204:\tlearn: 0.3593074\ttest: 0.7110971\tbest: 0.7110971 (204)\ttotal: 273ms\tremaining: 1.06s\n",
            "205:\tlearn: 0.3589250\ttest: 0.7110833\tbest: 0.7110833 (205)\ttotal: 274ms\tremaining: 1.06s\n",
            "206:\tlearn: 0.3578289\ttest: 0.7114572\tbest: 0.7110833 (205)\ttotal: 276ms\tremaining: 1.05s\n",
            "207:\tlearn: 0.3566195\ttest: 0.7118710\tbest: 0.7110833 (205)\ttotal: 277ms\tremaining: 1.05s\n",
            "208:\tlearn: 0.3553726\ttest: 0.7118082\tbest: 0.7110833 (205)\ttotal: 278ms\tremaining: 1.05s\n",
            "209:\tlearn: 0.3549045\ttest: 0.7114569\tbest: 0.7110833 (205)\ttotal: 279ms\tremaining: 1.05s\n",
            "210:\tlearn: 0.3547060\ttest: 0.7114734\tbest: 0.7110833 (205)\ttotal: 280ms\tremaining: 1.05s\n",
            "211:\tlearn: 0.3535338\ttest: 0.7114485\tbest: 0.7110833 (205)\ttotal: 281ms\tremaining: 1.04s\n",
            "212:\tlearn: 0.3532755\ttest: 0.7114372\tbest: 0.7110833 (205)\ttotal: 282ms\tremaining: 1.04s\n",
            "213:\tlearn: 0.3527291\ttest: 0.7112543\tbest: 0.7110833 (205)\ttotal: 283ms\tremaining: 1.04s\n",
            "214:\tlearn: 0.3513972\ttest: 0.7093937\tbest: 0.7093937 (214)\ttotal: 285ms\tremaining: 1.04s\n",
            "215:\tlearn: 0.3510592\ttest: 0.7094096\tbest: 0.7093937 (214)\ttotal: 286ms\tremaining: 1.04s\n",
            "216:\tlearn: 0.3504566\ttest: 0.7093845\tbest: 0.7093845 (216)\ttotal: 287ms\tremaining: 1.03s\n",
            "217:\tlearn: 0.3496390\ttest: 0.7091348\tbest: 0.7091348 (217)\ttotal: 288ms\tremaining: 1.03s\n",
            "218:\tlearn: 0.3494865\ttest: 0.7091740\tbest: 0.7091348 (217)\ttotal: 289ms\tremaining: 1.03s\n",
            "219:\tlearn: 0.3485994\ttest: 0.7086636\tbest: 0.7086636 (219)\ttotal: 290ms\tremaining: 1.03s\n",
            "220:\tlearn: 0.3481128\ttest: 0.7084764\tbest: 0.7084764 (220)\ttotal: 291ms\tremaining: 1.03s\n",
            "221:\tlearn: 0.3471566\ttest: 0.7086718\tbest: 0.7084764 (220)\ttotal: 292ms\tremaining: 1.02s\n",
            "222:\tlearn: 0.3466753\ttest: 0.7084105\tbest: 0.7084105 (222)\ttotal: 293ms\tremaining: 1.02s\n",
            "223:\tlearn: 0.3456578\ttest: 0.7083154\tbest: 0.7083154 (223)\ttotal: 294ms\tremaining: 1.02s\n",
            "224:\tlearn: 0.3447300\ttest: 0.7082412\tbest: 0.7082412 (224)\ttotal: 296ms\tremaining: 1.02s\n",
            "225:\tlearn: 0.3444292\ttest: 0.7082670\tbest: 0.7082412 (224)\ttotal: 297ms\tremaining: 1.02s\n",
            "226:\tlearn: 0.3440282\ttest: 0.7082625\tbest: 0.7082412 (224)\ttotal: 302ms\tremaining: 1.03s\n",
            "227:\tlearn: 0.3438998\ttest: 0.7083075\tbest: 0.7082412 (224)\ttotal: 305ms\tremaining: 1.03s\n",
            "228:\tlearn: 0.3430861\ttest: 0.7086241\tbest: 0.7082412 (224)\ttotal: 306ms\tremaining: 1.03s\n",
            "229:\tlearn: 0.3422956\ttest: 0.7089706\tbest: 0.7082412 (224)\ttotal: 307ms\tremaining: 1.03s\n",
            "230:\tlearn: 0.3410099\ttest: 0.7079514\tbest: 0.7079514 (230)\ttotal: 310ms\tremaining: 1.03s\n",
            "231:\tlearn: 0.3401606\ttest: 0.7077840\tbest: 0.7077840 (231)\ttotal: 312ms\tremaining: 1.03s\n",
            "232:\tlearn: 0.3391067\ttest: 0.7068024\tbest: 0.7068024 (232)\ttotal: 315ms\tremaining: 1.04s\n",
            "233:\tlearn: 0.3386557\ttest: 0.7064844\tbest: 0.7064844 (233)\ttotal: 316ms\tremaining: 1.03s\n",
            "234:\tlearn: 0.3378503\ttest: 0.7063720\tbest: 0.7063720 (234)\ttotal: 317ms\tremaining: 1.03s\n",
            "235:\tlearn: 0.3370572\ttest: 0.7060413\tbest: 0.7060413 (235)\ttotal: 318ms\tremaining: 1.03s\n",
            "236:\tlearn: 0.3359518\ttest: 0.7044510\tbest: 0.7044510 (236)\ttotal: 319ms\tremaining: 1.03s\n",
            "237:\tlearn: 0.3357448\ttest: 0.7044991\tbest: 0.7044510 (236)\ttotal: 320ms\tremaining: 1.02s\n",
            "238:\tlearn: 0.3349730\ttest: 0.7048733\tbest: 0.7044510 (236)\ttotal: 321ms\tremaining: 1.02s\n",
            "239:\tlearn: 0.3346404\ttest: 0.7046404\tbest: 0.7044510 (236)\ttotal: 322ms\tremaining: 1.02s\n",
            "240:\tlearn: 0.3339938\ttest: 0.7034868\tbest: 0.7034868 (240)\ttotal: 324ms\tremaining: 1.02s\n",
            "241:\tlearn: 0.3333760\ttest: 0.7037087\tbest: 0.7034868 (240)\ttotal: 325ms\tremaining: 1.02s\n",
            "242:\tlearn: 0.3332290\ttest: 0.7037350\tbest: 0.7034868 (240)\ttotal: 326ms\tremaining: 1.01s\n",
            "243:\tlearn: 0.3330897\ttest: 0.7037505\tbest: 0.7034868 (240)\ttotal: 327ms\tremaining: 1.01s\n",
            "244:\tlearn: 0.3327990\ttest: 0.7037454\tbest: 0.7034868 (240)\ttotal: 328ms\tremaining: 1.01s\n",
            "245:\tlearn: 0.3322868\ttest: 0.7035311\tbest: 0.7034868 (240)\ttotal: 329ms\tremaining: 1.01s\n",
            "246:\tlearn: 0.3321422\ttest: 0.7035569\tbest: 0.7034868 (240)\ttotal: 330ms\tremaining: 1s\n",
            "247:\tlearn: 0.3318806\ttest: 0.7034268\tbest: 0.7034268 (247)\ttotal: 331ms\tremaining: 1s\n",
            "248:\tlearn: 0.3317457\ttest: 0.7034556\tbest: 0.7034268 (247)\ttotal: 332ms\tremaining: 1s\n",
            "249:\tlearn: 0.3307443\ttest: 0.7020775\tbest: 0.7020775 (249)\ttotal: 333ms\tremaining: 1000ms\n",
            "250:\tlearn: 0.3301124\ttest: 0.7010854\tbest: 0.7010854 (250)\ttotal: 334ms\tremaining: 998ms\n",
            "251:\tlearn: 0.3289205\ttest: 0.7004868\tbest: 0.7004868 (251)\ttotal: 335ms\tremaining: 996ms\n",
            "252:\tlearn: 0.3280733\ttest: 0.7006926\tbest: 0.7004868 (251)\ttotal: 337ms\tremaining: 994ms\n",
            "253:\tlearn: 0.3272937\ttest: 0.7007265\tbest: 0.7004868 (251)\ttotal: 338ms\tremaining: 992ms\n",
            "254:\tlearn: 0.3270356\ttest: 0.7008251\tbest: 0.7004868 (251)\ttotal: 339ms\tremaining: 990ms\n",
            "255:\tlearn: 0.3257592\ttest: 0.7002483\tbest: 0.7002483 (255)\ttotal: 340ms\tremaining: 988ms\n",
            "256:\tlearn: 0.3256324\ttest: 0.7002619\tbest: 0.7002483 (255)\ttotal: 341ms\tremaining: 986ms\n",
            "257:\tlearn: 0.3251104\ttest: 0.6991359\tbest: 0.6991359 (257)\ttotal: 342ms\tremaining: 984ms\n",
            "258:\tlearn: 0.3245978\ttest: 0.6991130\tbest: 0.6991130 (258)\ttotal: 343ms\tremaining: 982ms\n",
            "259:\tlearn: 0.3243417\ttest: 0.6990913\tbest: 0.6990913 (259)\ttotal: 344ms\tremaining: 980ms\n",
            "260:\tlearn: 0.3241061\ttest: 0.6991515\tbest: 0.6990913 (259)\ttotal: 345ms\tremaining: 978ms\n",
            "261:\tlearn: 0.3239858\ttest: 0.6991788\tbest: 0.6990913 (259)\ttotal: 346ms\tremaining: 976ms\n",
            "262:\tlearn: 0.3231956\ttest: 0.6994287\tbest: 0.6990913 (259)\ttotal: 348ms\tremaining: 974ms\n",
            "263:\tlearn: 0.3230843\ttest: 0.6994568\tbest: 0.6990913 (259)\ttotal: 349ms\tremaining: 972ms\n",
            "264:\tlearn: 0.3220943\ttest: 0.6996225\tbest: 0.6990913 (259)\ttotal: 350ms\tremaining: 970ms\n",
            "265:\tlearn: 0.3210739\ttest: 0.6981931\tbest: 0.6981931 (265)\ttotal: 351ms\tremaining: 968ms\n",
            "266:\tlearn: 0.3203878\ttest: 0.6981229\tbest: 0.6981229 (266)\ttotal: 352ms\tremaining: 966ms\n",
            "267:\tlearn: 0.3197286\ttest: 0.6977429\tbest: 0.6977429 (267)\ttotal: 353ms\tremaining: 965ms\n",
            "268:\tlearn: 0.3194930\ttest: 0.6976186\tbest: 0.6976186 (268)\ttotal: 357ms\tremaining: 969ms\n",
            "269:\tlearn: 0.3189679\ttest: 0.6976782\tbest: 0.6976186 (268)\ttotal: 358ms\tremaining: 968ms\n",
            "270:\tlearn: 0.3185213\ttest: 0.6978966\tbest: 0.6976186 (268)\ttotal: 363ms\tremaining: 976ms\n",
            "271:\tlearn: 0.3179563\ttest: 0.6980696\tbest: 0.6976186 (268)\ttotal: 365ms\tremaining: 976ms\n",
            "272:\tlearn: 0.3173128\ttest: 0.6981972\tbest: 0.6976186 (268)\ttotal: 366ms\tremaining: 975ms\n",
            "273:\tlearn: 0.3164969\ttest: 0.6984785\tbest: 0.6976186 (268)\ttotal: 367ms\tremaining: 973ms\n",
            "274:\tlearn: 0.3157063\ttest: 0.6987693\tbest: 0.6976186 (268)\ttotal: 369ms\tremaining: 972ms\n",
            "275:\tlearn: 0.3142539\ttest: 0.6971321\tbest: 0.6971321 (275)\ttotal: 370ms\tremaining: 970ms\n",
            "276:\tlearn: 0.3137247\ttest: 0.6966290\tbest: 0.6966290 (276)\ttotal: 371ms\tremaining: 968ms\n",
            "277:\tlearn: 0.3135632\ttest: 0.6966205\tbest: 0.6966205 (277)\ttotal: 372ms\tremaining: 966ms\n",
            "278:\tlearn: 0.3132669\ttest: 0.6966118\tbest: 0.6966118 (278)\ttotal: 373ms\tremaining: 964ms\n",
            "279:\tlearn: 0.3124386\ttest: 0.6965568\tbest: 0.6965568 (279)\ttotal: 374ms\tremaining: 962ms\n",
            "280:\tlearn: 0.3116501\ttest: 0.6961309\tbest: 0.6961309 (280)\ttotal: 375ms\tremaining: 960ms\n",
            "281:\tlearn: 0.3113436\ttest: 0.6961051\tbest: 0.6961051 (281)\ttotal: 376ms\tremaining: 958ms\n",
            "282:\tlearn: 0.3104848\ttest: 0.6965064\tbest: 0.6961051 (281)\ttotal: 377ms\tremaining: 956ms\n",
            "283:\tlearn: 0.3098953\ttest: 0.6958516\tbest: 0.6958516 (283)\ttotal: 379ms\tremaining: 954ms\n",
            "284:\tlearn: 0.3094336\ttest: 0.6954527\tbest: 0.6954527 (284)\ttotal: 380ms\tremaining: 953ms\n",
            "285:\tlearn: 0.3089997\ttest: 0.6954866\tbest: 0.6954527 (284)\ttotal: 381ms\tremaining: 951ms\n",
            "286:\tlearn: 0.3085402\ttest: 0.6954495\tbest: 0.6954495 (286)\ttotal: 382ms\tremaining: 949ms\n",
            "287:\tlearn: 0.3082955\ttest: 0.6952938\tbest: 0.6952938 (287)\ttotal: 383ms\tremaining: 947ms\n",
            "288:\tlearn: 0.3078157\ttest: 0.6943670\tbest: 0.6943670 (288)\ttotal: 384ms\tremaining: 945ms\n",
            "289:\tlearn: 0.3077211\ttest: 0.6943937\tbest: 0.6943670 (288)\ttotal: 385ms\tremaining: 943ms\n",
            "290:\tlearn: 0.3070217\ttest: 0.6935047\tbest: 0.6935047 (290)\ttotal: 386ms\tremaining: 942ms\n",
            "291:\tlearn: 0.3063561\ttest: 0.6926479\tbest: 0.6926479 (291)\ttotal: 388ms\tremaining: 940ms\n",
            "292:\tlearn: 0.3056418\ttest: 0.6922918\tbest: 0.6922918 (292)\ttotal: 389ms\tremaining: 938ms\n",
            "293:\tlearn: 0.3048781\ttest: 0.6924861\tbest: 0.6922918 (292)\ttotal: 390ms\tremaining: 936ms\n",
            "294:\tlearn: 0.3043878\ttest: 0.6914777\tbest: 0.6914777 (294)\ttotal: 391ms\tremaining: 934ms\n",
            "295:\tlearn: 0.3039489\ttest: 0.6916152\tbest: 0.6914777 (294)\ttotal: 392ms\tremaining: 932ms\n",
            "296:\tlearn: 0.3037405\ttest: 0.6914862\tbest: 0.6914777 (294)\ttotal: 393ms\tremaining: 930ms\n",
            "297:\tlearn: 0.3029140\ttest: 0.6901331\tbest: 0.6901331 (297)\ttotal: 394ms\tremaining: 928ms\n",
            "298:\tlearn: 0.3022817\ttest: 0.6894448\tbest: 0.6894448 (298)\ttotal: 395ms\tremaining: 926ms\n",
            "299:\tlearn: 0.3014034\ttest: 0.6897272\tbest: 0.6894448 (298)\ttotal: 396ms\tremaining: 924ms\n",
            "300:\tlearn: 0.3003214\ttest: 0.6900820\tbest: 0.6894448 (298)\ttotal: 397ms\tremaining: 922ms\n",
            "301:\tlearn: 0.2997511\ttest: 0.6894208\tbest: 0.6894208 (301)\ttotal: 398ms\tremaining: 920ms\n",
            "302:\tlearn: 0.2987214\ttest: 0.6897759\tbest: 0.6894208 (301)\ttotal: 399ms\tremaining: 918ms\n",
            "303:\tlearn: 0.2984282\ttest: 0.6894657\tbest: 0.6894208 (301)\ttotal: 400ms\tremaining: 916ms\n",
            "304:\tlearn: 0.2981448\ttest: 0.6894947\tbest: 0.6894208 (301)\ttotal: 401ms\tremaining: 914ms\n",
            "305:\tlearn: 0.2975637\ttest: 0.6895258\tbest: 0.6894208 (301)\ttotal: 402ms\tremaining: 912ms\n",
            "306:\tlearn: 0.2974478\ttest: 0.6894463\tbest: 0.6894208 (301)\ttotal: 403ms\tremaining: 910ms\n",
            "307:\tlearn: 0.2969482\ttest: 0.6896180\tbest: 0.6894208 (301)\ttotal: 404ms\tremaining: 909ms\n",
            "308:\tlearn: 0.2963601\ttest: 0.6890253\tbest: 0.6890253 (308)\ttotal: 406ms\tremaining: 907ms\n",
            "309:\tlearn: 0.2955917\ttest: 0.6888975\tbest: 0.6888975 (309)\ttotal: 407ms\tremaining: 905ms\n",
            "310:\tlearn: 0.2950163\ttest: 0.6889328\tbest: 0.6888975 (309)\ttotal: 408ms\tremaining: 904ms\n",
            "311:\tlearn: 0.2939082\ttest: 0.6891619\tbest: 0.6888975 (309)\ttotal: 409ms\tremaining: 902ms\n",
            "312:\tlearn: 0.2931469\ttest: 0.6881137\tbest: 0.6881137 (312)\ttotal: 410ms\tremaining: 900ms\n",
            "313:\tlearn: 0.2925375\ttest: 0.6883749\tbest: 0.6881137 (312)\ttotal: 411ms\tremaining: 898ms\n",
            "314:\tlearn: 0.2922176\ttest: 0.6883503\tbest: 0.6881137 (312)\ttotal: 412ms\tremaining: 897ms\n",
            "315:\tlearn: 0.2919017\ttest: 0.6883253\tbest: 0.6881137 (312)\ttotal: 413ms\tremaining: 895ms\n",
            "316:\tlearn: 0.2913600\ttest: 0.6883430\tbest: 0.6881137 (312)\ttotal: 414ms\tremaining: 893ms\n",
            "317:\tlearn: 0.2907544\ttest: 0.6882116\tbest: 0.6881137 (312)\ttotal: 415ms\tremaining: 891ms\n",
            "318:\tlearn: 0.2903641\ttest: 0.6882028\tbest: 0.6881137 (312)\ttotal: 416ms\tremaining: 889ms\n",
            "319:\tlearn: 0.2902729\ttest: 0.6882214\tbest: 0.6881137 (312)\ttotal: 417ms\tremaining: 887ms\n",
            "320:\tlearn: 0.2897594\ttest: 0.6890332\tbest: 0.6881137 (312)\ttotal: 418ms\tremaining: 885ms\n",
            "321:\tlearn: 0.2894967\ttest: 0.6890837\tbest: 0.6881137 (312)\ttotal: 420ms\tremaining: 883ms\n",
            "322:\tlearn: 0.2888913\ttest: 0.6886279\tbest: 0.6881137 (312)\ttotal: 421ms\tremaining: 882ms\n",
            "323:\tlearn: 0.2884611\ttest: 0.6886590\tbest: 0.6881137 (312)\ttotal: 422ms\tremaining: 880ms\n",
            "324:\tlearn: 0.2879843\ttest: 0.6886310\tbest: 0.6881137 (312)\ttotal: 423ms\tremaining: 878ms\n",
            "325:\tlearn: 0.2877055\ttest: 0.6886336\tbest: 0.6881137 (312)\ttotal: 424ms\tremaining: 876ms\n",
            "326:\tlearn: 0.2871706\ttest: 0.6887188\tbest: 0.6881137 (312)\ttotal: 425ms\tremaining: 875ms\n",
            "327:\tlearn: 0.2862889\ttest: 0.6883186\tbest: 0.6881137 (312)\ttotal: 426ms\tremaining: 873ms\n",
            "328:\tlearn: 0.2857997\ttest: 0.6882624\tbest: 0.6881137 (312)\ttotal: 427ms\tremaining: 871ms\n",
            "329:\tlearn: 0.2853037\ttest: 0.6884442\tbest: 0.6881137 (312)\ttotal: 428ms\tremaining: 870ms\n",
            "330:\tlearn: 0.2850750\ttest: 0.6886268\tbest: 0.6881137 (312)\ttotal: 429ms\tremaining: 868ms\n",
            "331:\tlearn: 0.2849564\ttest: 0.6885794\tbest: 0.6881137 (312)\ttotal: 430ms\tremaining: 866ms\n",
            "332:\tlearn: 0.2847909\ttest: 0.6885920\tbest: 0.6881137 (312)\ttotal: 432ms\tremaining: 864ms\n",
            "333:\tlearn: 0.2847005\ttest: 0.6885547\tbest: 0.6881137 (312)\ttotal: 433ms\tremaining: 863ms\n",
            "334:\tlearn: 0.2844998\ttest: 0.6884698\tbest: 0.6881137 (312)\ttotal: 434ms\tremaining: 861ms\n",
            "335:\tlearn: 0.2843569\ttest: 0.6883896\tbest: 0.6881137 (312)\ttotal: 435ms\tremaining: 859ms\n",
            "336:\tlearn: 0.2838661\ttest: 0.6876713\tbest: 0.6876713 (336)\ttotal: 436ms\tremaining: 858ms\n",
            "337:\tlearn: 0.2837874\ttest: 0.6876977\tbest: 0.6876713 (336)\ttotal: 437ms\tremaining: 856ms\n",
            "338:\tlearn: 0.2832992\ttest: 0.6870839\tbest: 0.6870839 (338)\ttotal: 438ms\tremaining: 854ms\n",
            "339:\tlearn: 0.2828724\ttest: 0.6869005\tbest: 0.6869005 (339)\ttotal: 439ms\tremaining: 852ms\n",
            "340:\tlearn: 0.2824356\ttest: 0.6869628\tbest: 0.6869005 (339)\ttotal: 440ms\tremaining: 850ms\n",
            "341:\tlearn: 0.2820856\ttest: 0.6866569\tbest: 0.6866569 (341)\ttotal: 441ms\tremaining: 849ms\n",
            "342:\tlearn: 0.2815114\ttest: 0.6864604\tbest: 0.6864604 (342)\ttotal: 442ms\tremaining: 847ms\n",
            "343:\tlearn: 0.2808819\ttest: 0.6865545\tbest: 0.6864604 (342)\ttotal: 443ms\tremaining: 845ms\n",
            "344:\tlearn: 0.2801897\ttest: 0.6853071\tbest: 0.6853071 (344)\ttotal: 444ms\tremaining: 844ms\n",
            "345:\tlearn: 0.2801246\ttest: 0.6853259\tbest: 0.6853071 (344)\ttotal: 445ms\tremaining: 842ms\n",
            "346:\tlearn: 0.2795018\ttest: 0.6842979\tbest: 0.6842979 (346)\ttotal: 447ms\tremaining: 840ms\n",
            "347:\tlearn: 0.2788479\ttest: 0.6840624\tbest: 0.6840624 (347)\ttotal: 448ms\tremaining: 839ms\n",
            "348:\tlearn: 0.2782852\ttest: 0.6846840\tbest: 0.6840624 (347)\ttotal: 449ms\tremaining: 837ms\n",
            "349:\tlearn: 0.2778635\ttest: 0.6849460\tbest: 0.6840624 (347)\ttotal: 450ms\tremaining: 836ms\n",
            "350:\tlearn: 0.2770649\ttest: 0.6839344\tbest: 0.6839344 (350)\ttotal: 451ms\tremaining: 834ms\n",
            "351:\tlearn: 0.2765691\ttest: 0.6830999\tbest: 0.6830999 (351)\ttotal: 452ms\tremaining: 833ms\n",
            "352:\tlearn: 0.2760587\ttest: 0.6829568\tbest: 0.6829568 (352)\ttotal: 453ms\tremaining: 831ms\n",
            "353:\tlearn: 0.2759854\ttest: 0.6829328\tbest: 0.6829328 (353)\ttotal: 455ms\tremaining: 830ms\n",
            "354:\tlearn: 0.2757859\ttest: 0.6829302\tbest: 0.6829302 (354)\ttotal: 456ms\tremaining: 828ms\n",
            "355:\tlearn: 0.2755492\ttest: 0.6827816\tbest: 0.6827816 (355)\ttotal: 457ms\tremaining: 827ms\n",
            "356:\tlearn: 0.2754827\ttest: 0.6828032\tbest: 0.6827816 (355)\ttotal: 458ms\tremaining: 825ms\n",
            "357:\tlearn: 0.2751223\ttest: 0.6819747\tbest: 0.6819747 (357)\ttotal: 459ms\tremaining: 823ms\n",
            "358:\tlearn: 0.2750122\ttest: 0.6819072\tbest: 0.6819072 (358)\ttotal: 460ms\tremaining: 821ms\n",
            "359:\tlearn: 0.2739944\ttest: 0.6823100\tbest: 0.6819072 (358)\ttotal: 461ms\tremaining: 820ms\n",
            "360:\tlearn: 0.2738320\ttest: 0.6821716\tbest: 0.6819072 (358)\ttotal: 462ms\tremaining: 818ms\n",
            "361:\tlearn: 0.2735326\ttest: 0.6821377\tbest: 0.6819072 (358)\ttotal: 463ms\tremaining: 816ms\n",
            "362:\tlearn: 0.2732670\ttest: 0.6821382\tbest: 0.6819072 (358)\ttotal: 464ms\tremaining: 815ms\n",
            "363:\tlearn: 0.2730801\ttest: 0.6820936\tbest: 0.6819072 (358)\ttotal: 465ms\tremaining: 813ms\n",
            "364:\tlearn: 0.2724595\ttest: 0.6818294\tbest: 0.6818294 (364)\ttotal: 467ms\tremaining: 812ms\n",
            "365:\tlearn: 0.2722985\ttest: 0.6819397\tbest: 0.6818294 (364)\ttotal: 468ms\tremaining: 810ms\n",
            "366:\tlearn: 0.2716472\ttest: 0.6819829\tbest: 0.6818294 (364)\ttotal: 469ms\tremaining: 809ms\n",
            "367:\tlearn: 0.2707917\ttest: 0.6820016\tbest: 0.6818294 (364)\ttotal: 470ms\tremaining: 807ms\n",
            "368:\tlearn: 0.2704473\ttest: 0.6820437\tbest: 0.6818294 (364)\ttotal: 471ms\tremaining: 806ms\n",
            "369:\tlearn: 0.2700323\ttest: 0.6820293\tbest: 0.6818294 (364)\ttotal: 472ms\tremaining: 804ms\n",
            "370:\tlearn: 0.2699689\ttest: 0.6820496\tbest: 0.6818294 (364)\ttotal: 473ms\tremaining: 802ms\n",
            "371:\tlearn: 0.2692814\ttest: 0.6810746\tbest: 0.6810746 (371)\ttotal: 474ms\tremaining: 801ms\n",
            "372:\tlearn: 0.2688424\ttest: 0.6811317\tbest: 0.6810746 (371)\ttotal: 476ms\tremaining: 799ms\n",
            "373:\tlearn: 0.2683466\ttest: 0.6809347\tbest: 0.6809347 (373)\ttotal: 477ms\tremaining: 798ms\n",
            "374:\tlearn: 0.2681184\ttest: 0.6808711\tbest: 0.6808711 (374)\ttotal: 478ms\tremaining: 796ms\n",
            "375:\tlearn: 0.2674680\ttest: 0.6811909\tbest: 0.6808711 (374)\ttotal: 479ms\tremaining: 795ms\n",
            "376:\tlearn: 0.2670219\ttest: 0.6812335\tbest: 0.6808711 (374)\ttotal: 480ms\tremaining: 793ms\n",
            "377:\tlearn: 0.2665262\ttest: 0.6810062\tbest: 0.6808711 (374)\ttotal: 481ms\tremaining: 791ms\n",
            "378:\tlearn: 0.2661923\ttest: 0.6802897\tbest: 0.6802897 (378)\ttotal: 482ms\tremaining: 790ms\n",
            "379:\tlearn: 0.2657716\ttest: 0.6797267\tbest: 0.6797267 (379)\ttotal: 483ms\tremaining: 788ms\n",
            "380:\tlearn: 0.2655107\ttest: 0.6798130\tbest: 0.6797267 (379)\ttotal: 484ms\tremaining: 787ms\n",
            "381:\tlearn: 0.2650041\ttest: 0.6801776\tbest: 0.6797267 (379)\ttotal: 485ms\tremaining: 785ms\n",
            "382:\tlearn: 0.2644631\ttest: 0.6800188\tbest: 0.6797267 (379)\ttotal: 486ms\tremaining: 783ms\n",
            "383:\tlearn: 0.2640904\ttest: 0.6797789\tbest: 0.6797267 (379)\ttotal: 487ms\tremaining: 782ms\n",
            "384:\tlearn: 0.2634740\ttest: 0.6798328\tbest: 0.6797267 (379)\ttotal: 488ms\tremaining: 780ms\n",
            "385:\tlearn: 0.2630872\ttest: 0.6799452\tbest: 0.6797267 (379)\ttotal: 489ms\tremaining: 778ms\n",
            "386:\tlearn: 0.2625446\ttest: 0.6796884\tbest: 0.6796884 (386)\ttotal: 491ms\tremaining: 777ms\n",
            "387:\tlearn: 0.2623529\ttest: 0.6796595\tbest: 0.6796595 (387)\ttotal: 492ms\tremaining: 775ms\n",
            "388:\tlearn: 0.2617642\ttest: 0.6793838\tbest: 0.6793838 (388)\ttotal: 493ms\tremaining: 774ms\n",
            "389:\tlearn: 0.2615855\ttest: 0.6793819\tbest: 0.6793819 (389)\ttotal: 494ms\tremaining: 772ms\n",
            "390:\tlearn: 0.2612182\ttest: 0.6783763\tbest: 0.6783763 (390)\ttotal: 495ms\tremaining: 771ms\n",
            "391:\tlearn: 0.2606631\ttest: 0.6783732\tbest: 0.6783732 (391)\ttotal: 496ms\tremaining: 769ms\n",
            "392:\tlearn: 0.2601285\ttest: 0.6785785\tbest: 0.6783732 (391)\ttotal: 497ms\tremaining: 767ms\n",
            "393:\tlearn: 0.2599932\ttest: 0.6785869\tbest: 0.6783732 (391)\ttotal: 498ms\tremaining: 766ms\n",
            "394:\tlearn: 0.2598227\ttest: 0.6785230\tbest: 0.6783732 (391)\ttotal: 499ms\tremaining: 764ms\n",
            "395:\tlearn: 0.2596032\ttest: 0.6785324\tbest: 0.6783732 (391)\ttotal: 500ms\tremaining: 763ms\n",
            "396:\tlearn: 0.2593407\ttest: 0.6781411\tbest: 0.6781411 (396)\ttotal: 501ms\tremaining: 761ms\n",
            "397:\tlearn: 0.2591318\ttest: 0.6781536\tbest: 0.6781411 (396)\ttotal: 502ms\tremaining: 760ms\n",
            "398:\tlearn: 0.2589109\ttest: 0.6780630\tbest: 0.6780630 (398)\ttotal: 503ms\tremaining: 758ms\n",
            "399:\tlearn: 0.2587150\ttest: 0.6778274\tbest: 0.6778274 (399)\ttotal: 504ms\tremaining: 756ms\n",
            "400:\tlearn: 0.2581179\ttest: 0.6773075\tbest: 0.6773075 (400)\ttotal: 505ms\tremaining: 755ms\n",
            "401:\tlearn: 0.2577026\ttest: 0.6772892\tbest: 0.6772892 (401)\ttotal: 506ms\tremaining: 753ms\n",
            "402:\tlearn: 0.2573802\ttest: 0.6767213\tbest: 0.6767213 (402)\ttotal: 507ms\tremaining: 752ms\n",
            "403:\tlearn: 0.2571617\ttest: 0.6766077\tbest: 0.6766077 (403)\ttotal: 508ms\tremaining: 750ms\n",
            "404:\tlearn: 0.2570461\ttest: 0.6765351\tbest: 0.6765351 (404)\ttotal: 509ms\tremaining: 748ms\n",
            "405:\tlearn: 0.2567935\ttest: 0.6766202\tbest: 0.6765351 (404)\ttotal: 511ms\tremaining: 747ms\n",
            "406:\tlearn: 0.2560167\ttest: 0.6767821\tbest: 0.6765351 (404)\ttotal: 512ms\tremaining: 746ms\n",
            "407:\tlearn: 0.2555831\ttest: 0.6768336\tbest: 0.6765351 (404)\ttotal: 513ms\tremaining: 744ms\n",
            "408:\tlearn: 0.2553591\ttest: 0.6768549\tbest: 0.6765351 (404)\ttotal: 514ms\tremaining: 743ms\n",
            "409:\tlearn: 0.2550002\ttest: 0.6769007\tbest: 0.6765351 (404)\ttotal: 515ms\tremaining: 741ms\n",
            "410:\tlearn: 0.2549168\ttest: 0.6769585\tbest: 0.6765351 (404)\ttotal: 516ms\tremaining: 740ms\n",
            "411:\tlearn: 0.2541388\ttest: 0.6769122\tbest: 0.6765351 (404)\ttotal: 517ms\tremaining: 738ms\n",
            "412:\tlearn: 0.2539571\ttest: 0.6769306\tbest: 0.6765351 (404)\ttotal: 518ms\tremaining: 737ms\n",
            "413:\tlearn: 0.2537178\ttest: 0.6762944\tbest: 0.6762944 (413)\ttotal: 519ms\tremaining: 735ms\n",
            "414:\tlearn: 0.2534843\ttest: 0.6761126\tbest: 0.6761126 (414)\ttotal: 520ms\tremaining: 734ms\n",
            "415:\tlearn: 0.2529407\ttest: 0.6753191\tbest: 0.6753191 (415)\ttotal: 522ms\tremaining: 732ms\n",
            "416:\tlearn: 0.2522495\ttest: 0.6747663\tbest: 0.6747663 (416)\ttotal: 523ms\tremaining: 731ms\n",
            "417:\tlearn: 0.2518302\ttest: 0.6748590\tbest: 0.6747663 (416)\ttotal: 524ms\tremaining: 729ms\n",
            "418:\tlearn: 0.2515855\ttest: 0.6745266\tbest: 0.6745266 (418)\ttotal: 525ms\tremaining: 728ms\n",
            "419:\tlearn: 0.2513475\ttest: 0.6743200\tbest: 0.6743200 (419)\ttotal: 526ms\tremaining: 726ms\n",
            "420:\tlearn: 0.2510831\ttest: 0.6741808\tbest: 0.6741808 (420)\ttotal: 527ms\tremaining: 725ms\n",
            "421:\tlearn: 0.2505683\ttest: 0.6737937\tbest: 0.6737937 (421)\ttotal: 528ms\tremaining: 723ms\n",
            "422:\tlearn: 0.2501205\ttest: 0.6731731\tbest: 0.6731731 (422)\ttotal: 529ms\tremaining: 722ms\n",
            "423:\tlearn: 0.2495803\ttest: 0.6732056\tbest: 0.6731731 (422)\ttotal: 530ms\tremaining: 720ms\n",
            "424:\tlearn: 0.2493789\ttest: 0.6726290\tbest: 0.6726290 (424)\ttotal: 533ms\tremaining: 721ms\n",
            "425:\tlearn: 0.2489752\ttest: 0.6722781\tbest: 0.6722781 (425)\ttotal: 534ms\tremaining: 719ms\n",
            "426:\tlearn: 0.2488006\ttest: 0.6721760\tbest: 0.6721760 (426)\ttotal: 535ms\tremaining: 718ms\n",
            "427:\tlearn: 0.2483332\ttest: 0.6723728\tbest: 0.6721760 (426)\ttotal: 537ms\tremaining: 718ms\n",
            "428:\tlearn: 0.2482266\ttest: 0.6724618\tbest: 0.6721760 (426)\ttotal: 538ms\tremaining: 716ms\n",
            "429:\tlearn: 0.2481323\ttest: 0.6724223\tbest: 0.6721760 (426)\ttotal: 541ms\tremaining: 718ms\n",
            "430:\tlearn: 0.2477833\ttest: 0.6722615\tbest: 0.6721760 (426)\ttotal: 543ms\tremaining: 717ms\n",
            "431:\tlearn: 0.2474055\ttest: 0.6723543\tbest: 0.6721760 (426)\ttotal: 544ms\tremaining: 715ms\n",
            "432:\tlearn: 0.2465803\ttest: 0.6723626\tbest: 0.6721760 (426)\ttotal: 545ms\tremaining: 714ms\n",
            "433:\tlearn: 0.2462579\ttest: 0.6725054\tbest: 0.6721760 (426)\ttotal: 546ms\tremaining: 712ms\n",
            "434:\tlearn: 0.2460417\ttest: 0.6723038\tbest: 0.6721760 (426)\ttotal: 547ms\tremaining: 711ms\n",
            "435:\tlearn: 0.2459346\ttest: 0.6723001\tbest: 0.6721760 (426)\ttotal: 548ms\tremaining: 709ms\n",
            "436:\tlearn: 0.2457406\ttest: 0.6721858\tbest: 0.6721760 (426)\ttotal: 549ms\tremaining: 708ms\n",
            "437:\tlearn: 0.2453020\ttest: 0.6721255\tbest: 0.6721255 (437)\ttotal: 551ms\tremaining: 706ms\n",
            "438:\tlearn: 0.2451450\ttest: 0.6721259\tbest: 0.6721255 (437)\ttotal: 552ms\tremaining: 705ms\n",
            "439:\tlearn: 0.2445344\ttest: 0.6720818\tbest: 0.6720818 (439)\ttotal: 553ms\tremaining: 704ms\n",
            "440:\tlearn: 0.2443679\ttest: 0.6719529\tbest: 0.6719529 (440)\ttotal: 554ms\tremaining: 702ms\n",
            "441:\tlearn: 0.2441296\ttest: 0.6720542\tbest: 0.6719529 (440)\ttotal: 555ms\tremaining: 701ms\n",
            "442:\tlearn: 0.2437123\ttest: 0.6724075\tbest: 0.6719529 (440)\ttotal: 556ms\tremaining: 699ms\n",
            "443:\tlearn: 0.2434457\ttest: 0.6725249\tbest: 0.6719529 (440)\ttotal: 557ms\tremaining: 698ms\n",
            "444:\tlearn: 0.2432990\ttest: 0.6727896\tbest: 0.6719529 (440)\ttotal: 558ms\tremaining: 696ms\n",
            "445:\tlearn: 0.2428497\ttest: 0.6724546\tbest: 0.6719529 (440)\ttotal: 559ms\tremaining: 695ms\n",
            "446:\tlearn: 0.2423857\ttest: 0.6720213\tbest: 0.6719529 (440)\ttotal: 560ms\tremaining: 693ms\n",
            "447:\tlearn: 0.2418402\ttest: 0.6714158\tbest: 0.6714158 (447)\ttotal: 561ms\tremaining: 692ms\n",
            "448:\tlearn: 0.2414371\ttest: 0.6713270\tbest: 0.6713270 (448)\ttotal: 562ms\tremaining: 690ms\n",
            "449:\tlearn: 0.2413910\ttest: 0.6713494\tbest: 0.6713270 (448)\ttotal: 564ms\tremaining: 689ms\n",
            "450:\tlearn: 0.2410765\ttest: 0.6714038\tbest: 0.6713270 (448)\ttotal: 565ms\tremaining: 687ms\n",
            "451:\tlearn: 0.2409655\ttest: 0.6714630\tbest: 0.6713270 (448)\ttotal: 566ms\tremaining: 686ms\n",
            "452:\tlearn: 0.2408276\ttest: 0.6714524\tbest: 0.6713270 (448)\ttotal: 567ms\tremaining: 685ms\n",
            "453:\tlearn: 0.2402020\ttest: 0.6715510\tbest: 0.6713270 (448)\ttotal: 568ms\tremaining: 683ms\n",
            "454:\tlearn: 0.2398266\ttest: 0.6715630\tbest: 0.6713270 (448)\ttotal: 569ms\tremaining: 682ms\n",
            "455:\tlearn: 0.2396410\ttest: 0.6714833\tbest: 0.6713270 (448)\ttotal: 570ms\tremaining: 681ms\n",
            "456:\tlearn: 0.2393875\ttest: 0.6711767\tbest: 0.6711767 (456)\ttotal: 572ms\tremaining: 679ms\n",
            "457:\tlearn: 0.2392517\ttest: 0.6712515\tbest: 0.6711767 (456)\ttotal: 573ms\tremaining: 678ms\n",
            "458:\tlearn: 0.2387642\ttest: 0.6709062\tbest: 0.6709062 (458)\ttotal: 574ms\tremaining: 676ms\n",
            "459:\tlearn: 0.2384663\ttest: 0.6710843\tbest: 0.6709062 (458)\ttotal: 575ms\tremaining: 675ms\n",
            "460:\tlearn: 0.2381840\ttest: 0.6712884\tbest: 0.6709062 (458)\ttotal: 576ms\tremaining: 673ms\n",
            "461:\tlearn: 0.2380002\ttest: 0.6712506\tbest: 0.6709062 (458)\ttotal: 577ms\tremaining: 672ms\n",
            "462:\tlearn: 0.2377811\ttest: 0.6712299\tbest: 0.6709062 (458)\ttotal: 578ms\tremaining: 670ms\n",
            "463:\tlearn: 0.2377471\ttest: 0.6712475\tbest: 0.6709062 (458)\ttotal: 579ms\tremaining: 669ms\n",
            "464:\tlearn: 0.2375516\ttest: 0.6714231\tbest: 0.6709062 (458)\ttotal: 580ms\tremaining: 667ms\n",
            "465:\tlearn: 0.2371614\ttest: 0.6714716\tbest: 0.6709062 (458)\ttotal: 581ms\tremaining: 666ms\n",
            "466:\tlearn: 0.2370270\ttest: 0.6714469\tbest: 0.6709062 (458)\ttotal: 582ms\tremaining: 664ms\n",
            "467:\tlearn: 0.2369922\ttest: 0.6714660\tbest: 0.6709062 (458)\ttotal: 583ms\tremaining: 663ms\n",
            "468:\tlearn: 0.2367279\ttest: 0.6716646\tbest: 0.6709062 (458)\ttotal: 584ms\tremaining: 661ms\n",
            "469:\tlearn: 0.2365904\ttest: 0.6716637\tbest: 0.6709062 (458)\ttotal: 585ms\tremaining: 660ms\n",
            "470:\tlearn: 0.2363915\ttest: 0.6718374\tbest: 0.6709062 (458)\ttotal: 586ms\tremaining: 658ms\n",
            "471:\tlearn: 0.2360716\ttest: 0.6715392\tbest: 0.6709062 (458)\ttotal: 587ms\tremaining: 657ms\n",
            "472:\tlearn: 0.2356204\ttest: 0.6715556\tbest: 0.6709062 (458)\ttotal: 588ms\tremaining: 655ms\n",
            "473:\tlearn: 0.2351666\ttest: 0.6718199\tbest: 0.6709062 (458)\ttotal: 589ms\tremaining: 654ms\n",
            "474:\tlearn: 0.2347057\ttest: 0.6719134\tbest: 0.6709062 (458)\ttotal: 591ms\tremaining: 653ms\n",
            "475:\tlearn: 0.2341581\ttest: 0.6719984\tbest: 0.6709062 (458)\ttotal: 592ms\tremaining: 651ms\n",
            "476:\tlearn: 0.2338348\ttest: 0.6720126\tbest: 0.6709062 (458)\ttotal: 593ms\tremaining: 650ms\n",
            "477:\tlearn: 0.2332492\ttest: 0.6725384\tbest: 0.6709062 (458)\ttotal: 594ms\tremaining: 648ms\n",
            "478:\tlearn: 0.2330256\ttest: 0.6726253\tbest: 0.6709062 (458)\ttotal: 595ms\tremaining: 647ms\n",
            "479:\tlearn: 0.2329886\ttest: 0.6726531\tbest: 0.6709062 (458)\ttotal: 596ms\tremaining: 646ms\n",
            "480:\tlearn: 0.2329496\ttest: 0.6726320\tbest: 0.6709062 (458)\ttotal: 597ms\tremaining: 644ms\n",
            "481:\tlearn: 0.2326777\ttest: 0.6726132\tbest: 0.6709062 (458)\ttotal: 598ms\tremaining: 643ms\n",
            "482:\tlearn: 0.2322222\ttest: 0.6727188\tbest: 0.6709062 (458)\ttotal: 599ms\tremaining: 641ms\n",
            "483:\tlearn: 0.2316531\ttest: 0.6726263\tbest: 0.6709062 (458)\ttotal: 600ms\tremaining: 640ms\n",
            "484:\tlearn: 0.2312676\ttest: 0.6723942\tbest: 0.6709062 (458)\ttotal: 601ms\tremaining: 639ms\n",
            "485:\tlearn: 0.2311999\ttest: 0.6723789\tbest: 0.6709062 (458)\ttotal: 603ms\tremaining: 637ms\n",
            "486:\tlearn: 0.2308526\ttest: 0.6724638\tbest: 0.6709062 (458)\ttotal: 604ms\tremaining: 636ms\n",
            "487:\tlearn: 0.2307479\ttest: 0.6724261\tbest: 0.6709062 (458)\ttotal: 605ms\tremaining: 635ms\n",
            "488:\tlearn: 0.2304419\ttest: 0.6724680\tbest: 0.6709062 (458)\ttotal: 606ms\tremaining: 633ms\n",
            "489:\tlearn: 0.2302666\ttest: 0.6724900\tbest: 0.6709062 (458)\ttotal: 607ms\tremaining: 632ms\n",
            "490:\tlearn: 0.2296124\ttest: 0.6721448\tbest: 0.6709062 (458)\ttotal: 608ms\tremaining: 630ms\n",
            "491:\tlearn: 0.2293758\ttest: 0.6721598\tbest: 0.6709062 (458)\ttotal: 609ms\tremaining: 629ms\n",
            "492:\tlearn: 0.2291421\ttest: 0.6717083\tbest: 0.6709062 (458)\ttotal: 610ms\tremaining: 628ms\n",
            "493:\tlearn: 0.2290784\ttest: 0.6717076\tbest: 0.6709062 (458)\ttotal: 611ms\tremaining: 626ms\n",
            "494:\tlearn: 0.2288010\ttest: 0.6718577\tbest: 0.6709062 (458)\ttotal: 612ms\tremaining: 625ms\n",
            "495:\tlearn: 0.2286037\ttest: 0.6718646\tbest: 0.6709062 (458)\ttotal: 613ms\tremaining: 623ms\n",
            "496:\tlearn: 0.2284602\ttest: 0.6719098\tbest: 0.6709062 (458)\ttotal: 614ms\tremaining: 622ms\n",
            "497:\tlearn: 0.2282833\ttest: 0.6719891\tbest: 0.6709062 (458)\ttotal: 615ms\tremaining: 620ms\n",
            "498:\tlearn: 0.2279980\ttest: 0.6720301\tbest: 0.6709062 (458)\ttotal: 617ms\tremaining: 619ms\n",
            "499:\tlearn: 0.2276555\ttest: 0.6719787\tbest: 0.6709062 (458)\ttotal: 618ms\tremaining: 618ms\n",
            "500:\tlearn: 0.2273152\ttest: 0.6720693\tbest: 0.6709062 (458)\ttotal: 619ms\tremaining: 616ms\n",
            "501:\tlearn: 0.2270333\ttest: 0.6722335\tbest: 0.6709062 (458)\ttotal: 620ms\tremaining: 615ms\n",
            "502:\tlearn: 0.2267468\ttest: 0.6722500\tbest: 0.6709062 (458)\ttotal: 621ms\tremaining: 613ms\n",
            "503:\tlearn: 0.2263723\ttest: 0.6718131\tbest: 0.6709062 (458)\ttotal: 622ms\tremaining: 612ms\n",
            "504:\tlearn: 0.2263402\ttest: 0.6718317\tbest: 0.6709062 (458)\ttotal: 623ms\tremaining: 611ms\n",
            "505:\tlearn: 0.2259653\ttest: 0.6717868\tbest: 0.6709062 (458)\ttotal: 624ms\tremaining: 609ms\n",
            "506:\tlearn: 0.2257655\ttest: 0.6719182\tbest: 0.6709062 (458)\ttotal: 625ms\tremaining: 608ms\n",
            "507:\tlearn: 0.2255354\ttest: 0.6715972\tbest: 0.6709062 (458)\ttotal: 627ms\tremaining: 607ms\n",
            "508:\tlearn: 0.2250968\ttest: 0.6710892\tbest: 0.6709062 (458)\ttotal: 628ms\tremaining: 605ms\n",
            "509:\tlearn: 0.2246499\ttest: 0.6712033\tbest: 0.6709062 (458)\ttotal: 629ms\tremaining: 604ms\n",
            "510:\tlearn: 0.2246069\ttest: 0.6712392\tbest: 0.6709062 (458)\ttotal: 630ms\tremaining: 603ms\n",
            "511:\tlearn: 0.2243947\ttest: 0.6714771\tbest: 0.6709062 (458)\ttotal: 631ms\tremaining: 602ms\n",
            "512:\tlearn: 0.2240393\ttest: 0.6712614\tbest: 0.6709062 (458)\ttotal: 633ms\tremaining: 600ms\n",
            "513:\tlearn: 0.2238143\ttest: 0.6712635\tbest: 0.6709062 (458)\ttotal: 634ms\tremaining: 599ms\n",
            "514:\tlearn: 0.2236048\ttest: 0.6712890\tbest: 0.6709062 (458)\ttotal: 635ms\tremaining: 598ms\n",
            "515:\tlearn: 0.2234722\ttest: 0.6713417\tbest: 0.6709062 (458)\ttotal: 636ms\tremaining: 596ms\n",
            "516:\tlearn: 0.2231432\ttest: 0.6709929\tbest: 0.6709062 (458)\ttotal: 637ms\tremaining: 595ms\n",
            "517:\tlearn: 0.2227843\ttest: 0.6711681\tbest: 0.6709062 (458)\ttotal: 638ms\tremaining: 594ms\n",
            "518:\tlearn: 0.2225132\ttest: 0.6711583\tbest: 0.6709062 (458)\ttotal: 639ms\tremaining: 592ms\n",
            "519:\tlearn: 0.2221196\ttest: 0.6712908\tbest: 0.6709062 (458)\ttotal: 640ms\tremaining: 591ms\n",
            "520:\tlearn: 0.2218440\ttest: 0.6710702\tbest: 0.6709062 (458)\ttotal: 641ms\tremaining: 590ms\n",
            "521:\tlearn: 0.2213021\ttest: 0.6708847\tbest: 0.6708847 (521)\ttotal: 642ms\tremaining: 588ms\n",
            "522:\tlearn: 0.2209971\ttest: 0.6709615\tbest: 0.6708847 (521)\ttotal: 643ms\tremaining: 587ms\n",
            "523:\tlearn: 0.2204422\ttest: 0.6710613\tbest: 0.6708847 (521)\ttotal: 645ms\tremaining: 586ms\n",
            "524:\tlearn: 0.2202676\ttest: 0.6711005\tbest: 0.6708847 (521)\ttotal: 646ms\tremaining: 584ms\n",
            "525:\tlearn: 0.2200446\ttest: 0.6710693\tbest: 0.6708847 (521)\ttotal: 647ms\tremaining: 583ms\n",
            "526:\tlearn: 0.2199475\ttest: 0.6711530\tbest: 0.6708847 (521)\ttotal: 648ms\tremaining: 582ms\n",
            "527:\tlearn: 0.2195699\ttest: 0.6710812\tbest: 0.6708847 (521)\ttotal: 649ms\tremaining: 580ms\n",
            "528:\tlearn: 0.2194572\ttest: 0.6711540\tbest: 0.6708847 (521)\ttotal: 650ms\tremaining: 579ms\n",
            "529:\tlearn: 0.2188575\ttest: 0.6708725\tbest: 0.6708725 (529)\ttotal: 651ms\tremaining: 577ms\n",
            "530:\tlearn: 0.2185870\ttest: 0.6708832\tbest: 0.6708725 (529)\ttotal: 652ms\tremaining: 576ms\n",
            "531:\tlearn: 0.2184313\ttest: 0.6708874\tbest: 0.6708725 (529)\ttotal: 653ms\tremaining: 575ms\n",
            "532:\tlearn: 0.2179866\ttest: 0.6708399\tbest: 0.6708399 (532)\ttotal: 654ms\tremaining: 573ms\n",
            "533:\tlearn: 0.2178914\ttest: 0.6708414\tbest: 0.6708399 (532)\ttotal: 655ms\tremaining: 572ms\n",
            "534:\tlearn: 0.2176289\ttest: 0.6705564\tbest: 0.6705564 (534)\ttotal: 656ms\tremaining: 570ms\n",
            "535:\tlearn: 0.2175121\ttest: 0.6703476\tbest: 0.6703476 (535)\ttotal: 657ms\tremaining: 569ms\n",
            "536:\tlearn: 0.2171536\ttest: 0.6703214\tbest: 0.6703214 (536)\ttotal: 658ms\tremaining: 567ms\n",
            "537:\tlearn: 0.2170486\ttest: 0.6703413\tbest: 0.6703214 (536)\ttotal: 659ms\tremaining: 566ms\n",
            "538:\tlearn: 0.2167890\ttest: 0.6700109\tbest: 0.6700109 (538)\ttotal: 660ms\tremaining: 565ms\n",
            "539:\tlearn: 0.2161563\ttest: 0.6701977\tbest: 0.6700109 (538)\ttotal: 661ms\tremaining: 563ms\n",
            "540:\tlearn: 0.2158094\ttest: 0.6702591\tbest: 0.6700109 (538)\ttotal: 662ms\tremaining: 562ms\n",
            "541:\tlearn: 0.2155417\ttest: 0.6704075\tbest: 0.6700109 (538)\ttotal: 663ms\tremaining: 560ms\n",
            "542:\tlearn: 0.2154699\ttest: 0.6703829\tbest: 0.6700109 (538)\ttotal: 664ms\tremaining: 559ms\n",
            "543:\tlearn: 0.2153863\ttest: 0.6703305\tbest: 0.6700109 (538)\ttotal: 665ms\tremaining: 558ms\n",
            "544:\tlearn: 0.2151925\ttest: 0.6703613\tbest: 0.6700109 (538)\ttotal: 666ms\tremaining: 556ms\n",
            "545:\tlearn: 0.2149959\ttest: 0.6702904\tbest: 0.6700109 (538)\ttotal: 667ms\tremaining: 555ms\n",
            "546:\tlearn: 0.2149399\ttest: 0.6703522\tbest: 0.6700109 (538)\ttotal: 668ms\tremaining: 554ms\n",
            "547:\tlearn: 0.2145992\ttest: 0.6706131\tbest: 0.6700109 (538)\ttotal: 670ms\tremaining: 552ms\n",
            "548:\tlearn: 0.2145310\ttest: 0.6707490\tbest: 0.6700109 (538)\ttotal: 671ms\tremaining: 551ms\n",
            "549:\tlearn: 0.2142672\ttest: 0.6707924\tbest: 0.6700109 (538)\ttotal: 672ms\tremaining: 550ms\n",
            "550:\tlearn: 0.2141582\ttest: 0.6708172\tbest: 0.6700109 (538)\ttotal: 673ms\tremaining: 548ms\n",
            "551:\tlearn: 0.2136452\ttest: 0.6709425\tbest: 0.6700109 (538)\ttotal: 674ms\tremaining: 547ms\n",
            "552:\tlearn: 0.2134451\ttest: 0.6709626\tbest: 0.6700109 (538)\ttotal: 675ms\tremaining: 546ms\n",
            "553:\tlearn: 0.2133457\ttest: 0.6709753\tbest: 0.6700109 (538)\ttotal: 676ms\tremaining: 544ms\n",
            "554:\tlearn: 0.2131860\ttest: 0.6709908\tbest: 0.6700109 (538)\ttotal: 677ms\tremaining: 543ms\n",
            "555:\tlearn: 0.2131120\ttest: 0.6710127\tbest: 0.6700109 (538)\ttotal: 678ms\tremaining: 542ms\n",
            "556:\tlearn: 0.2128097\ttest: 0.6707704\tbest: 0.6700109 (538)\ttotal: 679ms\tremaining: 540ms\n",
            "557:\tlearn: 0.2122913\ttest: 0.6704659\tbest: 0.6700109 (538)\ttotal: 680ms\tremaining: 539ms\n",
            "558:\tlearn: 0.2117548\ttest: 0.6707397\tbest: 0.6700109 (538)\ttotal: 681ms\tremaining: 538ms\n",
            "559:\tlearn: 0.2116897\ttest: 0.6707004\tbest: 0.6700109 (538)\ttotal: 683ms\tremaining: 536ms\n",
            "560:\tlearn: 0.2115691\ttest: 0.6706642\tbest: 0.6700109 (538)\ttotal: 684ms\tremaining: 535ms\n",
            "561:\tlearn: 0.2111070\ttest: 0.6703367\tbest: 0.6700109 (538)\ttotal: 685ms\tremaining: 534ms\n",
            "562:\tlearn: 0.2110703\ttest: 0.6703623\tbest: 0.6700109 (538)\ttotal: 686ms\tremaining: 532ms\n",
            "563:\tlearn: 0.2106445\ttest: 0.6704283\tbest: 0.6700109 (538)\ttotal: 687ms\tremaining: 531ms\n",
            "564:\tlearn: 0.2100397\ttest: 0.6704142\tbest: 0.6700109 (538)\ttotal: 688ms\tremaining: 530ms\n",
            "565:\tlearn: 0.2095587\ttest: 0.6703960\tbest: 0.6700109 (538)\ttotal: 689ms\tremaining: 528ms\n",
            "566:\tlearn: 0.2093089\ttest: 0.6704858\tbest: 0.6700109 (538)\ttotal: 690ms\tremaining: 527ms\n",
            "567:\tlearn: 0.2087013\ttest: 0.6706730\tbest: 0.6700109 (538)\ttotal: 691ms\tremaining: 526ms\n",
            "568:\tlearn: 0.2081631\ttest: 0.6704341\tbest: 0.6700109 (538)\ttotal: 692ms\tremaining: 524ms\n",
            "569:\tlearn: 0.2080868\ttest: 0.6704436\tbest: 0.6700109 (538)\ttotal: 693ms\tremaining: 523ms\n",
            "570:\tlearn: 0.2078549\ttest: 0.6704134\tbest: 0.6700109 (538)\ttotal: 694ms\tremaining: 522ms\n",
            "571:\tlearn: 0.2075494\ttest: 0.6704550\tbest: 0.6700109 (538)\ttotal: 695ms\tremaining: 520ms\n",
            "572:\tlearn: 0.2074869\ttest: 0.6705675\tbest: 0.6700109 (538)\ttotal: 696ms\tremaining: 519ms\n",
            "573:\tlearn: 0.2073707\ttest: 0.6704043\tbest: 0.6700109 (538)\ttotal: 697ms\tremaining: 518ms\n",
            "574:\tlearn: 0.2072988\ttest: 0.6704852\tbest: 0.6700109 (538)\ttotal: 698ms\tremaining: 516ms\n",
            "575:\tlearn: 0.2065328\ttest: 0.6705778\tbest: 0.6700109 (538)\ttotal: 699ms\tremaining: 515ms\n",
            "576:\tlearn: 0.2062821\ttest: 0.6703991\tbest: 0.6700109 (538)\ttotal: 701ms\tremaining: 514ms\n",
            "577:\tlearn: 0.2058199\ttest: 0.6704966\tbest: 0.6700109 (538)\ttotal: 702ms\tremaining: 512ms\n",
            "578:\tlearn: 0.2053960\ttest: 0.6701859\tbest: 0.6700109 (538)\ttotal: 703ms\tremaining: 511ms\n",
            "579:\tlearn: 0.2050450\ttest: 0.6701488\tbest: 0.6700109 (538)\ttotal: 704ms\tremaining: 510ms\n",
            "580:\tlearn: 0.2047590\ttest: 0.6695444\tbest: 0.6695444 (580)\ttotal: 705ms\tremaining: 508ms\n",
            "581:\tlearn: 0.2046349\ttest: 0.6694579\tbest: 0.6694579 (581)\ttotal: 706ms\tremaining: 507ms\n",
            "582:\tlearn: 0.2044659\ttest: 0.6693757\tbest: 0.6693757 (582)\ttotal: 707ms\tremaining: 506ms\n",
            "583:\tlearn: 0.2043759\ttest: 0.6695330\tbest: 0.6693757 (582)\ttotal: 708ms\tremaining: 504ms\n",
            "584:\tlearn: 0.2040591\ttest: 0.6695404\tbest: 0.6693757 (582)\ttotal: 709ms\tremaining: 503ms\n",
            "585:\tlearn: 0.2035814\ttest: 0.6697773\tbest: 0.6693757 (582)\ttotal: 710ms\tremaining: 502ms\n",
            "586:\tlearn: 0.2032855\ttest: 0.6698573\tbest: 0.6693757 (582)\ttotal: 712ms\tremaining: 501ms\n",
            "587:\tlearn: 0.2028491\ttest: 0.6698804\tbest: 0.6693757 (582)\ttotal: 714ms\tremaining: 500ms\n",
            "588:\tlearn: 0.2023743\ttest: 0.6700956\tbest: 0.6693757 (582)\ttotal: 715ms\tremaining: 499ms\n",
            "589:\tlearn: 0.2021345\ttest: 0.6702241\tbest: 0.6693757 (582)\ttotal: 717ms\tremaining: 498ms\n",
            "590:\tlearn: 0.2019068\ttest: 0.6699337\tbest: 0.6693757 (582)\ttotal: 723ms\tremaining: 500ms\n",
            "591:\tlearn: 0.2017674\ttest: 0.6699129\tbest: 0.6693757 (582)\ttotal: 724ms\tremaining: 499ms\n",
            "592:\tlearn: 0.2016711\ttest: 0.6699056\tbest: 0.6693757 (582)\ttotal: 725ms\tremaining: 498ms\n",
            "593:\tlearn: 0.2014944\ttest: 0.6699251\tbest: 0.6693757 (582)\ttotal: 726ms\tremaining: 496ms\n",
            "594:\tlearn: 0.2012578\ttest: 0.6699206\tbest: 0.6693757 (582)\ttotal: 727ms\tremaining: 495ms\n",
            "595:\tlearn: 0.2009892\ttest: 0.6703127\tbest: 0.6693757 (582)\ttotal: 728ms\tremaining: 494ms\n",
            "596:\tlearn: 0.2008745\ttest: 0.6703164\tbest: 0.6693757 (582)\ttotal: 729ms\tremaining: 492ms\n",
            "597:\tlearn: 0.2007850\ttest: 0.6703297\tbest: 0.6693757 (582)\ttotal: 730ms\tremaining: 491ms\n",
            "598:\tlearn: 0.2004406\ttest: 0.6701954\tbest: 0.6693757 (582)\ttotal: 731ms\tremaining: 490ms\n",
            "599:\tlearn: 0.2003232\ttest: 0.6700848\tbest: 0.6693757 (582)\ttotal: 732ms\tremaining: 488ms\n",
            "600:\tlearn: 0.2001368\ttest: 0.6701259\tbest: 0.6693757 (582)\ttotal: 733ms\tremaining: 487ms\n",
            "601:\tlearn: 0.1996613\ttest: 0.6703791\tbest: 0.6693757 (582)\ttotal: 734ms\tremaining: 486ms\n",
            "602:\tlearn: 0.1994213\ttest: 0.6700987\tbest: 0.6693757 (582)\ttotal: 736ms\tremaining: 484ms\n",
            "603:\tlearn: 0.1991663\ttest: 0.6699688\tbest: 0.6693757 (582)\ttotal: 737ms\tremaining: 483ms\n",
            "604:\tlearn: 0.1987033\ttest: 0.6698631\tbest: 0.6693757 (582)\ttotal: 738ms\tremaining: 482ms\n",
            "605:\tlearn: 0.1985820\ttest: 0.6698190\tbest: 0.6693757 (582)\ttotal: 739ms\tremaining: 480ms\n",
            "606:\tlearn: 0.1984077\ttest: 0.6698076\tbest: 0.6693757 (582)\ttotal: 740ms\tremaining: 479ms\n",
            "607:\tlearn: 0.1981841\ttest: 0.6697260\tbest: 0.6693757 (582)\ttotal: 741ms\tremaining: 478ms\n",
            "608:\tlearn: 0.1980333\ttest: 0.6697806\tbest: 0.6693757 (582)\ttotal: 742ms\tremaining: 476ms\n",
            "609:\tlearn: 0.1979050\ttest: 0.6696560\tbest: 0.6693757 (582)\ttotal: 743ms\tremaining: 475ms\n",
            "610:\tlearn: 0.1974480\ttest: 0.6696759\tbest: 0.6693757 (582)\ttotal: 744ms\tremaining: 474ms\n",
            "611:\tlearn: 0.1973284\ttest: 0.6696594\tbest: 0.6693757 (582)\ttotal: 745ms\tremaining: 472ms\n",
            "612:\tlearn: 0.1970768\ttest: 0.6694366\tbest: 0.6693757 (582)\ttotal: 746ms\tremaining: 471ms\n",
            "613:\tlearn: 0.1967864\ttest: 0.6691889\tbest: 0.6691889 (613)\ttotal: 747ms\tremaining: 470ms\n",
            "614:\tlearn: 0.1964371\ttest: 0.6699239\tbest: 0.6691889 (613)\ttotal: 748ms\tremaining: 468ms\n",
            "615:\tlearn: 0.1959343\ttest: 0.6700527\tbest: 0.6691889 (613)\ttotal: 749ms\tremaining: 467ms\n",
            "616:\tlearn: 0.1958194\ttest: 0.6700438\tbest: 0.6691889 (613)\ttotal: 750ms\tremaining: 466ms\n",
            "617:\tlearn: 0.1953201\ttest: 0.6695881\tbest: 0.6691889 (613)\ttotal: 751ms\tremaining: 464ms\n",
            "618:\tlearn: 0.1952915\ttest: 0.6695959\tbest: 0.6691889 (613)\ttotal: 752ms\tremaining: 463ms\n",
            "619:\tlearn: 0.1948472\ttest: 0.6698248\tbest: 0.6691889 (613)\ttotal: 753ms\tremaining: 462ms\n",
            "620:\tlearn: 0.1946156\ttest: 0.6696620\tbest: 0.6691889 (613)\ttotal: 754ms\tremaining: 460ms\n",
            "621:\tlearn: 0.1945783\ttest: 0.6696475\tbest: 0.6691889 (613)\ttotal: 755ms\tremaining: 459ms\n",
            "622:\tlearn: 0.1944960\ttest: 0.6696342\tbest: 0.6691889 (613)\ttotal: 756ms\tremaining: 458ms\n",
            "623:\tlearn: 0.1944391\ttest: 0.6696617\tbest: 0.6691889 (613)\ttotal: 757ms\tremaining: 456ms\n",
            "624:\tlearn: 0.1940623\ttest: 0.6698622\tbest: 0.6691889 (613)\ttotal: 759ms\tremaining: 455ms\n",
            "625:\tlearn: 0.1937417\ttest: 0.6697255\tbest: 0.6691889 (613)\ttotal: 760ms\tremaining: 454ms\n",
            "626:\tlearn: 0.1935074\ttest: 0.6697446\tbest: 0.6691889 (613)\ttotal: 761ms\tremaining: 452ms\n",
            "627:\tlearn: 0.1931218\ttest: 0.6698717\tbest: 0.6691889 (613)\ttotal: 762ms\tremaining: 451ms\n",
            "628:\tlearn: 0.1930010\ttest: 0.6698630\tbest: 0.6691889 (613)\ttotal: 763ms\tremaining: 450ms\n",
            "629:\tlearn: 0.1929651\ttest: 0.6698591\tbest: 0.6691889 (613)\ttotal: 764ms\tremaining: 449ms\n",
            "630:\tlearn: 0.1928619\ttest: 0.6698296\tbest: 0.6691889 (613)\ttotal: 765ms\tremaining: 447ms\n",
            "631:\tlearn: 0.1924134\ttest: 0.6696528\tbest: 0.6691889 (613)\ttotal: 766ms\tremaining: 446ms\n",
            "632:\tlearn: 0.1922842\ttest: 0.6695763\tbest: 0.6691889 (613)\ttotal: 767ms\tremaining: 445ms\n",
            "633:\tlearn: 0.1921777\ttest: 0.6696156\tbest: 0.6691889 (613)\ttotal: 768ms\tremaining: 443ms\n",
            "634:\tlearn: 0.1921482\ttest: 0.6696223\tbest: 0.6691889 (613)\ttotal: 769ms\tremaining: 442ms\n",
            "635:\tlearn: 0.1920495\ttest: 0.6696093\tbest: 0.6691889 (613)\ttotal: 770ms\tremaining: 441ms\n",
            "636:\tlearn: 0.1917920\ttest: 0.6696808\tbest: 0.6691889 (613)\ttotal: 771ms\tremaining: 440ms\n",
            "637:\tlearn: 0.1917349\ttest: 0.6696354\tbest: 0.6691889 (613)\ttotal: 773ms\tremaining: 438ms\n",
            "638:\tlearn: 0.1914752\ttest: 0.6693967\tbest: 0.6691889 (613)\ttotal: 774ms\tremaining: 437ms\n",
            "639:\tlearn: 0.1914415\ttest: 0.6693746\tbest: 0.6691889 (613)\ttotal: 775ms\tremaining: 436ms\n",
            "640:\tlearn: 0.1913372\ttest: 0.6695243\tbest: 0.6691889 (613)\ttotal: 776ms\tremaining: 434ms\n",
            "641:\tlearn: 0.1909240\ttest: 0.6692760\tbest: 0.6691889 (613)\ttotal: 777ms\tremaining: 433ms\n",
            "642:\tlearn: 0.1906912\ttest: 0.6693973\tbest: 0.6691889 (613)\ttotal: 778ms\tremaining: 432ms\n",
            "643:\tlearn: 0.1903166\ttest: 0.6692734\tbest: 0.6691889 (613)\ttotal: 779ms\tremaining: 430ms\n",
            "644:\tlearn: 0.1899261\ttest: 0.6693073\tbest: 0.6691889 (613)\ttotal: 780ms\tremaining: 429ms\n",
            "645:\tlearn: 0.1896078\ttest: 0.6696503\tbest: 0.6691889 (613)\ttotal: 781ms\tremaining: 428ms\n",
            "646:\tlearn: 0.1895437\ttest: 0.6696786\tbest: 0.6691889 (613)\ttotal: 782ms\tremaining: 426ms\n",
            "647:\tlearn: 0.1894761\ttest: 0.6696619\tbest: 0.6691889 (613)\ttotal: 783ms\tremaining: 425ms\n",
            "648:\tlearn: 0.1892188\ttest: 0.6694439\tbest: 0.6691889 (613)\ttotal: 784ms\tremaining: 424ms\n",
            "649:\tlearn: 0.1889678\ttest: 0.6692422\tbest: 0.6691889 (613)\ttotal: 785ms\tremaining: 423ms\n",
            "650:\tlearn: 0.1886182\ttest: 0.6693370\tbest: 0.6691889 (613)\ttotal: 786ms\tremaining: 421ms\n",
            "651:\tlearn: 0.1883283\ttest: 0.6693482\tbest: 0.6691889 (613)\ttotal: 787ms\tremaining: 420ms\n",
            "652:\tlearn: 0.1881552\ttest: 0.6694583\tbest: 0.6691889 (613)\ttotal: 788ms\tremaining: 419ms\n",
            "653:\tlearn: 0.1877022\ttest: 0.6692743\tbest: 0.6691889 (613)\ttotal: 789ms\tremaining: 417ms\n",
            "654:\tlearn: 0.1876347\ttest: 0.6693096\tbest: 0.6691889 (613)\ttotal: 790ms\tremaining: 416ms\n",
            "655:\tlearn: 0.1876028\ttest: 0.6693007\tbest: 0.6691889 (613)\ttotal: 791ms\tremaining: 415ms\n",
            "656:\tlearn: 0.1875058\ttest: 0.6690686\tbest: 0.6690686 (656)\ttotal: 792ms\tremaining: 414ms\n",
            "657:\tlearn: 0.1870640\ttest: 0.6690779\tbest: 0.6690686 (656)\ttotal: 794ms\tremaining: 412ms\n",
            "658:\tlearn: 0.1868542\ttest: 0.6689362\tbest: 0.6689362 (658)\ttotal: 795ms\tremaining: 411ms\n",
            "659:\tlearn: 0.1866879\ttest: 0.6690187\tbest: 0.6689362 (658)\ttotal: 796ms\tremaining: 410ms\n",
            "660:\tlearn: 0.1866018\ttest: 0.6689928\tbest: 0.6689362 (658)\ttotal: 797ms\tremaining: 409ms\n",
            "661:\tlearn: 0.1863632\ttest: 0.6690297\tbest: 0.6689362 (658)\ttotal: 798ms\tremaining: 407ms\n",
            "662:\tlearn: 0.1862687\ttest: 0.6690504\tbest: 0.6689362 (658)\ttotal: 799ms\tremaining: 406ms\n",
            "663:\tlearn: 0.1858379\ttest: 0.6693526\tbest: 0.6689362 (658)\ttotal: 800ms\tremaining: 405ms\n",
            "664:\tlearn: 0.1854892\ttest: 0.6694133\tbest: 0.6689362 (658)\ttotal: 801ms\tremaining: 404ms\n",
            "665:\tlearn: 0.1852102\ttest: 0.6692544\tbest: 0.6689362 (658)\ttotal: 802ms\tremaining: 402ms\n",
            "666:\tlearn: 0.1849699\ttest: 0.6692865\tbest: 0.6689362 (658)\ttotal: 803ms\tremaining: 401ms\n",
            "667:\tlearn: 0.1846714\ttest: 0.6694712\tbest: 0.6689362 (658)\ttotal: 804ms\tremaining: 400ms\n",
            "668:\tlearn: 0.1845863\ttest: 0.6694941\tbest: 0.6689362 (658)\ttotal: 806ms\tremaining: 399ms\n",
            "669:\tlearn: 0.1843514\ttest: 0.6692622\tbest: 0.6689362 (658)\ttotal: 807ms\tremaining: 397ms\n",
            "670:\tlearn: 0.1839732\ttest: 0.6695684\tbest: 0.6689362 (658)\ttotal: 808ms\tremaining: 396ms\n",
            "671:\tlearn: 0.1839590\ttest: 0.6695735\tbest: 0.6689362 (658)\ttotal: 809ms\tremaining: 395ms\n",
            "672:\tlearn: 0.1835913\ttest: 0.6694018\tbest: 0.6689362 (658)\ttotal: 810ms\tremaining: 393ms\n",
            "673:\tlearn: 0.1835541\ttest: 0.6693843\tbest: 0.6689362 (658)\ttotal: 811ms\tremaining: 392ms\n",
            "674:\tlearn: 0.1835056\ttest: 0.6693552\tbest: 0.6689362 (658)\ttotal: 812ms\tremaining: 391ms\n",
            "675:\tlearn: 0.1831280\ttest: 0.6696364\tbest: 0.6689362 (658)\ttotal: 813ms\tremaining: 390ms\n",
            "676:\tlearn: 0.1827287\ttest: 0.6694622\tbest: 0.6689362 (658)\ttotal: 814ms\tremaining: 388ms\n",
            "677:\tlearn: 0.1827034\ttest: 0.6694449\tbest: 0.6689362 (658)\ttotal: 815ms\tremaining: 387ms\n",
            "678:\tlearn: 0.1824322\ttest: 0.6693109\tbest: 0.6689362 (658)\ttotal: 816ms\tremaining: 386ms\n",
            "679:\tlearn: 0.1820521\ttest: 0.6692070\tbest: 0.6689362 (658)\ttotal: 817ms\tremaining: 385ms\n",
            "680:\tlearn: 0.1817036\ttest: 0.6692967\tbest: 0.6689362 (658)\ttotal: 818ms\tremaining: 383ms\n",
            "681:\tlearn: 0.1815111\ttest: 0.6693702\tbest: 0.6689362 (658)\ttotal: 820ms\tremaining: 382ms\n",
            "682:\tlearn: 0.1814928\ttest: 0.6693808\tbest: 0.6689362 (658)\ttotal: 821ms\tremaining: 381ms\n",
            "683:\tlearn: 0.1812467\ttest: 0.6695751\tbest: 0.6689362 (658)\ttotal: 822ms\tremaining: 380ms\n",
            "684:\tlearn: 0.1809650\ttest: 0.6696027\tbest: 0.6689362 (658)\ttotal: 823ms\tremaining: 378ms\n",
            "685:\tlearn: 0.1809123\ttest: 0.6698623\tbest: 0.6689362 (658)\ttotal: 824ms\tremaining: 377ms\n",
            "686:\tlearn: 0.1807297\ttest: 0.6699351\tbest: 0.6689362 (658)\ttotal: 825ms\tremaining: 376ms\n",
            "687:\tlearn: 0.1806442\ttest: 0.6700116\tbest: 0.6689362 (658)\ttotal: 826ms\tremaining: 374ms\n",
            "688:\tlearn: 0.1804058\ttest: 0.6701048\tbest: 0.6689362 (658)\ttotal: 827ms\tremaining: 373ms\n",
            "689:\tlearn: 0.1803890\ttest: 0.6701127\tbest: 0.6689362 (658)\ttotal: 828ms\tremaining: 372ms\n",
            "690:\tlearn: 0.1802581\ttest: 0.6701537\tbest: 0.6689362 (658)\ttotal: 829ms\tremaining: 371ms\n",
            "691:\tlearn: 0.1802395\ttest: 0.6701635\tbest: 0.6689362 (658)\ttotal: 830ms\tremaining: 369ms\n",
            "692:\tlearn: 0.1800977\ttest: 0.6701762\tbest: 0.6689362 (658)\ttotal: 831ms\tremaining: 368ms\n",
            "693:\tlearn: 0.1794997\ttest: 0.6704379\tbest: 0.6689362 (658)\ttotal: 832ms\tremaining: 367ms\n",
            "694:\tlearn: 0.1793046\ttest: 0.6705026\tbest: 0.6689362 (658)\ttotal: 833ms\tremaining: 366ms\n",
            "695:\tlearn: 0.1791882\ttest: 0.6705010\tbest: 0.6689362 (658)\ttotal: 834ms\tremaining: 364ms\n",
            "696:\tlearn: 0.1790577\ttest: 0.6705943\tbest: 0.6689362 (658)\ttotal: 835ms\tremaining: 363ms\n",
            "697:\tlearn: 0.1788220\ttest: 0.6707299\tbest: 0.6689362 (658)\ttotal: 836ms\tremaining: 362ms\n",
            "698:\tlearn: 0.1787362\ttest: 0.6706896\tbest: 0.6689362 (658)\ttotal: 837ms\tremaining: 361ms\n",
            "699:\tlearn: 0.1786757\ttest: 0.6707122\tbest: 0.6689362 (658)\ttotal: 838ms\tremaining: 359ms\n",
            "700:\tlearn: 0.1786175\ttest: 0.6707027\tbest: 0.6689362 (658)\ttotal: 839ms\tremaining: 358ms\n",
            "701:\tlearn: 0.1785861\ttest: 0.6707117\tbest: 0.6689362 (658)\ttotal: 840ms\tremaining: 357ms\n",
            "702:\tlearn: 0.1785404\ttest: 0.6707042\tbest: 0.6689362 (658)\ttotal: 842ms\tremaining: 356ms\n",
            "703:\tlearn: 0.1784819\ttest: 0.6706939\tbest: 0.6689362 (658)\ttotal: 843ms\tremaining: 354ms\n",
            "704:\tlearn: 0.1783579\ttest: 0.6707293\tbest: 0.6689362 (658)\ttotal: 844ms\tremaining: 353ms\n",
            "705:\tlearn: 0.1781265\ttest: 0.6703673\tbest: 0.6689362 (658)\ttotal: 845ms\tremaining: 352ms\n",
            "706:\tlearn: 0.1776715\ttest: 0.6703936\tbest: 0.6689362 (658)\ttotal: 846ms\tremaining: 351ms\n",
            "707:\tlearn: 0.1776070\ttest: 0.6704074\tbest: 0.6689362 (658)\ttotal: 847ms\tremaining: 350ms\n",
            "708:\tlearn: 0.1775850\ttest: 0.6704190\tbest: 0.6689362 (658)\ttotal: 849ms\tremaining: 348ms\n",
            "709:\tlearn: 0.1774859\ttest: 0.6699969\tbest: 0.6689362 (658)\ttotal: 850ms\tremaining: 347ms\n",
            "710:\tlearn: 0.1774365\ttest: 0.6700103\tbest: 0.6689362 (658)\ttotal: 851ms\tremaining: 346ms\n",
            "711:\tlearn: 0.1773880\ttest: 0.6700533\tbest: 0.6689362 (658)\ttotal: 852ms\tremaining: 345ms\n",
            "712:\tlearn: 0.1772830\ttest: 0.6699409\tbest: 0.6689362 (658)\ttotal: 853ms\tremaining: 343ms\n",
            "713:\tlearn: 0.1771868\ttest: 0.6699596\tbest: 0.6689362 (658)\ttotal: 854ms\tremaining: 342ms\n",
            "714:\tlearn: 0.1767985\ttest: 0.6701660\tbest: 0.6689362 (658)\ttotal: 855ms\tremaining: 341ms\n",
            "715:\tlearn: 0.1762662\ttest: 0.6706210\tbest: 0.6689362 (658)\ttotal: 856ms\tremaining: 340ms\n",
            "716:\tlearn: 0.1761846\ttest: 0.6705424\tbest: 0.6689362 (658)\ttotal: 857ms\tremaining: 338ms\n",
            "717:\tlearn: 0.1759755\ttest: 0.6705886\tbest: 0.6689362 (658)\ttotal: 858ms\tremaining: 337ms\n",
            "718:\tlearn: 0.1757950\ttest: 0.6706644\tbest: 0.6689362 (658)\ttotal: 894ms\tremaining: 350ms\n",
            "719:\tlearn: 0.1755136\ttest: 0.6709169\tbest: 0.6689362 (658)\ttotal: 897ms\tremaining: 349ms\n",
            "720:\tlearn: 0.1755024\ttest: 0.6709239\tbest: 0.6689362 (658)\ttotal: 898ms\tremaining: 348ms\n",
            "721:\tlearn: 0.1750629\ttest: 0.6710305\tbest: 0.6689362 (658)\ttotal: 901ms\tremaining: 347ms\n",
            "722:\tlearn: 0.1749210\ttest: 0.6709656\tbest: 0.6689362 (658)\ttotal: 903ms\tremaining: 346ms\n",
            "723:\tlearn: 0.1747804\ttest: 0.6709103\tbest: 0.6689362 (658)\ttotal: 905ms\tremaining: 345ms\n",
            "724:\tlearn: 0.1745923\ttest: 0.6708703\tbest: 0.6689362 (658)\ttotal: 913ms\tremaining: 346ms\n",
            "725:\tlearn: 0.1743563\ttest: 0.6709190\tbest: 0.6689362 (658)\ttotal: 915ms\tremaining: 345ms\n",
            "726:\tlearn: 0.1737545\ttest: 0.6714380\tbest: 0.6689362 (658)\ttotal: 917ms\tremaining: 344ms\n",
            "727:\tlearn: 0.1735883\ttest: 0.6712123\tbest: 0.6689362 (658)\ttotal: 919ms\tremaining: 343ms\n",
            "728:\tlearn: 0.1735409\ttest: 0.6712217\tbest: 0.6689362 (658)\ttotal: 923ms\tremaining: 343ms\n",
            "729:\tlearn: 0.1732269\ttest: 0.6712792\tbest: 0.6689362 (658)\ttotal: 925ms\tremaining: 342ms\n",
            "730:\tlearn: 0.1729980\ttest: 0.6712094\tbest: 0.6689362 (658)\ttotal: 927ms\tremaining: 341ms\n",
            "731:\tlearn: 0.1729034\ttest: 0.6712283\tbest: 0.6689362 (658)\ttotal: 928ms\tremaining: 340ms\n",
            "732:\tlearn: 0.1728408\ttest: 0.6712421\tbest: 0.6689362 (658)\ttotal: 933ms\tremaining: 340ms\n",
            "733:\tlearn: 0.1727180\ttest: 0.6711113\tbest: 0.6689362 (658)\ttotal: 934ms\tremaining: 338ms\n",
            "734:\tlearn: 0.1727046\ttest: 0.6710994\tbest: 0.6689362 (658)\ttotal: 935ms\tremaining: 337ms\n",
            "735:\tlearn: 0.1724358\ttest: 0.6711535\tbest: 0.6689362 (658)\ttotal: 936ms\tremaining: 336ms\n",
            "736:\tlearn: 0.1721910\ttest: 0.6711584\tbest: 0.6689362 (658)\ttotal: 937ms\tremaining: 334ms\n",
            "737:\tlearn: 0.1721165\ttest: 0.6711182\tbest: 0.6689362 (658)\ttotal: 938ms\tremaining: 333ms\n",
            "738:\tlearn: 0.1719612\ttest: 0.6709651\tbest: 0.6689362 (658)\ttotal: 939ms\tremaining: 332ms\n",
            "739:\tlearn: 0.1713866\ttest: 0.6714774\tbest: 0.6689362 (658)\ttotal: 940ms\tremaining: 330ms\n",
            "740:\tlearn: 0.1710274\ttest: 0.6716440\tbest: 0.6689362 (658)\ttotal: 941ms\tremaining: 329ms\n",
            "741:\tlearn: 0.1709966\ttest: 0.6716090\tbest: 0.6689362 (658)\ttotal: 942ms\tremaining: 328ms\n",
            "742:\tlearn: 0.1706814\ttest: 0.6716552\tbest: 0.6689362 (658)\ttotal: 943ms\tremaining: 326ms\n",
            "743:\tlearn: 0.1704553\ttest: 0.6717073\tbest: 0.6689362 (658)\ttotal: 944ms\tremaining: 325ms\n",
            "744:\tlearn: 0.1701658\ttest: 0.6716783\tbest: 0.6689362 (658)\ttotal: 945ms\tremaining: 324ms\n",
            "745:\tlearn: 0.1698369\ttest: 0.6719018\tbest: 0.6689362 (658)\ttotal: 947ms\tremaining: 322ms\n",
            "746:\tlearn: 0.1694609\ttest: 0.6722343\tbest: 0.6689362 (658)\ttotal: 947ms\tremaining: 321ms\n",
            "747:\tlearn: 0.1694432\ttest: 0.6722425\tbest: 0.6689362 (658)\ttotal: 949ms\tremaining: 320ms\n",
            "748:\tlearn: 0.1693506\ttest: 0.6722257\tbest: 0.6689362 (658)\ttotal: 950ms\tremaining: 318ms\n",
            "749:\tlearn: 0.1690885\ttest: 0.6725431\tbest: 0.6689362 (658)\ttotal: 951ms\tremaining: 317ms\n",
            "750:\tlearn: 0.1688366\ttest: 0.6725639\tbest: 0.6689362 (658)\ttotal: 952ms\tremaining: 316ms\n",
            "751:\tlearn: 0.1686084\ttest: 0.6724546\tbest: 0.6689362 (658)\ttotal: 953ms\tremaining: 314ms\n",
            "752:\tlearn: 0.1683396\ttest: 0.6727204\tbest: 0.6689362 (658)\ttotal: 954ms\tremaining: 313ms\n",
            "753:\tlearn: 0.1679901\ttest: 0.6725198\tbest: 0.6689362 (658)\ttotal: 955ms\tremaining: 311ms\n",
            "754:\tlearn: 0.1679733\ttest: 0.6725007\tbest: 0.6689362 (658)\ttotal: 956ms\tremaining: 310ms\n",
            "755:\tlearn: 0.1678988\ttest: 0.6725188\tbest: 0.6689362 (658)\ttotal: 957ms\tremaining: 309ms\n",
            "756:\tlearn: 0.1678189\ttest: 0.6724366\tbest: 0.6689362 (658)\ttotal: 958ms\tremaining: 307ms\n",
            "757:\tlearn: 0.1677260\ttest: 0.6724102\tbest: 0.6689362 (658)\ttotal: 959ms\tremaining: 306ms\n",
            "758:\tlearn: 0.1675633\ttest: 0.6729835\tbest: 0.6689362 (658)\ttotal: 960ms\tremaining: 305ms\n",
            "759:\tlearn: 0.1675166\ttest: 0.6729953\tbest: 0.6689362 (658)\ttotal: 961ms\tremaining: 303ms\n",
            "760:\tlearn: 0.1672520\ttest: 0.6727162\tbest: 0.6689362 (658)\ttotal: 962ms\tremaining: 302ms\n",
            "761:\tlearn: 0.1668700\ttest: 0.6728548\tbest: 0.6689362 (658)\ttotal: 963ms\tremaining: 301ms\n",
            "762:\tlearn: 0.1667069\ttest: 0.6727517\tbest: 0.6689362 (658)\ttotal: 964ms\tremaining: 300ms\n",
            "763:\tlearn: 0.1665805\ttest: 0.6727803\tbest: 0.6689362 (658)\ttotal: 965ms\tremaining: 298ms\n",
            "764:\tlearn: 0.1662718\ttest: 0.6729941\tbest: 0.6689362 (658)\ttotal: 966ms\tremaining: 297ms\n",
            "765:\tlearn: 0.1659581\ttest: 0.6729227\tbest: 0.6689362 (658)\ttotal: 967ms\tremaining: 296ms\n",
            "766:\tlearn: 0.1658000\ttest: 0.6730311\tbest: 0.6689362 (658)\ttotal: 968ms\tremaining: 294ms\n",
            "767:\tlearn: 0.1656872\ttest: 0.6730151\tbest: 0.6689362 (658)\ttotal: 969ms\tremaining: 293ms\n",
            "768:\tlearn: 0.1654582\ttest: 0.6730943\tbest: 0.6689362 (658)\ttotal: 971ms\tremaining: 292ms\n",
            "769:\tlearn: 0.1653537\ttest: 0.6730915\tbest: 0.6689362 (658)\ttotal: 972ms\tremaining: 290ms\n",
            "770:\tlearn: 0.1653051\ttest: 0.6730355\tbest: 0.6689362 (658)\ttotal: 973ms\tremaining: 289ms\n",
            "771:\tlearn: 0.1652271\ttest: 0.6730091\tbest: 0.6689362 (658)\ttotal: 973ms\tremaining: 287ms\n",
            "772:\tlearn: 0.1650951\ttest: 0.6730062\tbest: 0.6689362 (658)\ttotal: 974ms\tremaining: 286ms\n",
            "773:\tlearn: 0.1649744\ttest: 0.6731178\tbest: 0.6689362 (658)\ttotal: 976ms\tremaining: 285ms\n",
            "774:\tlearn: 0.1649405\ttest: 0.6731118\tbest: 0.6689362 (658)\ttotal: 976ms\tremaining: 283ms\n",
            "775:\tlearn: 0.1647684\ttest: 0.6734413\tbest: 0.6689362 (658)\ttotal: 978ms\tremaining: 282ms\n",
            "776:\tlearn: 0.1645181\ttest: 0.6735027\tbest: 0.6689362 (658)\ttotal: 979ms\tremaining: 281ms\n",
            "777:\tlearn: 0.1644295\ttest: 0.6734732\tbest: 0.6689362 (658)\ttotal: 980ms\tremaining: 280ms\n",
            "778:\tlearn: 0.1642253\ttest: 0.6734266\tbest: 0.6689362 (658)\ttotal: 981ms\tremaining: 278ms\n",
            "779:\tlearn: 0.1639491\ttest: 0.6732354\tbest: 0.6689362 (658)\ttotal: 982ms\tremaining: 277ms\n",
            "780:\tlearn: 0.1638471\ttest: 0.6732218\tbest: 0.6689362 (658)\ttotal: 983ms\tremaining: 276ms\n",
            "781:\tlearn: 0.1635833\ttest: 0.6732852\tbest: 0.6689362 (658)\ttotal: 984ms\tremaining: 274ms\n",
            "782:\tlearn: 0.1634541\ttest: 0.6731338\tbest: 0.6689362 (658)\ttotal: 985ms\tremaining: 273ms\n",
            "783:\tlearn: 0.1633927\ttest: 0.6731626\tbest: 0.6689362 (658)\ttotal: 986ms\tremaining: 272ms\n",
            "784:\tlearn: 0.1630833\ttest: 0.6732146\tbest: 0.6689362 (658)\ttotal: 987ms\tremaining: 270ms\n",
            "785:\tlearn: 0.1630106\ttest: 0.6732245\tbest: 0.6689362 (658)\ttotal: 988ms\tremaining: 269ms\n",
            "786:\tlearn: 0.1628797\ttest: 0.6731166\tbest: 0.6689362 (658)\ttotal: 989ms\tremaining: 268ms\n",
            "787:\tlearn: 0.1628701\ttest: 0.6731359\tbest: 0.6689362 (658)\ttotal: 990ms\tremaining: 266ms\n",
            "788:\tlearn: 0.1628526\ttest: 0.6731194\tbest: 0.6689362 (658)\ttotal: 991ms\tremaining: 265ms\n",
            "789:\tlearn: 0.1627729\ttest: 0.6731127\tbest: 0.6689362 (658)\ttotal: 993ms\tremaining: 264ms\n",
            "790:\tlearn: 0.1627608\ttest: 0.6731302\tbest: 0.6689362 (658)\ttotal: 994ms\tremaining: 263ms\n",
            "791:\tlearn: 0.1624039\ttest: 0.6731421\tbest: 0.6689362 (658)\ttotal: 995ms\tremaining: 261ms\n",
            "792:\tlearn: 0.1622132\ttest: 0.6731685\tbest: 0.6689362 (658)\ttotal: 996ms\tremaining: 260ms\n",
            "793:\tlearn: 0.1619779\ttest: 0.6731990\tbest: 0.6689362 (658)\ttotal: 997ms\tremaining: 259ms\n",
            "794:\tlearn: 0.1618895\ttest: 0.6732254\tbest: 0.6689362 (658)\ttotal: 998ms\tremaining: 257ms\n",
            "795:\tlearn: 0.1618766\ttest: 0.6732357\tbest: 0.6689362 (658)\ttotal: 999ms\tremaining: 256ms\n",
            "796:\tlearn: 0.1617933\ttest: 0.6730525\tbest: 0.6689362 (658)\ttotal: 1s\tremaining: 255ms\n",
            "797:\tlearn: 0.1614588\ttest: 0.6729672\tbest: 0.6689362 (658)\ttotal: 1s\tremaining: 254ms\n",
            "798:\tlearn: 0.1612674\ttest: 0.6729285\tbest: 0.6689362 (658)\ttotal: 1s\tremaining: 252ms\n",
            "799:\tlearn: 0.1611589\ttest: 0.6727221\tbest: 0.6689362 (658)\ttotal: 1s\tremaining: 251ms\n",
            "800:\tlearn: 0.1611139\ttest: 0.6728409\tbest: 0.6689362 (658)\ttotal: 1s\tremaining: 250ms\n",
            "801:\tlearn: 0.1609013\ttest: 0.6727740\tbest: 0.6689362 (658)\ttotal: 1s\tremaining: 248ms\n",
            "802:\tlearn: 0.1608271\ttest: 0.6727382\tbest: 0.6689362 (658)\ttotal: 1.01s\tremaining: 247ms\n",
            "803:\tlearn: 0.1603656\ttest: 0.6728321\tbest: 0.6689362 (658)\ttotal: 1.01s\tremaining: 246ms\n",
            "804:\tlearn: 0.1601055\ttest: 0.6726438\tbest: 0.6689362 (658)\ttotal: 1.01s\tremaining: 244ms\n",
            "805:\tlearn: 0.1597679\ttest: 0.6726458\tbest: 0.6689362 (658)\ttotal: 1.01s\tremaining: 243ms\n",
            "806:\tlearn: 0.1596215\ttest: 0.6726575\tbest: 0.6689362 (658)\ttotal: 1.01s\tremaining: 242ms\n",
            "807:\tlearn: 0.1595967\ttest: 0.6726458\tbest: 0.6689362 (658)\ttotal: 1.01s\tremaining: 241ms\n",
            "808:\tlearn: 0.1595587\ttest: 0.6726454\tbest: 0.6689362 (658)\ttotal: 1.01s\tremaining: 239ms\n",
            "809:\tlearn: 0.1595249\ttest: 0.6726297\tbest: 0.6689362 (658)\ttotal: 1.01s\tremaining: 238ms\n",
            "810:\tlearn: 0.1592901\ttest: 0.6726695\tbest: 0.6689362 (658)\ttotal: 1.01s\tremaining: 237ms\n",
            "811:\tlearn: 0.1591936\ttest: 0.6726382\tbest: 0.6689362 (658)\ttotal: 1.02s\tremaining: 235ms\n",
            "812:\tlearn: 0.1587324\ttest: 0.6724863\tbest: 0.6689362 (658)\ttotal: 1.02s\tremaining: 234ms\n",
            "813:\tlearn: 0.1586557\ttest: 0.6724796\tbest: 0.6689362 (658)\ttotal: 1.02s\tremaining: 233ms\n",
            "814:\tlearn: 0.1584851\ttest: 0.6722807\tbest: 0.6689362 (658)\ttotal: 1.02s\tremaining: 231ms\n",
            "815:\tlearn: 0.1580048\ttest: 0.6722894\tbest: 0.6689362 (658)\ttotal: 1.02s\tremaining: 230ms\n",
            "816:\tlearn: 0.1575093\ttest: 0.6727556\tbest: 0.6689362 (658)\ttotal: 1.02s\tremaining: 229ms\n",
            "817:\tlearn: 0.1574957\ttest: 0.6727506\tbest: 0.6689362 (658)\ttotal: 1.02s\tremaining: 228ms\n",
            "818:\tlearn: 0.1573045\ttest: 0.6726624\tbest: 0.6689362 (658)\ttotal: 1.02s\tremaining: 226ms\n",
            "819:\tlearn: 0.1569402\ttest: 0.6726078\tbest: 0.6689362 (658)\ttotal: 1.02s\tremaining: 225ms\n",
            "820:\tlearn: 0.1568614\ttest: 0.6727476\tbest: 0.6689362 (658)\ttotal: 1.03s\tremaining: 224ms\n",
            "821:\tlearn: 0.1566691\ttest: 0.6728961\tbest: 0.6689362 (658)\ttotal: 1.03s\tremaining: 222ms\n",
            "822:\tlearn: 0.1563837\ttest: 0.6725971\tbest: 0.6689362 (658)\ttotal: 1.03s\tremaining: 221ms\n",
            "823:\tlearn: 0.1561146\ttest: 0.6723078\tbest: 0.6689362 (658)\ttotal: 1.03s\tremaining: 220ms\n",
            "824:\tlearn: 0.1560810\ttest: 0.6723093\tbest: 0.6689362 (658)\ttotal: 1.03s\tremaining: 219ms\n",
            "825:\tlearn: 0.1560703\ttest: 0.6723231\tbest: 0.6689362 (658)\ttotal: 1.03s\tremaining: 217ms\n",
            "826:\tlearn: 0.1559379\ttest: 0.6722308\tbest: 0.6689362 (658)\ttotal: 1.03s\tremaining: 216ms\n",
            "827:\tlearn: 0.1558563\ttest: 0.6722050\tbest: 0.6689362 (658)\ttotal: 1.03s\tremaining: 215ms\n",
            "828:\tlearn: 0.1557315\ttest: 0.6723380\tbest: 0.6689362 (658)\ttotal: 1.03s\tremaining: 213ms\n",
            "829:\tlearn: 0.1557042\ttest: 0.6723431\tbest: 0.6689362 (658)\ttotal: 1.03s\tremaining: 212ms\n",
            "830:\tlearn: 0.1556909\ttest: 0.6723541\tbest: 0.6689362 (658)\ttotal: 1.04s\tremaining: 211ms\n",
            "831:\tlearn: 0.1555804\ttest: 0.6723818\tbest: 0.6689362 (658)\ttotal: 1.04s\tremaining: 210ms\n",
            "832:\tlearn: 0.1555712\ttest: 0.6723942\tbest: 0.6689362 (658)\ttotal: 1.04s\tremaining: 208ms\n",
            "833:\tlearn: 0.1554454\ttest: 0.6723723\tbest: 0.6689362 (658)\ttotal: 1.04s\tremaining: 207ms\n",
            "834:\tlearn: 0.1554069\ttest: 0.6723535\tbest: 0.6689362 (658)\ttotal: 1.04s\tremaining: 206ms\n",
            "835:\tlearn: 0.1553476\ttest: 0.6724006\tbest: 0.6689362 (658)\ttotal: 1.04s\tremaining: 204ms\n",
            "836:\tlearn: 0.1553090\ttest: 0.6723854\tbest: 0.6689362 (658)\ttotal: 1.04s\tremaining: 203ms\n",
            "837:\tlearn: 0.1551104\ttest: 0.6723568\tbest: 0.6689362 (658)\ttotal: 1.04s\tremaining: 202ms\n",
            "838:\tlearn: 0.1550782\ttest: 0.6723958\tbest: 0.6689362 (658)\ttotal: 1.04s\tremaining: 201ms\n",
            "839:\tlearn: 0.1550285\ttest: 0.6723794\tbest: 0.6689362 (658)\ttotal: 1.05s\tremaining: 199ms\n",
            "840:\tlearn: 0.1549696\ttest: 0.6722679\tbest: 0.6689362 (658)\ttotal: 1.05s\tremaining: 198ms\n",
            "841:\tlearn: 0.1547829\ttest: 0.6723662\tbest: 0.6689362 (658)\ttotal: 1.05s\tremaining: 197ms\n",
            "842:\tlearn: 0.1547717\ttest: 0.6723824\tbest: 0.6689362 (658)\ttotal: 1.05s\tremaining: 196ms\n",
            "843:\tlearn: 0.1547434\ttest: 0.6724102\tbest: 0.6689362 (658)\ttotal: 1.05s\tremaining: 194ms\n",
            "844:\tlearn: 0.1546555\ttest: 0.6724266\tbest: 0.6689362 (658)\ttotal: 1.05s\tremaining: 193ms\n",
            "845:\tlearn: 0.1543065\ttest: 0.6723026\tbest: 0.6689362 (658)\ttotal: 1.05s\tremaining: 192ms\n",
            "846:\tlearn: 0.1541480\ttest: 0.6721149\tbest: 0.6689362 (658)\ttotal: 1.05s\tremaining: 190ms\n",
            "847:\tlearn: 0.1541296\ttest: 0.6721318\tbest: 0.6689362 (658)\ttotal: 1.05s\tremaining: 189ms\n",
            "848:\tlearn: 0.1540729\ttest: 0.6721680\tbest: 0.6689362 (658)\ttotal: 1.06s\tremaining: 188ms\n",
            "849:\tlearn: 0.1537488\ttest: 0.6723194\tbest: 0.6689362 (658)\ttotal: 1.06s\tremaining: 187ms\n",
            "850:\tlearn: 0.1535466\ttest: 0.6723360\tbest: 0.6689362 (658)\ttotal: 1.06s\tremaining: 185ms\n",
            "851:\tlearn: 0.1535093\ttest: 0.6723445\tbest: 0.6689362 (658)\ttotal: 1.06s\tremaining: 184ms\n",
            "852:\tlearn: 0.1534504\ttest: 0.6723271\tbest: 0.6689362 (658)\ttotal: 1.06s\tremaining: 183ms\n",
            "853:\tlearn: 0.1533206\ttest: 0.6723930\tbest: 0.6689362 (658)\ttotal: 1.06s\tremaining: 182ms\n",
            "854:\tlearn: 0.1532359\ttest: 0.6724121\tbest: 0.6689362 (658)\ttotal: 1.06s\tremaining: 180ms\n",
            "855:\tlearn: 0.1531932\ttest: 0.6723634\tbest: 0.6689362 (658)\ttotal: 1.06s\tremaining: 179ms\n",
            "856:\tlearn: 0.1531850\ttest: 0.6723754\tbest: 0.6689362 (658)\ttotal: 1.06s\tremaining: 178ms\n",
            "857:\tlearn: 0.1530967\ttest: 0.6722703\tbest: 0.6689362 (658)\ttotal: 1.07s\tremaining: 176ms\n",
            "858:\tlearn: 0.1530116\ttest: 0.6722658\tbest: 0.6689362 (658)\ttotal: 1.07s\tremaining: 175ms\n",
            "859:\tlearn: 0.1529913\ttest: 0.6722843\tbest: 0.6689362 (658)\ttotal: 1.07s\tremaining: 174ms\n",
            "860:\tlearn: 0.1529290\ttest: 0.6722278\tbest: 0.6689362 (658)\ttotal: 1.07s\tremaining: 173ms\n",
            "861:\tlearn: 0.1526990\ttest: 0.6721804\tbest: 0.6689362 (658)\ttotal: 1.07s\tremaining: 172ms\n",
            "862:\tlearn: 0.1526780\ttest: 0.6721711\tbest: 0.6689362 (658)\ttotal: 1.08s\tremaining: 171ms\n",
            "863:\tlearn: 0.1524702\ttest: 0.6722212\tbest: 0.6689362 (658)\ttotal: 1.08s\tremaining: 170ms\n",
            "864:\tlearn: 0.1524413\ttest: 0.6722457\tbest: 0.6689362 (658)\ttotal: 1.08s\tremaining: 169ms\n",
            "865:\tlearn: 0.1523675\ttest: 0.6723410\tbest: 0.6689362 (658)\ttotal: 1.08s\tremaining: 167ms\n",
            "866:\tlearn: 0.1522038\ttest: 0.6723647\tbest: 0.6689362 (658)\ttotal: 1.08s\tremaining: 166ms\n",
            "867:\tlearn: 0.1521725\ttest: 0.6723503\tbest: 0.6689362 (658)\ttotal: 1.08s\tremaining: 165ms\n",
            "868:\tlearn: 0.1520917\ttest: 0.6723250\tbest: 0.6689362 (658)\ttotal: 1.08s\tremaining: 164ms\n",
            "869:\tlearn: 0.1520155\ttest: 0.6723368\tbest: 0.6689362 (658)\ttotal: 1.09s\tremaining: 162ms\n",
            "870:\tlearn: 0.1518054\ttest: 0.6723735\tbest: 0.6689362 (658)\ttotal: 1.09s\tremaining: 161ms\n",
            "871:\tlearn: 0.1517324\ttest: 0.6723365\tbest: 0.6689362 (658)\ttotal: 1.09s\tremaining: 160ms\n",
            "872:\tlearn: 0.1516530\ttest: 0.6723565\tbest: 0.6689362 (658)\ttotal: 1.09s\tremaining: 158ms\n",
            "873:\tlearn: 0.1514889\ttest: 0.6723191\tbest: 0.6689362 (658)\ttotal: 1.09s\tremaining: 157ms\n",
            "874:\tlearn: 0.1512606\ttest: 0.6723045\tbest: 0.6689362 (658)\ttotal: 1.09s\tremaining: 156ms\n",
            "875:\tlearn: 0.1509683\ttest: 0.6721819\tbest: 0.6689362 (658)\ttotal: 1.09s\tremaining: 155ms\n",
            "876:\tlearn: 0.1509608\ttest: 0.6721776\tbest: 0.6689362 (658)\ttotal: 1.09s\tremaining: 153ms\n",
            "877:\tlearn: 0.1506858\ttest: 0.6721181\tbest: 0.6689362 (658)\ttotal: 1.09s\tremaining: 152ms\n",
            "878:\tlearn: 0.1505422\ttest: 0.6722178\tbest: 0.6689362 (658)\ttotal: 1.09s\tremaining: 151ms\n",
            "879:\tlearn: 0.1502920\ttest: 0.6724162\tbest: 0.6689362 (658)\ttotal: 1.1s\tremaining: 150ms\n",
            "880:\tlearn: 0.1500992\ttest: 0.6723311\tbest: 0.6689362 (658)\ttotal: 1.1s\tremaining: 148ms\n",
            "881:\tlearn: 0.1496898\ttest: 0.6724202\tbest: 0.6689362 (658)\ttotal: 1.1s\tremaining: 147ms\n",
            "882:\tlearn: 0.1493473\ttest: 0.6724712\tbest: 0.6689362 (658)\ttotal: 1.1s\tremaining: 146ms\n",
            "883:\tlearn: 0.1492488\ttest: 0.6725507\tbest: 0.6689362 (658)\ttotal: 1.1s\tremaining: 144ms\n",
            "884:\tlearn: 0.1491011\ttest: 0.6725675\tbest: 0.6689362 (658)\ttotal: 1.1s\tremaining: 143ms\n",
            "885:\tlearn: 0.1490550\ttest: 0.6725990\tbest: 0.6689362 (658)\ttotal: 1.1s\tremaining: 142ms\n",
            "886:\tlearn: 0.1488321\ttest: 0.6723445\tbest: 0.6689362 (658)\ttotal: 1.1s\tremaining: 141ms\n",
            "887:\tlearn: 0.1486643\ttest: 0.6723203\tbest: 0.6689362 (658)\ttotal: 1.1s\tremaining: 139ms\n",
            "888:\tlearn: 0.1484307\ttest: 0.6724428\tbest: 0.6689362 (658)\ttotal: 1.11s\tremaining: 138ms\n",
            "889:\tlearn: 0.1481996\ttest: 0.6722476\tbest: 0.6689362 (658)\ttotal: 1.11s\tremaining: 137ms\n",
            "890:\tlearn: 0.1478535\ttest: 0.6724264\tbest: 0.6689362 (658)\ttotal: 1.11s\tremaining: 136ms\n",
            "891:\tlearn: 0.1477125\ttest: 0.6724825\tbest: 0.6689362 (658)\ttotal: 1.11s\tremaining: 134ms\n",
            "892:\tlearn: 0.1475106\ttest: 0.6725665\tbest: 0.6689362 (658)\ttotal: 1.11s\tremaining: 133ms\n",
            "893:\tlearn: 0.1474659\ttest: 0.6725563\tbest: 0.6689362 (658)\ttotal: 1.11s\tremaining: 132ms\n",
            "894:\tlearn: 0.1470665\ttest: 0.6725424\tbest: 0.6689362 (658)\ttotal: 1.11s\tremaining: 131ms\n",
            "895:\tlearn: 0.1468883\ttest: 0.6723669\tbest: 0.6689362 (658)\ttotal: 1.11s\tremaining: 129ms\n",
            "896:\tlearn: 0.1468658\ttest: 0.6723519\tbest: 0.6689362 (658)\ttotal: 1.11s\tremaining: 128ms\n",
            "897:\tlearn: 0.1467716\ttest: 0.6724240\tbest: 0.6689362 (658)\ttotal: 1.12s\tremaining: 127ms\n",
            "898:\tlearn: 0.1467118\ttest: 0.6725912\tbest: 0.6689362 (658)\ttotal: 1.12s\tremaining: 126ms\n",
            "899:\tlearn: 0.1466937\ttest: 0.6725726\tbest: 0.6689362 (658)\ttotal: 1.12s\tremaining: 124ms\n",
            "900:\tlearn: 0.1464794\ttest: 0.6726628\tbest: 0.6689362 (658)\ttotal: 1.12s\tremaining: 123ms\n",
            "901:\tlearn: 0.1461931\ttest: 0.6726711\tbest: 0.6689362 (658)\ttotal: 1.12s\tremaining: 122ms\n",
            "902:\tlearn: 0.1461285\ttest: 0.6726860\tbest: 0.6689362 (658)\ttotal: 1.12s\tremaining: 121ms\n",
            "903:\tlearn: 0.1461151\ttest: 0.6726909\tbest: 0.6689362 (658)\ttotal: 1.12s\tremaining: 119ms\n",
            "904:\tlearn: 0.1461048\ttest: 0.6727036\tbest: 0.6689362 (658)\ttotal: 1.12s\tremaining: 118ms\n",
            "905:\tlearn: 0.1457673\ttest: 0.6726720\tbest: 0.6689362 (658)\ttotal: 1.12s\tremaining: 117ms\n",
            "906:\tlearn: 0.1457529\ttest: 0.6726912\tbest: 0.6689362 (658)\ttotal: 1.13s\tremaining: 115ms\n",
            "907:\tlearn: 0.1455282\ttest: 0.6725469\tbest: 0.6689362 (658)\ttotal: 1.13s\tremaining: 114ms\n",
            "908:\tlearn: 0.1452419\ttest: 0.6726724\tbest: 0.6689362 (658)\ttotal: 1.13s\tremaining: 113ms\n",
            "909:\tlearn: 0.1451614\ttest: 0.6726486\tbest: 0.6689362 (658)\ttotal: 1.13s\tremaining: 112ms\n",
            "910:\tlearn: 0.1450684\ttest: 0.6726374\tbest: 0.6689362 (658)\ttotal: 1.13s\tremaining: 110ms\n",
            "911:\tlearn: 0.1448609\ttest: 0.6729962\tbest: 0.6689362 (658)\ttotal: 1.13s\tremaining: 109ms\n",
            "912:\tlearn: 0.1447133\ttest: 0.6730242\tbest: 0.6689362 (658)\ttotal: 1.13s\tremaining: 108ms\n",
            "913:\tlearn: 0.1446906\ttest: 0.6729823\tbest: 0.6689362 (658)\ttotal: 1.13s\tremaining: 107ms\n",
            "914:\tlearn: 0.1446368\ttest: 0.6729562\tbest: 0.6689362 (658)\ttotal: 1.13s\tremaining: 105ms\n",
            "915:\tlearn: 0.1444606\ttest: 0.6727505\tbest: 0.6689362 (658)\ttotal: 1.14s\tremaining: 104ms\n",
            "916:\tlearn: 0.1442716\ttest: 0.6726611\tbest: 0.6689362 (658)\ttotal: 1.14s\tremaining: 103ms\n",
            "917:\tlearn: 0.1439143\ttest: 0.6724045\tbest: 0.6689362 (658)\ttotal: 1.14s\tremaining: 102ms\n",
            "918:\tlearn: 0.1438445\ttest: 0.6724210\tbest: 0.6689362 (658)\ttotal: 1.14s\tremaining: 100ms\n",
            "919:\tlearn: 0.1436684\ttest: 0.6724114\tbest: 0.6689362 (658)\ttotal: 1.14s\tremaining: 99.2ms\n",
            "920:\tlearn: 0.1435965\ttest: 0.6722410\tbest: 0.6689362 (658)\ttotal: 1.14s\tremaining: 97.9ms\n",
            "921:\tlearn: 0.1434508\ttest: 0.6722111\tbest: 0.6689362 (658)\ttotal: 1.14s\tremaining: 96.7ms\n",
            "922:\tlearn: 0.1433917\ttest: 0.6722148\tbest: 0.6689362 (658)\ttotal: 1.14s\tremaining: 95.4ms\n",
            "923:\tlearn: 0.1432596\ttest: 0.6721657\tbest: 0.6689362 (658)\ttotal: 1.14s\tremaining: 94.2ms\n",
            "924:\tlearn: 0.1431773\ttest: 0.6721645\tbest: 0.6689362 (658)\ttotal: 1.15s\tremaining: 92.9ms\n",
            "925:\tlearn: 0.1431632\ttest: 0.6721527\tbest: 0.6689362 (658)\ttotal: 1.15s\tremaining: 91.7ms\n",
            "926:\tlearn: 0.1431369\ttest: 0.6721337\tbest: 0.6689362 (658)\ttotal: 1.15s\tremaining: 90.4ms\n",
            "927:\tlearn: 0.1431051\ttest: 0.6721341\tbest: 0.6689362 (658)\ttotal: 1.15s\tremaining: 89.2ms\n",
            "928:\tlearn: 0.1428699\ttest: 0.6721685\tbest: 0.6689362 (658)\ttotal: 1.15s\tremaining: 87.9ms\n",
            "929:\tlearn: 0.1425973\ttest: 0.6723432\tbest: 0.6689362 (658)\ttotal: 1.15s\tremaining: 86.6ms\n",
            "930:\tlearn: 0.1425034\ttest: 0.6723908\tbest: 0.6689362 (658)\ttotal: 1.15s\tremaining: 85.4ms\n",
            "931:\tlearn: 0.1422826\ttest: 0.6723855\tbest: 0.6689362 (658)\ttotal: 1.15s\tremaining: 84.2ms\n",
            "932:\tlearn: 0.1421126\ttest: 0.6723728\tbest: 0.6689362 (658)\ttotal: 1.15s\tremaining: 82.9ms\n",
            "933:\tlearn: 0.1419350\ttest: 0.6722382\tbest: 0.6689362 (658)\ttotal: 1.16s\tremaining: 81.7ms\n",
            "934:\tlearn: 0.1418358\ttest: 0.6722593\tbest: 0.6689362 (658)\ttotal: 1.16s\tremaining: 80.4ms\n",
            "935:\tlearn: 0.1416822\ttest: 0.6723864\tbest: 0.6689362 (658)\ttotal: 1.16s\tremaining: 79.2ms\n",
            "936:\tlearn: 0.1415005\ttest: 0.6724177\tbest: 0.6689362 (658)\ttotal: 1.16s\tremaining: 77.9ms\n",
            "937:\tlearn: 0.1411572\ttest: 0.6723927\tbest: 0.6689362 (658)\ttotal: 1.16s\tremaining: 76.7ms\n",
            "938:\tlearn: 0.1409057\ttest: 0.6725559\tbest: 0.6689362 (658)\ttotal: 1.16s\tremaining: 75.4ms\n",
            "939:\tlearn: 0.1408626\ttest: 0.6725773\tbest: 0.6689362 (658)\ttotal: 1.16s\tremaining: 74.2ms\n",
            "940:\tlearn: 0.1408528\ttest: 0.6725765\tbest: 0.6689362 (658)\ttotal: 1.16s\tremaining: 73ms\n",
            "941:\tlearn: 0.1407098\ttest: 0.6726847\tbest: 0.6689362 (658)\ttotal: 1.16s\tremaining: 71.7ms\n",
            "942:\tlearn: 0.1404388\ttest: 0.6725198\tbest: 0.6689362 (658)\ttotal: 1.17s\tremaining: 70.5ms\n",
            "943:\tlearn: 0.1404306\ttest: 0.6725101\tbest: 0.6689362 (658)\ttotal: 1.17s\tremaining: 69.2ms\n",
            "944:\tlearn: 0.1404228\ttest: 0.6725246\tbest: 0.6689362 (658)\ttotal: 1.17s\tremaining: 68ms\n",
            "945:\tlearn: 0.1403493\ttest: 0.6725007\tbest: 0.6689362 (658)\ttotal: 1.17s\tremaining: 66.7ms\n",
            "946:\tlearn: 0.1402327\ttest: 0.6724898\tbest: 0.6689362 (658)\ttotal: 1.17s\tremaining: 65.5ms\n",
            "947:\tlearn: 0.1399105\ttest: 0.6725328\tbest: 0.6689362 (658)\ttotal: 1.17s\tremaining: 64.3ms\n",
            "948:\tlearn: 0.1397639\ttest: 0.6726153\tbest: 0.6689362 (658)\ttotal: 1.17s\tremaining: 63ms\n",
            "949:\tlearn: 0.1396412\ttest: 0.6727714\tbest: 0.6689362 (658)\ttotal: 1.17s\tremaining: 61.8ms\n",
            "950:\tlearn: 0.1395705\ttest: 0.6727674\tbest: 0.6689362 (658)\ttotal: 1.17s\tremaining: 60.5ms\n",
            "951:\tlearn: 0.1395351\ttest: 0.6727485\tbest: 0.6689362 (658)\ttotal: 1.18s\tremaining: 59.3ms\n",
            "952:\tlearn: 0.1394903\ttest: 0.6727022\tbest: 0.6689362 (658)\ttotal: 1.18s\tremaining: 58ms\n",
            "953:\tlearn: 0.1394457\ttest: 0.6727386\tbest: 0.6689362 (658)\ttotal: 1.18s\tremaining: 56.8ms\n",
            "954:\tlearn: 0.1393080\ttest: 0.6727843\tbest: 0.6689362 (658)\ttotal: 1.18s\tremaining: 55.5ms\n",
            "955:\tlearn: 0.1391891\ttest: 0.6728188\tbest: 0.6689362 (658)\ttotal: 1.18s\tremaining: 54.3ms\n",
            "956:\tlearn: 0.1390208\ttest: 0.6729098\tbest: 0.6689362 (658)\ttotal: 1.18s\tremaining: 53ms\n",
            "957:\tlearn: 0.1388831\ttest: 0.6728716\tbest: 0.6689362 (658)\ttotal: 1.18s\tremaining: 51.8ms\n",
            "958:\tlearn: 0.1388349\ttest: 0.6728653\tbest: 0.6689362 (658)\ttotal: 1.18s\tremaining: 50.6ms\n",
            "959:\tlearn: 0.1385154\ttest: 0.6729515\tbest: 0.6689362 (658)\ttotal: 1.19s\tremaining: 49.4ms\n",
            "960:\tlearn: 0.1384068\ttest: 0.6730830\tbest: 0.6689362 (658)\ttotal: 1.19s\tremaining: 48.2ms\n",
            "961:\tlearn: 0.1382494\ttest: 0.6731309\tbest: 0.6689362 (658)\ttotal: 1.19s\tremaining: 47ms\n",
            "962:\tlearn: 0.1378871\ttest: 0.6730683\tbest: 0.6689362 (658)\ttotal: 1.19s\tremaining: 45.7ms\n",
            "963:\tlearn: 0.1378175\ttest: 0.6730675\tbest: 0.6689362 (658)\ttotal: 1.19s\tremaining: 44.5ms\n",
            "964:\tlearn: 0.1373087\ttest: 0.6730688\tbest: 0.6689362 (658)\ttotal: 1.19s\tremaining: 43.3ms\n",
            "965:\tlearn: 0.1371470\ttest: 0.6730385\tbest: 0.6689362 (658)\ttotal: 1.2s\tremaining: 42.1ms\n",
            "966:\tlearn: 0.1368069\ttest: 0.6729791\tbest: 0.6689362 (658)\ttotal: 1.2s\tremaining: 40.9ms\n",
            "967:\tlearn: 0.1366383\ttest: 0.6728991\tbest: 0.6689362 (658)\ttotal: 1.2s\tremaining: 39.7ms\n",
            "968:\tlearn: 0.1365179\ttest: 0.6728933\tbest: 0.6689362 (658)\ttotal: 1.2s\tremaining: 38.5ms\n",
            "969:\tlearn: 0.1365092\ttest: 0.6729008\tbest: 0.6689362 (658)\ttotal: 1.2s\tremaining: 37.2ms\n",
            "970:\tlearn: 0.1361797\ttest: 0.6726598\tbest: 0.6689362 (658)\ttotal: 1.2s\tremaining: 36ms\n",
            "971:\tlearn: 0.1359227\ttest: 0.6728718\tbest: 0.6689362 (658)\ttotal: 1.21s\tremaining: 34.7ms\n",
            "972:\tlearn: 0.1359011\ttest: 0.6728745\tbest: 0.6689362 (658)\ttotal: 1.21s\tremaining: 33.5ms\n",
            "973:\tlearn: 0.1357933\ttest: 0.6727995\tbest: 0.6689362 (658)\ttotal: 1.21s\tremaining: 32.3ms\n",
            "974:\tlearn: 0.1356640\ttest: 0.6728224\tbest: 0.6689362 (658)\ttotal: 1.21s\tremaining: 31ms\n",
            "975:\tlearn: 0.1354291\ttest: 0.6727261\tbest: 0.6689362 (658)\ttotal: 1.21s\tremaining: 29.8ms\n",
            "976:\tlearn: 0.1353956\ttest: 0.6727323\tbest: 0.6689362 (658)\ttotal: 1.21s\tremaining: 28.5ms\n",
            "977:\tlearn: 0.1353851\ttest: 0.6727236\tbest: 0.6689362 (658)\ttotal: 1.21s\tremaining: 27.3ms\n",
            "978:\tlearn: 0.1351769\ttest: 0.6728482\tbest: 0.6689362 (658)\ttotal: 1.21s\tremaining: 26ms\n",
            "979:\tlearn: 0.1351661\ttest: 0.6728621\tbest: 0.6689362 (658)\ttotal: 1.21s\tremaining: 24.8ms\n",
            "980:\tlearn: 0.1351611\ttest: 0.6728712\tbest: 0.6689362 (658)\ttotal: 1.22s\tremaining: 23.5ms\n",
            "981:\tlearn: 0.1350637\ttest: 0.6728439\tbest: 0.6689362 (658)\ttotal: 1.22s\tremaining: 22.3ms\n",
            "982:\tlearn: 0.1350060\ttest: 0.6728553\tbest: 0.6689362 (658)\ttotal: 1.22s\tremaining: 21.1ms\n",
            "983:\tlearn: 0.1349498\ttest: 0.6727869\tbest: 0.6689362 (658)\ttotal: 1.22s\tremaining: 19.8ms\n",
            "984:\tlearn: 0.1349345\ttest: 0.6727871\tbest: 0.6689362 (658)\ttotal: 1.22s\tremaining: 18.6ms\n",
            "985:\tlearn: 0.1349264\ttest: 0.6727940\tbest: 0.6689362 (658)\ttotal: 1.22s\tremaining: 17.3ms\n",
            "986:\tlearn: 0.1349030\ttest: 0.6728520\tbest: 0.6689362 (658)\ttotal: 1.22s\tremaining: 16.1ms\n",
            "987:\tlearn: 0.1347499\ttest: 0.6729908\tbest: 0.6689362 (658)\ttotal: 1.22s\tremaining: 14.9ms\n",
            "988:\tlearn: 0.1345055\ttest: 0.6731587\tbest: 0.6689362 (658)\ttotal: 1.22s\tremaining: 13.6ms\n",
            "989:\tlearn: 0.1344493\ttest: 0.6731601\tbest: 0.6689362 (658)\ttotal: 1.23s\tremaining: 12.4ms\n",
            "990:\tlearn: 0.1340792\ttest: 0.6734722\tbest: 0.6689362 (658)\ttotal: 1.23s\tremaining: 11.1ms\n",
            "991:\tlearn: 0.1338660\ttest: 0.6734786\tbest: 0.6689362 (658)\ttotal: 1.23s\tremaining: 9.9ms\n",
            "992:\tlearn: 0.1337585\ttest: 0.6734964\tbest: 0.6689362 (658)\ttotal: 1.23s\tremaining: 8.66ms\n",
            "993:\tlearn: 0.1336227\ttest: 0.6736956\tbest: 0.6689362 (658)\ttotal: 1.23s\tremaining: 7.42ms\n",
            "994:\tlearn: 0.1335695\ttest: 0.6736573\tbest: 0.6689362 (658)\ttotal: 1.23s\tremaining: 6.18ms\n",
            "995:\tlearn: 0.1335009\ttest: 0.6736399\tbest: 0.6689362 (658)\ttotal: 1.23s\tremaining: 4.95ms\n",
            "996:\tlearn: 0.1333651\ttest: 0.6738516\tbest: 0.6689362 (658)\ttotal: 1.23s\tremaining: 3.71ms\n",
            "997:\tlearn: 0.1333207\ttest: 0.6738314\tbest: 0.6689362 (658)\ttotal: 1.23s\tremaining: 2.47ms\n",
            "998:\tlearn: 0.1331715\ttest: 0.6737585\tbest: 0.6689362 (658)\ttotal: 1.24s\tremaining: 1.24ms\n",
            "999:\tlearn: 0.1329393\ttest: 0.6738697\tbest: 0.6689362 (658)\ttotal: 1.24s\tremaining: 0us\n",
            "\n",
            "bestTest = 0.6689361514\n",
            "bestIteration = 658\n",
            "\n",
            "Shrink model to first 659 iterations.\n"
          ]
        },
        {
          "data": {
            "text/plain": [
              "<catboost.core.CatBoostRegressor at 0x7ff4aaec9e50>"
            ]
          },
          "execution_count": null,
          "metadata": {},
          "output_type": "execute_result"
        }
      ],
      "source": [
        "#build model\n",
        "reg_catm= CatBoostRegressor(loss_function='RMSE')\n",
        "# Fit model \n",
        "reg_catm.fit( X_train, y_train,\n",
        "               eval_set=(X_test, y_test),\n",
        "               plot=True\n",
        "              )"
      ]
    },
    {
      "cell_type": "code",
      "execution_count": null,
      "metadata": {
        "colab": {
          "background_save": true
        },
        "id": "ba2qWGvPV-yT"
      },
      "outputs": [],
      "source": [
        "y_pred_catm = reg_catm.predict(X_test)"
      ]
    },
    {
      "cell_type": "code",
      "execution_count": null,
      "metadata": {
        "colab": {
          "background_save": true,
          "base_uri": "https://localhost:8080/"
        },
        "id": "sEBuKGONVDf_",
        "outputId": "ea041b2e-21ce-4d69-bf43-59431c9aace9"
      },
      "outputs": [
        {
          "name": "stdout",
          "output_type": "stream",
          "text": [
            "[[4.01434191 3.14228028]\n",
            " [2.23667141 2.49363017]\n",
            " [5.64711413 4.75130321]\n",
            " [1.34505447 1.49352266]\n",
            " [4.48763936 4.7773898 ]\n",
            " [4.6473938  4.79036455]\n",
            " [5.67125001 5.56149608]\n",
            " [2.06154864 1.67197665]\n",
            " [5.20560624 4.63192837]\n",
            " [2.70493847 2.65536838]\n",
            " [8.30976026 9.00581672]\n",
            " [7.8070612  9.52460319]\n",
            " [2.90881013 2.59197995]\n",
            " [8.56774708 7.99582739]\n",
            " [6.22915759 8.2377919 ]\n",
            " [2.22011564 1.93279402]\n",
            " [6.7178296  7.43718076]\n",
            " [1.85890005 2.12129361]\n",
            " [4.55443393 4.39746202]\n",
            " [2.83521791 3.13677147]\n",
            " [7.92328277 7.4230884 ]\n",
            " [1.80849655 1.7406128 ]\n",
            " [3.57525533 3.17787053]\n",
            " [3.25686376 4.20103057]\n",
            " [5.6030239  4.44151703]\n",
            " [3.11280014 3.12162504]\n",
            " [2.99904635 3.11217441]\n",
            " [1.99395761 1.79277628]\n",
            " [2.90892331 2.38926536]\n",
            " [6.12712042 6.92898385]\n",
            " [2.34923073 2.53462135]\n",
            " [5.87871044 6.03745556]\n",
            " [8.0529593  7.33978691]\n",
            " [2.03558218 2.20733863]\n",
            " [6.38880423 5.23817607]\n",
            " [3.98382243 4.72191306]\n",
            " [7.13366834 7.38126211]\n",
            " [3.8143322  3.2045597 ]\n",
            " [6.91300012 6.42001097]\n",
            " [7.77369799 7.61114509]\n",
            " [4.76339137 4.41362916]\n",
            " [3.78690047 4.1613982 ]\n",
            " [1.62993954 2.2951929 ]\n",
            " [1.80384324 1.47568251]\n",
            " [4.36423984 4.44914495]\n",
            " [3.22633896 3.65750101]\n",
            " [4.0727273  3.86698636]\n",
            " [2.86578536 2.92798478]\n",
            " [2.66708129 2.11389323]\n",
            " [2.10451566 2.001736  ]\n",
            " [5.60863784 4.71116209]\n",
            " [7.63355344 7.30831438]\n",
            " [4.21812247 3.21588324]\n",
            " [4.61634562 4.57232627]\n",
            " [3.78587717 3.64617747]\n",
            " [5.78164486 6.91953582]\n",
            " [1.69352054 1.63079496]\n",
            " [4.46964822 4.84081016]\n",
            " [7.10142573 6.65218118]\n",
            " [1.87239927 2.09477534]\n",
            " [2.86380068 3.12162504]\n",
            " [3.64299644 3.53860391]\n",
            " [2.89969536 3.41222677]\n",
            " [1.84474725 2.29244746]\n",
            " [3.74663383 4.73889836]\n",
            " [4.67621655 5.45640967]\n",
            " [5.41892127 6.67702872]\n",
            " [7.24505404 9.28263868]\n",
            " [2.9011489  2.84977181]\n",
            " [1.76950719 1.70766745]\n",
            " [3.11990807 3.72157699]\n",
            " [6.73585823 8.39493912]\n",
            " [4.54740238 5.62616464]\n",
            " [2.23055085 2.05639091]\n",
            " [4.04628337 4.05382464]\n",
            " [2.07644144 2.10762988]\n",
            " [2.342769   2.30233799]\n",
            " [2.06411865 2.11787768]]\n"
          ]
        }
      ],
      "source": [
        "print(np.concatenate((y_pred_catm.reshape(len(y_pred_catm),1), y_test.reshape(len(y_test),1)),1))"
      ]
    },
    {
      "cell_type": "code",
      "execution_count": null,
      "metadata": {
        "colab": {
          "background_save": true,
          "base_uri": "https://localhost:8080/"
        },
        "id": "Qq4w3kgsVUSz",
        "outputId": "b0a15002-e6c3-4f5a-dc03-eafb73a18e5e"
      },
      "outputs": [
        {
          "data": {
            "text/plain": [
              "0.9022359435015961"
            ]
          },
          "execution_count": null,
          "metadata": {},
          "output_type": "execute_result"
        }
      ],
      "source": [
        "r2_score(y_test, y_pred_catm)"
      ]
    },
    {
      "cell_type": "code",
      "execution_count": null,
      "metadata": {
        "colab": {
          "background_save": true,
          "base_uri": "https://localhost:8080/",
          "height": 300
        },
        "id": "q4LZXtGmVbAD",
        "outputId": "c445ad12-bd9d-4f7d-f82c-e4ac21d8516f"
      },
      "outputs": [
        {
          "data": {
            "image/png": "[encoded data removed]",
            "text/plain": [
              "<Figure size 432x288 with 1 Axes>"
            ]
          },
          "metadata": {},
          "output_type": "display_data"
        }
      ],
      "source": [
        "plt.scatter(y_pred_catm,y_test,color = 'blue')\n",
        "plt.title('Comparing predicted and test Fr')\n",
        "plt.xlabel('Predicted Fr',size=16)\n",
        "plt.ylabel('test Fr',size=16,)\n",
        "plt.show()"
      ]
    },
    {
      "cell_type": "code",
      "execution_count": null,
      "metadata": {
        "colab": {
          "background_save": true,
          "base_uri": "https://localhost:8080/"
        },
        "id": "YffjTm8qUjJL",
        "outputId": "7f95dcb3-a9ed-47ef-b7f1-8e7339c264fe"
      },
      "outputs": [
        {
          "name": "stdout",
          "output_type": "stream",
          "text": [
            "MAE: 0.48812540174733715\n",
            "MSE: 0.4474755872503961\n",
            "RMSE: 0.668936160818352\n",
            "R2: 0.668936160818352\n",
            "BIAS: 0.668936160818352\n",
            "IQRREST: 0.668936160818352\n"
          ]
        }
      ],
      "source": [
        "print('MAE:', metrics.mean_absolute_error(y_test, y_pred_catm))\n",
        "print('MSE:', metrics.mean_squared_error(y_test, y_pred_catm))\n",
        "print('RMSE:', np.sqrt(metrics.mean_squared_error(y_test, y_pred_catm)))\n",
        "print('R2:', np.sqrt(metrics.mean_squared_error(y_test, y_pred_catm)))\n",
        "print('BIAS:', np.sqrt(metrics.mean_squared_error(y_test, y_pred_catm)))\n",
        "print('IQRREST:', np.sqrt(metrics.mean_squared_error(y_test, y_pred_catm)))"
      ]
    },
    {
      "cell_type": "markdown",
      "metadata": {
        "id": "q0C_CGR5DIc0"
      },
      "source": [
        "XG Boost Regressor"
      ]
    },
    {
      "cell_type": "code",
      "execution_count": null,
      "metadata": {
        "colab": {
          "background_save": true
        },
        "id": "nIefL9rFDMQg"
      },
      "outputs": [],
      "source": [
        "import xgboost as xgb\n",
        "data_dmatrix = xgb.DMatrix(data=X,label=y)\n",
        "xg_reg = xgb.XGBRegressor(objective ='reg:linear', colsample_bytree = 0.3, learning_rate = 0.1,\n",
        "                max_depth = 5, alpha = 10, n_estimators = 10)"
      ]
    },
    {
      "cell_type": "code",
      "execution_count": null,
      "metadata": {
        "colab": {
          "background_save": true,
          "base_uri": "https://localhost:8080/"
        },
        "id": "KOoPHXCPtyrp",
        "outputId": "bcbab74d-ca54-4cc2-b783-bc82c105adfd"
      },
      "outputs": [
        {
          "name": "stdout",
          "output_type": "stream",
          "text": [
            "[07:51:05] WARNING: /workspace/src/objective/regression_obj.cu:152: reg:linear is now deprecated in favor of reg:squarederror.\n"
          ]
        }
      ],
      "source": [
        "xg_reg.fit(X_train,y_train)\n",
        "\n",
        "y_preds_XGB = xg_reg.predict(X_test)"
      ]
    },
    {
      "cell_type": "code",
      "execution_count": null,
      "metadata": {
        "colab": {
          "background_save": true,
          "base_uri": "https://localhost:8080/"
        },
        "id": "mHT5RS_At3_3",
        "outputId": "85a98320-afb1-48c2-d141-6afa677243d4"
      },
      "outputs": [
        {
          "name": "stdout",
          "output_type": "stream",
          "text": [
            "[[2.47309685 3.14228028]\n",
            " [1.840608   2.49363017]\n",
            " [3.12840629 4.75130321]\n",
            " [1.57928681 1.49352266]\n",
            " [2.89841008 4.7773898 ]\n",
            " [3.90011764 4.79036455]\n",
            " [3.13675451 5.56149608]\n",
            " [2.29918909 1.67197665]\n",
            " [4.00410843 4.63192837]\n",
            " [2.06987333 2.65536838]\n",
            " [4.76117611 9.00581672]\n",
            " [3.90363169 9.52460319]\n",
            " [2.17729831 2.59197995]\n",
            " [3.65288806 7.99582739]\n",
            " [3.76267242 8.2377919 ]\n",
            " [2.7309885  1.93279402]\n",
            " [4.00410843 7.43718076]\n",
            " [1.8153621  2.12129361]\n",
            " [2.79080653 4.39746202]\n",
            " [2.42947936 3.13677147]\n",
            " [4.76117611 7.4230884 ]\n",
            " [1.74426901 1.7406128 ]\n",
            " [2.42712235 3.17787053]\n",
            " [2.53877187 4.20103057]\n",
            " [4.00410843 4.44151703]\n",
            " [2.34353995 3.12162504]\n",
            " [2.66725779 3.11217441]\n",
            " [2.28489351 1.79277628]\n",
            " [1.97327209 2.38926536]\n",
            " [3.90363169 6.92898385]\n",
            " [1.87192512 2.53462135]\n",
            " [4.15245342 6.03745556]\n",
            " [4.13299465 7.33978691]\n",
            " [1.78996444 2.20733863]\n",
            " [4.09505272 5.23817607]\n",
            " [2.47309685 4.72191306]\n",
            " [3.78704023 7.38126211]\n",
            " [2.5696981  3.2045597 ]\n",
            " [3.5229125  6.42001097]\n",
            " [4.47182989 7.61114509]\n",
            " [3.13675451 4.41362916]\n",
            " [2.5696981  4.1613982 ]\n",
            " [1.70648968 2.2951929 ]\n",
            " [1.2348727  1.47568251]\n",
            " [2.97343683 4.44914495]\n",
            " [2.37497711 3.65750101]\n",
            " [2.47309685 3.86698636]\n",
            " [2.42947936 2.92798478]\n",
            " [1.96241009 2.11389323]\n",
            " [2.11279154 2.001736  ]\n",
            " [3.92654181 4.71116209]\n",
            " [4.28774881 7.30831438]\n",
            " [2.47309685 3.21588324]\n",
            " [3.67579794 4.57232627]\n",
            " [2.47309685 3.64617747]\n",
            " [3.13675451 6.91953582]\n",
            " [1.70648968 1.63079496]\n",
            " [2.62480116 4.84081016]\n",
            " [3.78704023 6.65218118]\n",
            " [1.68239737 2.09477534]\n",
            " [2.21241093 3.12162504]\n",
            " [2.5696981  3.53860391]\n",
            " [2.09958625 3.41222677]\n",
            " [1.66594458 2.29244746]\n",
            " [2.47309685 4.73889836]\n",
            " [3.05072522 5.45640967]\n",
            " [3.13675451 6.67702872]\n",
            " [3.48473096 9.28263868]\n",
            " [2.17729831 2.84977181]\n",
            " [1.77899861 1.70766745]\n",
            " [2.96761465 3.72157699]\n",
            " [3.44534564 8.39493912]\n",
            " [3.05011392 5.62616464]\n",
            " [1.78460276 2.05639091]\n",
            " [2.45664406 4.05382464]\n",
            " [1.72803974 2.10762988]\n",
            " [1.87192512 2.30233799]\n",
            " [1.840608   2.11787768]]\n"
          ]
        }
      ],
      "source": [
        "print(np.concatenate((y_preds_XGB.reshape(len(y_preds_XGB),1), y_test.reshape(len(y_test),1)),1))"
      ]
    },
    {
      "cell_type": "code",
      "execution_count": null,
      "metadata": {
        "colab": {
          "background_save": true,
          "base_uri": "https://localhost:8080/",
          "height": 300
        },
        "id": "T55RpwChhPo-",
        "outputId": "d23e8e77-3777-42c6-e4f6-314b5871f176"
      },
      "outputs": [
        {
          "data": {
            "image/png": "[encoded data removed]",
            "text/plain": [
              "<Figure size 432x288 with 1 Axes>"
            ]
          },
          "metadata": {},
          "output_type": "display_data"
        }
      ],
      "source": [
        "plt.scatter(y_preds_XGB,y_test,color = 'blue')\n",
        "plt.title('Comparing predicted and test Fr')\n",
        "plt.xlabel('Predicted Fr',size=16)\n",
        "plt.ylabel('test Fr',size=16,)\n",
        "plt.show()"
      ]
    },
    {
      "cell_type": "code",
      "execution_count": null,
      "metadata": {
        "colab": {
          "background_save": true,
          "base_uri": "https://localhost:8080/"
        },
        "id": "WpsavrruuoeM",
        "outputId": "c4d5c15f-c06b-4148-bcdd-cfafebb1c59c"
      },
      "outputs": [
        {
          "name": "stdout",
          "output_type": "stream",
          "text": [
            "MAE: 1.5500517062799144\n",
            "MSE: 4.35018393557344\n",
            "RMSE: 2.0857094561739515\n",
            "R2: 2.0857094561739515\n",
            "BIAS: 2.0857094561739515\n",
            "IQRREST: 2.0857094561739515\n"
          ]
        }
      ],
      "source": [
        "print('MAE:', metrics.mean_absolute_error(y_test, y_preds_XGB))\n",
        "print('MSE:', metrics.mean_squared_error(y_test, y_preds_XGB))\n",
        "print('RMSE:', np.sqrt(metrics.mean_squared_error(y_test, y_preds_XGB)))\n",
        "print('R2:', np.sqrt(metrics.mean_squared_error(y_test, y_preds_XGB)))\n",
        "print('BIAS:', np.sqrt(metrics.mean_squared_error(y_test, y_preds_XGB)))\n",
        "print('IQRREST:', np.sqrt(metrics.mean_squared_error(y_test, y_preds_XGB)))"
      ]
    },
    {
      "cell_type": "code",
      "execution_count": null,
      "metadata": {
        "colab": {
          "background_save": true,
          "base_uri": "https://localhost:8080/"
        },
        "id": "riISwOhl58Ws",
        "outputId": "47e8c216-5144-42e6-deaf-16ada9bee5e7"
      },
      "outputs": [
        {
          "data": {
            "text/plain": [
              "0.04957579771191312"
            ]
          },
          "execution_count": null,
          "metadata": {},
          "output_type": "execute_result"
        }
      ],
      "source": [
        "r2_score(y_test, y_preds_XGB)"
      ]
    },
    {
      "cell_type": "markdown",
      "metadata": {
        "id": "vF-TG7z4urha"
      },
      "source": [
        "LIGHT GBM"
      ]
    },
    {
      "cell_type": "code",
      "execution_count": null,
      "metadata": {
        "colab": {
          "background_save": true
        },
        "id": "_hnXO5l7vIqB"
      },
      "outputs": [],
      "source": [
        "import lightgbm as ltb"
      ]
    },
    {
      "cell_type": "code",
      "execution_count": null,
      "metadata": {
        "colab": {
          "background_save": true,
          "base_uri": "https://localhost:8080/"
        },
        "id": "3hAhSn2mwSAn",
        "outputId": "c0894134-5683-4853-90ce-454e7d08c080"
      },
      "outputs": [
        {
          "name": "stdout",
          "output_type": "stream",
          "text": [
            "\n",
            "LGBMRegressor()\n"
          ]
        }
      ],
      "source": [
        "reg_lightgbm = ltb.LGBMRegressor()\n",
        "reg_lightgbm.fit(X_train, y_train)\n",
        "print(); print(reg_lightgbm)\n",
        "\n",
        "expected_y  = y_test\n",
        "y_pred_lightgbm = reg_lightgbm.predict(X_test)"
      ]
    },
    {
      "cell_type": "code",
      "execution_count": null,
      "metadata": {
        "colab": {
          "background_save": true,
          "base_uri": "https://localhost:8080/"
        },
        "id": "pHPKlRqK6cPV",
        "outputId": "9ed289ac-7bb5-496a-d5f8-13dcbc635925"
      },
      "outputs": [
        {
          "name": "stdout",
          "output_type": "stream",
          "text": [
            "[[4.13170281 3.14228028]\n",
            " [2.48940307 2.49363017]\n",
            " [6.29917702 4.75130321]\n",
            " [1.46243989 1.49352266]\n",
            " [4.27296445 4.7773898 ]\n",
            " [4.41873096 4.79036455]\n",
            " [5.57558462 5.56149608]\n",
            " [1.77585109 1.67197665]\n",
            " [5.1436364  4.63192837]\n",
            " [2.56544029 2.65536838]\n",
            " [8.0996972  9.00581672]\n",
            " [7.57254693 9.52460319]\n",
            " [3.1063743  2.59197995]\n",
            " [7.64335455 7.99582739]\n",
            " [6.89142216 8.2377919 ]\n",
            " [2.50141841 1.93279402]\n",
            " [6.48125928 7.43718076]\n",
            " [1.90896288 2.12129361]\n",
            " [4.24823351 4.39746202]\n",
            " [2.89455312 3.13677147]\n",
            " [8.06046406 7.4230884 ]\n",
            " [1.90407599 1.7406128 ]\n",
            " [3.93529951 3.17787053]\n",
            " [2.64796239 4.20103057]\n",
            " [5.69475826 4.44151703]\n",
            " [2.90055383 3.12162504]\n",
            " [3.64407904 3.11217441]\n",
            " [1.87676379 1.79277628]\n",
            " [2.63328024 2.38926536]\n",
            " [6.58939204 6.92898385]\n",
            " [2.42234225 2.53462135]\n",
            " [6.16049303 6.03745556]\n",
            " [7.78431033 7.33978691]\n",
            " [2.06265034 2.20733863]\n",
            " [6.14532832 5.23817607]\n",
            " [4.04639199 4.72191306]\n",
            " [7.16461946 7.38126211]\n",
            " [4.09093172 3.2045597 ]\n",
            " [7.58460345 6.42001097]\n",
            " [7.69488812 7.61114509]\n",
            " [4.80222728 4.41362916]\n",
            " [3.97603492 4.1613982 ]\n",
            " [1.57939741 2.2951929 ]\n",
            " [1.60803492 1.47568251]\n",
            " [4.1750556  4.44914495]\n",
            " [2.87684638 3.65750101]\n",
            " [4.0763678  3.86698636]\n",
            " [2.82141912 2.92798478]\n",
            " [2.49701222 2.11389323]\n",
            " [2.07145271 2.001736  ]\n",
            " [5.39975003 4.71116209]\n",
            " [7.56953991 7.30831438]\n",
            " [4.09380384 3.21588324]\n",
            " [4.74430621 4.57232627]\n",
            " [3.83133565 3.64617747]\n",
            " [5.57558462 6.91953582]\n",
            " [1.68021682 1.63079496]\n",
            " [4.36460873 4.84081016]\n",
            " [7.2151789  6.65218118]\n",
            " [1.90013426 2.09477534]\n",
            " [2.98687726 3.12162504]\n",
            " [3.55760258 3.53860391]\n",
            " [2.9583421  3.41222677]\n",
            " [1.88874462 2.29244746]\n",
            " [3.70060981 4.73889836]\n",
            " [4.12277028 5.45640967]\n",
            " [5.36155792 6.67702872]\n",
            " [7.06749919 9.28263868]\n",
            " [2.95846195 2.84977181]\n",
            " [1.67192476 1.70766745]\n",
            " [3.0525033  3.72157699]\n",
            " [6.96334935 8.39493912]\n",
            " [4.21952754 5.62616464]\n",
            " [2.28278364 2.05639091]\n",
            " [4.2877487  4.05382464]\n",
            " [2.02109052 2.10762988]\n",
            " [2.26308207 2.30233799]\n",
            " [2.19754163 2.11787768]]\n"
          ]
        }
      ],
      "source": [
        "print(np.concatenate((y_pred_lightgbm.reshape(len(y_pred_lightgbm),1), y_test.reshape(len(y_test),1)),1))"
      ]
    },
    {
      "cell_type": "code",
      "execution_count": null,
      "metadata": {
        "colab": {
          "background_save": true,
          "base_uri": "https://localhost:8080/"
        },
        "id": "MdXHo4MTw-9C",
        "outputId": "84052f5e-239f-4f04-cd8e-ff324f5a554a"
      },
      "outputs": [
        {
          "data": {
            "text/plain": [
              "0.884218543561681"
            ]
          },
          "execution_count": null,
          "metadata": {},
          "output_type": "execute_result"
        }
      ],
      "source": [
        "r2_score(y_test, y_pred_lightgbm)"
      ]
    },
    {
      "cell_type": "code",
      "execution_count": null,
      "metadata": {
        "colab": {
          "background_save": true,
          "base_uri": "https://localhost:8080/",
          "height": 300
        },
        "id": "QGHrWCkXhbxq",
        "outputId": "860bb87e-0a93-4496-9859-d8639976ccc2"
      },
      "outputs": [
        {
          "data": {
            "image/png": "[encoded data removed]",
            "text/plain": [
              "<Figure size 432x288 with 1 Axes>"
            ]
          },
          "metadata": {},
          "output_type": "display_data"
        }
      ],
      "source": [
        "plt.scatter(y_pred_lightgbm,y_test,color = 'blue')\n",
        "plt.title('Comparing predicted and test Fr')\n",
        "plt.xlabel('Predicted Fr',size=16)\n",
        "plt.ylabel('test Fr',size=16,)\n",
        "plt.show()"
      ]
    },
    {
      "cell_type": "code",
      "execution_count": null,
      "metadata": {
        "colab": {
          "background_save": true,
          "base_uri": "https://localhost:8080/"
        },
        "id": "frjSbN1_7PTG",
        "outputId": "31c21f23-b5e9-4ae0-b752-65a76d77a633"
      },
      "outputs": [
        {
          "name": "stdout",
          "output_type": "stream",
          "text": [
            "MAE: 0.5282154183116997\n",
            "MSE: 0.5299429776963972\n",
            "RMSE: 0.7279718247957109\n",
            "R2: 0.7279718247957109\n",
            "BIAS: 0.7279718247957109\n",
            "IQRREST: 0.7279718247957109\n"
          ]
        }
      ],
      "source": [
        "print('MAE:', metrics.mean_absolute_error(y_test, y_pred_lightgbm))\n",
        "print('MSE:', metrics.mean_squared_error(y_test, y_pred_lightgbm))\n",
        "print('RMSE:', np.sqrt(metrics.mean_squared_error(y_test, y_pred_lightgbm)))\n",
        "print('R2:', np.sqrt(metrics.mean_squared_error(y_test, y_pred_lightgbm)))\n",
        "print('BIAS:', np.sqrt(metrics.mean_squared_error(y_test, y_pred_lightgbm)))\n",
        "print('IQRREST:', np.sqrt(metrics.mean_squared_error(y_test, y_pred_lightgbm)))"
      ]
    },
    {
      "cell_type": "markdown",
      "metadata": {
        "id": "o5uit57CxFl8"
      },
      "source": [
        "Ridge"
      ]
    },
    {
      "cell_type": "code",
      "execution_count": null,
      "metadata": {
        "colab": {
          "background_save": true
        },
        "id": "Msa7HTFpxIU0"
      },
      "outputs": [],
      "source": [
        "from sklearn.linear_model import Ridge"
      ]
    },
    {
      "cell_type": "code",
      "execution_count": null,
      "metadata": {
        "colab": {
          "background_save": true
        },
        "id": "E-Zx53GlxiTW"
      },
      "outputs": [],
      "source": [
        "rr = Ridge(alpha=0.01)\n",
        "rr.fit(X_train, y_train) \n",
        "y_pred_rr= rr.predict(X_test)"
      ]
    },
    {
      "cell_type": "code",
      "execution_count": null,
      "metadata": {
        "colab": {
          "background_save": true,
          "base_uri": "https://localhost:8080/"
        },
        "id": "F0GSf-N0yCrt",
        "outputId": "9c735916-a2f2-4db5-ec4a-2ccd979ff1c1"
      },
      "outputs": [
        {
          "name": "stdout",
          "output_type": "stream",
          "text": [
            "[[ 4.15046693  3.14228028]\n",
            " [ 2.65222783  2.49363017]\n",
            " [ 4.55369252  4.75130321]\n",
            " [-0.05970751  1.49352266]\n",
            " [ 4.36279539  4.7773898 ]\n",
            " [ 4.97876622  4.79036455]\n",
            " [ 5.01506039  5.56149608]\n",
            " [ 1.60897212  1.67197665]\n",
            " [ 4.9710993   4.63192837]\n",
            " [ 4.24388536  2.65536838]\n",
            " [ 8.59389298  9.00581672]\n",
            " [ 5.09632468  9.52460319]\n",
            " [ 3.65647037  2.59197995]\n",
            " [ 5.85533351  7.99582739]\n",
            " [ 4.56484142  8.2377919 ]\n",
            " [ 2.84638727  1.93279402]\n",
            " [ 5.44977868  7.43718076]\n",
            " [ 1.51631592  2.12129361]\n",
            " [ 4.30549013  4.39746202]\n",
            " [ 4.30454142  3.13677147]\n",
            " [ 8.05014254  7.4230884 ]\n",
            " [ 0.85458258  1.7406128 ]\n",
            " [ 3.8612702   3.17787053]\n",
            " [ 3.90015663  4.20103057]\n",
            " [ 5.4711801   4.44151703]\n",
            " [ 3.43722274  3.12162504]\n",
            " [ 4.0535227   3.11217441]\n",
            " [ 1.67806221  1.79277628]\n",
            " [ 4.19788252  2.38926536]\n",
            " [ 4.54343369  6.92898385]\n",
            " [ 2.88317083  2.53462135]\n",
            " [ 4.85164733  6.03745556]\n",
            " [ 6.32530118  7.33978691]\n",
            " [ 1.72533187  2.20733863]\n",
            " [ 4.79135037  5.23817607]\n",
            " [ 4.24919907  4.72191306]\n",
            " [ 5.91671014  7.38126211]\n",
            " [ 4.13167661  3.2045597 ]\n",
            " [ 6.47088129  6.42001097]\n",
            " [ 6.81180792  7.61114509]\n",
            " [ 4.37630573  4.41362916]\n",
            " [ 4.04596423  4.1613982 ]\n",
            " [ 0.41900133  2.2951929 ]\n",
            " [ 2.12756276  1.47568251]\n",
            " [ 4.36534795  4.44914495]\n",
            " [ 4.31859263  3.65750101]\n",
            " [ 4.82935165  3.86698636]\n",
            " [ 4.23775161  2.92798478]\n",
            " [ 3.44603503  2.11389323]\n",
            " [ 2.42155629  2.001736  ]\n",
            " [ 5.45183084  4.71116209]\n",
            " [ 6.6881098   7.30831438]\n",
            " [ 4.35491278  3.21588324]\n",
            " [ 5.62735727  4.57232627]\n",
            " [ 4.0735202   3.64617747]\n",
            " [ 5.09133067  6.91953582]\n",
            " [ 0.04688145  1.63079496]\n",
            " [ 5.08342065  4.84081016]\n",
            " [ 5.88405156  6.65218118]\n",
            " [ 1.71681344  2.09477534]\n",
            " [ 3.96074266  3.12162504]\n",
            " [ 3.98933043  3.53860391]\n",
            " [ 4.5627633   3.41222677]\n",
            " [ 1.50477818  2.29244746]\n",
            " [ 3.99268604  4.73889836]\n",
            " [ 4.31799108  5.45640967]\n",
            " [ 4.92098479  6.67702872]\n",
            " [ 4.81914507  9.28263868]\n",
            " [ 4.02503832  2.84977181]\n",
            " [ 0.64570262  1.70766745]\n",
            " [ 5.73293292  3.72157699]\n",
            " [ 6.35075292  8.39493912]\n",
            " [ 4.27895172  5.62616464]\n",
            " [ 2.35885328  2.05639091]\n",
            " [ 4.90792853  4.05382464]\n",
            " [ 2.22492398  2.10762988]\n",
            " [ 2.33811041  2.30233799]\n",
            " [ 2.06952241  2.11787768]]\n"
          ]
        }
      ],
      "source": [
        "print(np.concatenate((y_pred_rr.reshape(len(y_pred_rr),1), y_test.reshape(len(y_test),1)),1))"
      ]
    },
    {
      "cell_type": "code",
      "execution_count": null,
      "metadata": {
        "colab": {
          "background_save": true,
          "base_uri": "https://localhost:8080/"
        },
        "id": "4eA2eTOWyFTQ",
        "outputId": "f2056b44-011f-44b5-b62e-1b90da5e4b61"
      },
      "outputs": [
        {
          "data": {
            "text/plain": [
              "0.6301911402054894"
            ]
          },
          "execution_count": null,
          "metadata": {},
          "output_type": "execute_result"
        }
      ],
      "source": [
        "r2_score(y_test, y_pred_rr)"
      ]
    },
    {
      "cell_type": "code",
      "execution_count": null,
      "metadata": {
        "colab": {
          "background_save": true,
          "base_uri": "https://localhost:8080/",
          "height": 300
        },
        "id": "fNggGoUVhmEA",
        "outputId": "f1165c07-ec1f-4679-add6-22a828a1787d"
      },
      "outputs": [
        {
          "data": {
            "image/png": "[encoded data removed]",
            "text/plain": [
              "<Figure size 432x288 with 1 Axes>"
            ]
          },
          "metadata": {},
          "output_type": "display_data"
        }
      ],
      "source": [
        "plt.scatter(y_pred_rr,y_test,color = 'blue')\n",
        "plt.title('Comparing predicted and test Fr')\n",
        "plt.xlabel('Predicted Fr',size=16)\n",
        "plt.ylabel('test Fr',size=16,)\n",
        "plt.show()"
      ]
    },
    {
      "cell_type": "code",
      "execution_count": null,
      "metadata": {
        "colab": {
          "background_save": true,
          "base_uri": "https://localhost:8080/"
        },
        "id": "2PnAxRu67JW-",
        "outputId": "87053251-96b4-4bf2-f8fa-d65dd3d7cef4"
      },
      "outputs": [
        {
          "name": "stdout",
          "output_type": "stream",
          "text": [
            "MAE: 0.9665361294389965\n",
            "MSE: 1.6926510891009274\n",
            "RMSE: 1.3010192500885325\n",
            "R2: 1.3010192500885325\n",
            "BIAS: 1.3010192500885325\n",
            "IQRREST: 1.3010192500885325\n"
          ]
        }
      ],
      "source": [
        "print('MAE:', metrics.mean_absolute_error(y_test, y_pred_rr))\n",
        "print('MSE:', metrics.mean_squared_error(y_test, y_pred_rr))\n",
        "print('RMSE:', np.sqrt(metrics.mean_squared_error(y_test, y_pred_rr)))\n",
        "print('R2:', np.sqrt(metrics.mean_squared_error(y_test, y_pred_rr)))\n",
        "print('BIAS:', np.sqrt(metrics.mean_squared_error(y_test, y_pred_rr)))\n",
        "print('IQRREST:', np.sqrt(metrics.mean_squared_error(y_test, y_pred_rr)))"
      ]
    },
    {
      "cell_type": "markdown",
      "metadata": {
        "id": "XtfALIK9yI7l"
      },
      "source": [
        "Lasso"
      ]
    },
    {
      "cell_type": "code",
      "execution_count": null,
      "metadata": {
        "colab": {
          "background_save": true
        },
        "id": "WFk6o5VbyKT9"
      },
      "outputs": [],
      "source": [
        "from sklearn.linear_model import Lasso"
      ]
    },
    {
      "cell_type": "code",
      "execution_count": null,
      "metadata": {
        "colab": {
          "background_save": true
        },
        "id": "athzMyI2yOwt"
      },
      "outputs": [],
      "source": [
        "model_lasso = Lasso(alpha=0.01)\n",
        "model_lasso.fit(X_train, y_train) \n",
        "y_pred_lasso= model_lasso.predict(X_test)"
      ]
    },
    {
      "cell_type": "code",
      "execution_count": null,
      "metadata": {
        "colab": {
          "background_save": true,
          "base_uri": "https://localhost:8080/"
        },
        "id": "gIIVDm7Dyoe0",
        "outputId": "1116d349-9201-42f4-bf8a-3d62f463f66d"
      },
      "outputs": [
        {
          "name": "stdout",
          "output_type": "stream",
          "text": [
            "[[ 4.15346508  3.14228028]\n",
            " [ 2.65643206  2.49363017]\n",
            " [ 4.56151794  4.75130321]\n",
            " [-0.03424597  1.49352266]\n",
            " [ 4.36539569  4.7773898 ]\n",
            " [ 4.95393442  4.79036455]\n",
            " [ 5.01827003  5.56149608]\n",
            " [ 1.60956185  1.67197665]\n",
            " [ 4.9504105   4.63192837]\n",
            " [ 4.24812632  2.65536838]\n",
            " [ 8.56984317  9.00581672]\n",
            " [ 5.10010473  9.52460319]\n",
            " [ 3.66039877  2.59197995]\n",
            " [ 5.85159406  7.99582739]\n",
            " [ 4.57387675  8.2377919 ]\n",
            " [ 2.84850692  1.93279402]\n",
            " [ 5.43434625  7.43718076]\n",
            " [ 1.53284096  2.12129361]\n",
            " [ 4.31055608  4.39746202]\n",
            " [ 4.29075197  3.13677147]\n",
            " [ 8.0241954   7.4230884 ]\n",
            " [ 0.87023934  1.7406128 ]\n",
            " [ 3.86268028  3.17787053]\n",
            " [ 3.91152271  4.20103057]\n",
            " [ 5.44153775  4.44151703]\n",
            " [ 3.44600263  3.12162504]\n",
            " [ 4.06746994  3.11217441]\n",
            " [ 1.69037538  1.79277628]\n",
            " [ 4.19954085  2.38926536]\n",
            " [ 4.55589826  6.92898385]\n",
            " [ 2.88579156  2.53462135]\n",
            " [ 4.8341407   6.03745556]\n",
            " [ 6.3139079   7.33978691]\n",
            " [ 1.73053798  2.20733863]\n",
            " [ 4.78680179  5.23817607]\n",
            " [ 4.24871705  4.72191306]\n",
            " [ 5.89902826  7.38126211]\n",
            " [ 4.13680288  3.2045597 ]\n",
            " [ 6.43804741  6.42001097]\n",
            " [ 6.78056108  7.61114509]\n",
            " [ 4.38778055  4.41362916]\n",
            " [ 4.05138482  4.1613982 ]\n",
            " [ 0.43215299  2.2951929 ]\n",
            " [ 2.13766401  1.47568251]\n",
            " [ 4.37050681  4.44914495]\n",
            " [ 4.32565137  3.65750101]\n",
            " [ 4.82564125  3.86698636]\n",
            " [ 4.2244364   2.92798478]\n",
            " [ 3.4461614   2.11389323]\n",
            " [ 2.42584769  2.001736  ]\n",
            " [ 5.40556546  4.71116209]\n",
            " [ 6.65814862  7.30831438]\n",
            " [ 4.3532958   3.21588324]\n",
            " [ 5.6039316   4.57232627]\n",
            " [ 4.07732797  3.64617747]\n",
            " [ 5.09380476  6.91953582]\n",
            " [ 0.06435712  1.63079496]\n",
            " [ 5.08303407  4.84081016]\n",
            " [ 5.86725531  6.65218118]\n",
            " [ 1.72511771  2.09477534]\n",
            " [ 3.95714719  3.12162504]\n",
            " [ 3.99591754  3.53860391]\n",
            " [ 4.55705827  3.41222677]\n",
            " [ 1.52021134  2.29244746]\n",
            " [ 3.99595718  4.73889836]\n",
            " [ 4.33135725  5.45640967]\n",
            " [ 4.92577858  6.67702872]\n",
            " [ 4.82436609  9.28263868]\n",
            " [ 4.02273816  2.84977181]\n",
            " [ 0.66780077  1.70766745]\n",
            " [ 5.72197679  3.72157699]\n",
            " [ 6.32488292  8.39493912]\n",
            " [ 4.28945818  5.62616464]\n",
            " [ 2.36482799  2.05639091]\n",
            " [ 4.90859086  4.05382464]\n",
            " [ 2.23192103  2.10762988]\n",
            " [ 2.34807344  2.30233799]\n",
            " [ 2.08273204  2.11787768]]\n"
          ]
        }
      ],
      "source": [
        "print(np.concatenate((y_pred_lasso.reshape(len(y_pred_lasso),1), y_test.reshape(len(y_test),1)),1))"
      ]
    },
    {
      "cell_type": "code",
      "execution_count": null,
      "metadata": {
        "colab": {
          "background_save": true,
          "base_uri": "https://localhost:8080/"
        },
        "id": "lnkJ0MZ7yrhv",
        "outputId": "4a383343-2420-42cc-d516-dc98a00d83a1"
      },
      "outputs": [
        {
          "data": {
            "text/plain": [
              "0.631419623903601"
            ]
          },
          "execution_count": null,
          "metadata": {},
          "output_type": "execute_result"
        }
      ],
      "source": [
        "r2_score(y_test, y_pred_lasso)"
      ]
    },
    {
      "cell_type": "code",
      "execution_count": null,
      "metadata": {
        "colab": {
          "background_save": true,
          "base_uri": "https://localhost:8080/",
          "height": 300
        },
        "id": "bikkGlfphx5-",
        "outputId": "611b7d42-ca6f-469b-cc70-a7ffe6bdd44e"
      },
      "outputs": [
        {
          "data": {
            "image/png": "[encoded data removed]",
            "text/plain": [
              "<Figure size 432x288 with 1 Axes>"
            ]
          },
          "metadata": {},
          "output_type": "display_data"
        }
      ],
      "source": [
        "plt.scatter(y_pred_lasso,y_test,color = 'blue')\n",
        "plt.title('Comparing predicted and test Fr')\n",
        "plt.xlabel('Predicted Fr',size=16)\n",
        "plt.ylabel('test Fr',size=16,)\n",
        "plt.show()"
      ]
    },
    {
      "cell_type": "code",
      "execution_count": null,
      "metadata": {
        "colab": {
          "background_save": true,
          "base_uri": "https://localhost:8080/"
        },
        "id": "ibQ6FIBw7xIm",
        "outputId": "0a5332d5-3996-46f4-9522-05f59e7ee9d7"
      },
      "outputs": [
        {
          "name": "stdout",
          "output_type": "stream",
          "text": [
            "MAE: 0.9635084687386887\n",
            "MSE: 1.6870281998313015\n",
            "RMSE: 1.298856497012392\n",
            "R2: 1.298856497012392\n",
            "BIAS: 1.298856497012392\n",
            "IQRREST: 1.298856497012392\n"
          ]
        }
      ],
      "source": [
        "print('MAE:', metrics.mean_absolute_error(y_test, y_pred_lasso))\n",
        "print('MSE:', metrics.mean_squared_error(y_test, y_pred_lasso))\n",
        "print('RMSE:', np.sqrt(metrics.mean_squared_error(y_test, y_pred_lasso)))\n",
        "print('R2:', np.sqrt(metrics.mean_squared_error(y_test, y_pred_lasso)))\n",
        "print('BIAS:', np.sqrt(metrics.mean_squared_error(y_test, y_pred_lasso)))\n",
        "print('IQRREST:', np.sqrt(metrics.mean_squared_error(y_test, y_pred_lasso)))"
      ]
    },
    {
      "cell_type": "markdown",
      "metadata": {
        "id": "6s46s8-Ky7E8"
      },
      "source": [
        "Elastic Net"
      ]
    },
    {
      "cell_type": "code",
      "execution_count": null,
      "metadata": {
        "colab": {
          "background_save": true
        },
        "id": "bh7Yl3b8y6Za"
      },
      "outputs": [],
      "source": [
        "from sklearn.linear_model import ElasticNet"
      ]
    },
    {
      "cell_type": "code",
      "execution_count": null,
      "metadata": {
        "colab": {
          "background_save": true
        },
        "id": "hGzsXfbNy_QQ"
      },
      "outputs": [],
      "source": [
        "model_enet = ElasticNet(alpha = 0.01)\n",
        "model_enet.fit(X_train, y_train) \n",
        "y_pred_enet= model_enet.predict(X_test)"
      ]
    },
    {
      "cell_type": "code",
      "execution_count": null,
      "metadata": {
        "colab": {
          "background_save": true,
          "base_uri": "https://localhost:8080/"
        },
        "id": "HwrqliSazKjS",
        "outputId": "f1ff24b2-e3dd-4d6c-b5f9-c1d0f0a21a0c"
      },
      "outputs": [
        {
          "name": "stdout",
          "output_type": "stream",
          "text": [
            "[[ 4.15436861  3.14228028]\n",
            " [ 2.65281603  2.49363017]\n",
            " [ 4.56182668  4.75130321]\n",
            " [-0.02715297  1.49352266]\n",
            " [ 4.36660489  4.7773898 ]\n",
            " [ 4.96587125  4.79036455]\n",
            " [ 5.01628826  5.56149608]\n",
            " [ 1.62009787  1.67197665]\n",
            " [ 4.95978054  4.63192837]\n",
            " [ 4.26399931  2.65536838]\n",
            " [ 8.56080318  9.00581672]\n",
            " [ 5.09809857  9.52460319]\n",
            " [ 3.66150675  2.59197995]\n",
            " [ 5.84969573  7.99582739]\n",
            " [ 4.57220093  8.2377919 ]\n",
            " [ 2.84136312  1.93279402]\n",
            " [ 5.43777488  7.43718076]\n",
            " [ 1.53721585  2.12129361]\n",
            " [ 4.31208847  4.39746202]\n",
            " [ 4.29780081  3.13677147]\n",
            " [ 8.01925599  7.4230884 ]\n",
            " [ 0.85647154  1.7406128 ]\n",
            " [ 3.85796653  3.17787053]\n",
            " [ 3.90559875  4.20103057]\n",
            " [ 5.45367044  4.44151703]\n",
            " [ 3.44155787  3.12162504]\n",
            " [ 4.0677217   3.11217441]\n",
            " [ 1.68748456  1.79277628]\n",
            " [ 4.20985376  2.38926536]\n",
            " [ 4.55261016  6.92898385]\n",
            " [ 2.87944146  2.53462135]\n",
            " [ 4.84415448  6.03745556]\n",
            " [ 6.31097129  7.33978691]\n",
            " [ 1.71360624  2.20733863]\n",
            " [ 4.78988161  5.23817607]\n",
            " [ 4.24804965  4.72191306]\n",
            " [ 5.90150317  7.38126211]\n",
            " [ 4.13627049  3.2045597 ]\n",
            " [ 6.44614043  6.42001097]\n",
            " [ 6.78581626  7.61114509]\n",
            " [ 4.38447256  4.41362916]\n",
            " [ 4.04761233  4.1613982 ]\n",
            " [ 0.43701139  2.2951929 ]\n",
            " [ 2.15687655  1.47568251]\n",
            " [ 4.37218408  4.44914495]\n",
            " [ 4.32627304  3.65750101]\n",
            " [ 4.82595338  3.86698636]\n",
            " [ 4.23134863  2.92798478]\n",
            " [ 3.45398005  2.11389323]\n",
            " [ 2.43389441  2.001736  ]\n",
            " [ 5.42545037  4.71116209]\n",
            " [ 6.66352023  7.30831438]\n",
            " [ 4.35615548  3.21588324]\n",
            " [ 5.61156282  4.57232627]\n",
            " [ 4.07632487  3.64617747]\n",
            " [ 5.09103007  6.91953582]\n",
            " [ 0.06908182  1.63079496]\n",
            " [ 5.07848234  4.84081016]\n",
            " [ 5.87041366  6.65218118]\n",
            " [ 1.71472404  2.09477534]\n",
            " [ 3.96076884  3.12162504]\n",
            " [ 3.99333688  3.53860391]\n",
            " [ 4.55907176  3.41222677]\n",
            " [ 1.51198832  2.29244746]\n",
            " [ 3.99761343  4.73889836]\n",
            " [ 4.32632465  5.45640967]\n",
            " [ 4.92311292  6.67702872]\n",
            " [ 4.82369313  9.28263868]\n",
            " [ 4.02532348  2.84977181]\n",
            " [ 0.6570393   1.70766745]\n",
            " [ 5.7246452   3.72157699]\n",
            " [ 6.32925332  8.39493912]\n",
            " [ 4.28720432  5.62616464]\n",
            " [ 2.35576886  2.05639091]\n",
            " [ 4.9061894   4.05382464]\n",
            " [ 2.23504277  2.10762988]\n",
            " [ 2.34019556  2.30233799]\n",
            " [ 2.0768076   2.11787768]]\n"
          ]
        }
      ],
      "source": [
        "print(np.concatenate((y_pred_enet.reshape(len(y_pred_enet),1), y_test.reshape(len(y_test),1)),1))"
      ]
    },
    {
      "cell_type": "code",
      "execution_count": null,
      "metadata": {
        "colab": {
          "background_save": true,
          "base_uri": "https://localhost:8080/"
        },
        "id": "pUZeei8-8MM6",
        "outputId": "47581807-eb93-4cd0-9285-df934aab9d5e"
      },
      "outputs": [
        {
          "data": {
            "text/plain": [
              "0.630589380678118"
            ]
          },
          "execution_count": null,
          "metadata": {},
          "output_type": "execute_result"
        }
      ],
      "source": [
        "r2_score(y_test, y_pred_enet)"
      ]
    },
    {
      "cell_type": "code",
      "execution_count": null,
      "metadata": {
        "colab": {
          "background_save": true,
          "base_uri": "https://localhost:8080/",
          "height": 300
        },
        "id": "JchvHflKh58V",
        "outputId": "703b3080-b126-404c-b751-64ed98981932"
      },
      "outputs": [
        {
          "data": {
            "image/png": "[encoded data removed]",
            "text/plain": [
              "<Figure size 432x288 with 1 Axes>"
            ]
          },
          "metadata": {},
          "output_type": "display_data"
        }
      ],
      "source": [
        "plt.scatter(y_pred_enet,y_test,color = 'blue')\n",
        "plt.title('Comparing predicted and test Fr')\n",
        "plt.xlabel('Predicted Fr',size=16)\n",
        "plt.ylabel('test Fr',size=16,)\n",
        "plt.show()"
      ]
    },
    {
      "cell_type": "code",
      "execution_count": null,
      "metadata": {
        "colab": {
          "background_save": true,
          "base_uri": "https://localhost:8080/"
        },
        "id": "F8AAGHpX8Ms2",
        "outputId": "0da3c780-513a-4dc0-b091-cfa905bf7412"
      },
      "outputs": [
        {
          "name": "stdout",
          "output_type": "stream",
          "text": [
            "MAE: 0.9654160909344716\n",
            "MSE: 1.6908283037569167\n",
            "RMSE: 1.3003185393421555\n",
            "R2: 1.3003185393421555\n",
            "BIAS: 1.3003185393421555\n",
            "IQRREST: 1.3003185393421555\n"
          ]
        }
      ],
      "source": [
        "print('MAE:', metrics.mean_absolute_error(y_test, y_pred_enet))\n",
        "print('MSE:', metrics.mean_squared_error(y_test, y_pred_enet))\n",
        "print('RMSE:', np.sqrt(metrics.mean_squared_error(y_test, y_pred_enet)))\n",
        "print('R2:', np.sqrt(metrics.mean_squared_error(y_test, y_pred_enet)))\n",
        "print('BIAS:', np.sqrt(metrics.mean_squared_error(y_test, y_pred_enet)))\n",
        "print('IQRREST:', np.sqrt(metrics.mean_squared_error(y_test, y_pred_enet)))"
      ]
    },
    {
      "cell_type": "markdown",
      "metadata": {
        "id": "ZNYBVj0uzjCG"
      },
      "source": [
        "Decision Tree Regressor"
      ]
    },
    {
      "cell_type": "code",
      "execution_count": null,
      "metadata": {
        "colab": {
          "background_save": true,
          "base_uri": "https://localhost:8080/"
        },
        "id": "5ETm5UoV0qNl",
        "outputId": "6efef32c-e354-42f4-da44-a58eb4948bd2"
      },
      "outputs": [
        {
          "data": {
            "text/plain": [
              "DecisionTreeRegressor(random_state=0)"
            ]
          },
          "execution_count": null,
          "metadata": {},
          "output_type": "execute_result"
        }
      ],
      "source": [
        "\n",
        "from sklearn.tree import DecisionTreeRegressor \n",
        "reg_decisiontree = DecisionTreeRegressor(random_state = 0) \n",
        "reg_decisiontree.fit(X_train, y_train)"
      ]
    },
    {
      "cell_type": "code",
      "execution_count": null,
      "metadata": {
        "colab": {
          "background_save": true
        },
        "id": "lL2al__N0qtp"
      },
      "outputs": [],
      "source": [
        "y_pred_decisiontree = reg_decisiontree.predict(X_test)"
      ]
    },
    {
      "cell_type": "code",
      "execution_count": null,
      "metadata": {
        "colab": {
          "background_save": true,
          "base_uri": "https://localhost:8080/"
        },
        "id": "L2YQSvOB1Sjd",
        "outputId": "6c7978ca-6658-466e-ea0c-01ba44331f36"
      },
      "outputs": [
        {
          "name": "stdout",
          "output_type": "stream",
          "text": [
            "[[3.60088334 3.14228028]\n",
            " [2.14862106 2.49363017]\n",
            " [7.0499661  4.75130321]\n",
            " [1.47979543 1.49352266]\n",
            " [4.42428939 4.7773898 ]\n",
            " [4.8037193  4.79036455]\n",
            " [6.47493948 5.56149608]\n",
            " [1.71590379 1.67197665]\n",
            " [4.8037193  4.63192837]\n",
            " [2.23107135 2.65536838]\n",
            " [7.53037852 9.00581672]\n",
            " [7.5668903  9.52460319]\n",
            " [2.77009068 2.59197995]\n",
            " [6.55503869 7.99582739]\n",
            " [7.31392739 8.2377919 ]\n",
            " [2.13321159 1.93279402]\n",
            " [8.3691583  7.43718076]\n",
            " [1.99490414 2.12129361]\n",
            " [5.19773543 4.39746202]\n",
            " [3.15360381 3.13677147]\n",
            " [7.63596998 7.4230884 ]\n",
            " [2.04810276 1.7406128 ]\n",
            " [3.38410402 3.17787053]\n",
            " [2.785589   4.20103057]\n",
            " [5.96576492 4.44151703]\n",
            " [3.20130616 3.12162504]\n",
            " [3.63760645 3.11217441]\n",
            " [2.13321159 1.79277628]\n",
            " [2.62478982 2.38926536]\n",
            " [7.31392739 6.92898385]\n",
            " [2.14862106 2.53462135]\n",
            " [5.0152645  6.03745556]\n",
            " [6.49751628 7.33978691]\n",
            " [2.10850257 2.20733863]\n",
            " [4.73892925 5.23817607]\n",
            " [4.699266   4.72191306]\n",
            " [7.22755952 7.38126211]\n",
            " [3.7084569  3.2045597 ]\n",
            " [7.33965778 6.42001097]\n",
            " [9.13337988 7.61114509]\n",
            " [4.90672692 4.41362916]\n",
            " [4.17272174 4.1613982 ]\n",
            " [1.59865605 2.2951929 ]\n",
            " [1.63964723 1.47568251]\n",
            " [4.47021414 4.44914495]\n",
            " [2.41757419 3.65750101]\n",
            " [3.98588345 3.86698636]\n",
            " [3.05723368 2.92798478]\n",
            " [2.23107135 2.11389323]\n",
            " [1.93341736 2.001736  ]\n",
            " [5.73166187 4.71116209]\n",
            " [8.27596055 7.30831438]\n",
            " [4.699266   3.21588324]\n",
            " [4.81297502 4.57232627]\n",
            " [4.07647171 3.64617747]\n",
            " [6.47493948 6.91953582]\n",
            " [1.59865605 1.63079496]\n",
            " [4.54639831 4.84081016]\n",
            " [7.22755952 6.65218118]\n",
            " [2.01515741 2.09477534]\n",
            " [2.63885119 3.12162504]\n",
            " [4.17272174 3.53860391]\n",
            " [2.70915806 3.41222677]\n",
            " [2.13321159 2.29244746]\n",
            " [3.60088334 4.73889836]\n",
            " [4.15495492 5.45640967]\n",
            " [6.47493948 6.67702872]\n",
            " [6.55503869 9.28263868]\n",
            " [2.77009068 2.84977181]\n",
            " [1.91632135 1.70766745]\n",
            " [3.02319542 3.72157699]\n",
            " [6.27220884 8.39493912]\n",
            " [4.90672692 5.62616464]\n",
            " [2.67809048 2.05639091]\n",
            " [4.03683935 4.05382464]\n",
            " [1.91633771 2.10762988]\n",
            " [2.42872747 2.30233799]\n",
            " [1.79336416 2.11787768]]\n"
          ]
        }
      ],
      "source": [
        "print(np.concatenate((y_pred_decisiontree.reshape(len(y_pred_decisiontree),1), y_test.reshape(len(y_test),1)),1))"
      ]
    },
    {
      "cell_type": "code",
      "execution_count": null,
      "metadata": {
        "colab": {
          "background_save": true,
          "base_uri": "https://localhost:8080/",
          "height": 300
        },
        "id": "SidWTQ1d1YOx",
        "outputId": "bf5e6fdb-76fd-4dcd-bc64-826099e33a9b"
      },
      "outputs": [
        {
          "data": {
            "image/png": "[encoded data removed]",
            "text/plain": [
              "<Figure size 432x288 with 1 Axes>"
            ]
          },
          "metadata": {},
          "output_type": "display_data"
        }
      ],
      "source": [
        "plt.scatter(y_pred_decisiontree,y_test,color = 'blue')\n",
        "plt.title('Comparing predicted and test Fr')\n",
        "plt.xlabel('Predicted Fr',size=16)\n",
        "plt.ylabel('test Fr',size=16,)\n",
        "plt.show()"
      ]
    },
    {
      "cell_type": "code",
      "execution_count": null,
      "metadata": {
        "colab": {
          "background_save": true,
          "base_uri": "https://localhost:8080/"
        },
        "id": "ItEs-bJqiYeO",
        "outputId": "95c5d38b-8d38-427e-9436-f0a52801888f"
      },
      "outputs": [
        {
          "data": {
            "text/plain": [
              "0.8511222730014125"
            ]
          },
          "execution_count": null,
          "metadata": {},
          "output_type": "execute_result"
        }
      ],
      "source": [
        "r2_score(y_test, y_pred_decisiontree)"
      ]
    },
    {
      "cell_type": "code",
      "execution_count": null,
      "metadata": {
        "colab": {
          "background_save": true,
          "base_uri": "https://localhost:8080/"
        },
        "id": "HXozkvM9iQAk",
        "outputId": "dd3d48f5-c0cf-4e15-d48a-3c3fc9fb0fc1"
      },
      "outputs": [
        {
          "name": "stdout",
          "output_type": "stream",
          "text": [
            "MAE: 0.5817564382307693\n",
            "MSE: 0.6814278243281028\n",
            "RMSE: 0.8254864168041185\n",
            "R2: 0.8254864168041185\n",
            "BIAS: 0.8254864168041185\n",
            "IQRREST: 0.8254864168041185\n"
          ]
        }
      ],
      "source": [
        "print('MAE:', metrics.mean_absolute_error(y_test, y_pred_decisiontree))\n",
        "print('MSE:', metrics.mean_squared_error(y_test, y_pred_decisiontree))\n",
        "print('RMSE:', np.sqrt(metrics.mean_squared_error(y_test, y_pred_decisiontree)))\n",
        "print('R2:', np.sqrt(metrics.mean_squared_error(y_test, y_pred_decisiontree)))\n",
        "print('BIAS:', np.sqrt(metrics.mean_squared_error(y_test, y_pred_decisiontree)))\n",
        "print('IQRREST:', np.sqrt(metrics.mean_squared_error(y_test, y_pred_decisiontree)))"
      ]
    },
    {
      "cell_type": "markdown",
      "metadata": {
        "id": "hNbNPJW91b_m"
      },
      "source": [
        "RandomForestRegressor\n"
      ]
    },
    {
      "cell_type": "code",
      "execution_count": null,
      "metadata": {
        "colab": {
          "background_save": true,
          "base_uri": "https://localhost:8080/"
        },
        "id": "RYd4-3OO119t",
        "outputId": "60580f8e-f7c9-4e87-bc29-71e19170d972"
      },
      "outputs": [
        {
          "data": {
            "text/plain": [
              "RandomForestRegressor(n_estimators=1000, random_state=42)"
            ]
          },
          "execution_count": null,
          "metadata": {},
          "output_type": "execute_result"
        }
      ],
      "source": [
        "from sklearn.ensemble import RandomForestRegressor\n",
        "rf = RandomForestRegressor(n_estimators = 1000, random_state = 42)\n",
        "rf.fit(X_train, y_train)"
      ]
    },
    {
      "cell_type": "code",
      "execution_count": null,
      "metadata": {
        "colab": {
          "background_save": true
        },
        "id": "O9qhqkAU2ElC"
      },
      "outputs": [],
      "source": [
        "y_pred_RandomForest=rf.predict(X_test)"
      ]
    },
    {
      "cell_type": "code",
      "execution_count": null,
      "metadata": {
        "colab": {
          "background_save": true,
          "base_uri": "https://localhost:8080/"
        },
        "id": "RyLmYxiM2gTc",
        "outputId": "8d7dc158-c18c-48f2-86e0-f547f3c1fbe2"
      },
      "outputs": [
        {
          "name": "stdout",
          "output_type": "stream",
          "text": [
            "[[3.8150524  3.14228028]\n",
            " [2.41762566 2.49363017]\n",
            " [6.08689687 4.75130321]\n",
            " [1.49238754 1.49352266]\n",
            " [4.54479714 4.7773898 ]\n",
            " [5.05693444 4.79036455]\n",
            " [5.56015304 5.56149608]\n",
            " [1.81630731 1.67197665]\n",
            " [5.17421877 4.63192837]\n",
            " [2.39611252 2.65536838]\n",
            " [8.15091758 9.00581672]\n",
            " [7.50988731 9.52460319]\n",
            " [2.92142032 2.59197995]\n",
            " [7.61871681 7.99582739]\n",
            " [6.41785631 8.2377919 ]\n",
            " [2.03259079 1.93279402]\n",
            " [6.58925702 7.43718076]\n",
            " [1.87109434 2.12129361]\n",
            " [4.34299259 4.39746202]\n",
            " [3.14344457 3.13677147]\n",
            " [8.02495277 7.4230884 ]\n",
            " [1.88761872 1.7406128 ]\n",
            " [3.63375269 3.17787053]\n",
            " [2.96510612 4.20103057]\n",
            " [5.81188818 4.44151703]\n",
            " [2.90910098 3.12162504]\n",
            " [3.37699818 3.11217441]\n",
            " [1.88802812 1.79277628]\n",
            " [2.59166312 2.38926536]\n",
            " [6.66105314 6.92898385]\n",
            " [2.44112043 2.53462135]\n",
            " [5.4276635  6.03745556]\n",
            " [7.68800734 7.33978691]\n",
            " [2.06137993 2.20733863]\n",
            " [6.13651815 5.23817607]\n",
            " [4.04790404 4.72191306]\n",
            " [6.98945133 7.38126211]\n",
            " [3.7285881  3.2045597 ]\n",
            " [7.23866856 6.42001097]\n",
            " [7.49915079 7.61114509]\n",
            " [4.81304735 4.41362916]\n",
            " [3.76855295 4.1613982 ]\n",
            " [1.66454354 2.2951929 ]\n",
            " [1.71670067 1.47568251]\n",
            " [4.27797816 4.44914495]\n",
            " [2.92344626 3.65750101]\n",
            " [4.20515341 3.86698636]\n",
            " [3.13016496 2.92798478]\n",
            " [2.49017335 2.11389323]\n",
            " [2.03030507 2.001736  ]\n",
            " [5.54261371 4.71116209]\n",
            " [7.62965058 7.30831438]\n",
            " [4.38511651 3.21588324]\n",
            " [5.07155759 4.57232627]\n",
            " [3.83035695 3.64617747]\n",
            " [5.51210116 6.91953582]\n",
            " [1.64013131 1.63079496]\n",
            " [4.29192213 4.84081016]\n",
            " [7.1245082  6.65218118]\n",
            " [1.92749854 2.09477534]\n",
            " [2.76933261 3.12162504]\n",
            " [3.74711294 3.53860391]\n",
            " [2.78048351 3.41222677]\n",
            " [1.92827066 2.29244746]\n",
            " [3.6742753  4.73889836]\n",
            " [4.45840257 5.45640967]\n",
            " [5.47312229 6.67702872]\n",
            " [6.96401204 9.28263868]\n",
            " [2.75536819 2.84977181]\n",
            " [1.70911121 1.70766745]\n",
            " [2.7153161  3.72157699]\n",
            " [6.94477779 8.39493912]\n",
            " [4.67520572 5.62616464]\n",
            " [2.40507934 2.05639091]\n",
            " [4.1627411  4.05382464]\n",
            " [2.03036274 2.10762988]\n",
            " [2.1901004  2.30233799]\n",
            " [2.14090077 2.11787768]]\n"
          ]
        }
      ],
      "source": [
        "print(np.concatenate((y_pred_RandomForest.reshape(len(y_pred_RandomForest),1), y_test.reshape(len(y_test),1)),1))"
      ]
    },
    {
      "cell_type": "code",
      "execution_count": null,
      "metadata": {
        "colab": {
          "background_save": true,
          "base_uri": "https://localhost:8080/"
        },
        "id": "21NQX6892kWG",
        "outputId": "7ab9d59c-ea4d-491b-adc8-8aa3f1a38751"
      },
      "outputs": [
        {
          "data": {
            "text/plain": [
              "0.8894285873449279"
            ]
          },
          "execution_count": null,
          "metadata": {},
          "output_type": "execute_result"
        }
      ],
      "source": [
        "r2_score(y_test, y_pred_RandomForest)"
      ]
    },
    {
      "cell_type": "code",
      "execution_count": null,
      "metadata": {
        "colab": {
          "background_save": true,
          "base_uri": "https://localhost:8080/",
          "height": 300
        },
        "id": "rVzebK7HirW5",
        "outputId": "32e00ef3-ff41-403c-fe48-7ab5b095d5d6"
      },
      "outputs": [
        {
          "data": {
            "image/png": "[encoded data removed]",
            "text/plain": [
              "<Figure size 432x288 with 1 Axes>"
            ]
          },
          "metadata": {},
          "output_type": "display_data"
        }
      ],
      "source": [
        "plt.scatter(y_pred_RandomForest,y_test,color = 'blue')\n",
        "plt.title('Comparing predicted and test Fr')\n",
        "plt.xlabel('Predicted Fr',size=16)\n",
        "plt.ylabel('test Fr',size=16,)\n",
        "plt.show()"
      ]
    },
    {
      "cell_type": "code",
      "execution_count": null,
      "metadata": {
        "colab": {
          "background_save": true,
          "base_uri": "https://localhost:8080/"
        },
        "id": "OFOQlClN8qxF",
        "outputId": "d9323b65-8d7f-48a7-d239-89cdf7e353c2"
      },
      "outputs": [
        {
          "name": "stdout",
          "output_type": "stream",
          "text": [
            "MAE: 0.5140722038102323\n",
            "MSE: 0.5060961009912887\n",
            "RMSE: 0.7114043161179785\n",
            "R2: 0.7114043161179785\n",
            "BIAS: 0.7114043161179785\n",
            "IQRREST: 0.7114043161179785\n"
          ]
        }
      ],
      "source": [
        "print('MAE:', metrics.mean_absolute_error(y_test, y_pred_RandomForest))\n",
        "print('MSE:', metrics.mean_squared_error(y_test, y_pred_RandomForest))\n",
        "print('RMSE:', np.sqrt(metrics.mean_squared_error(y_test, y_pred_RandomForest)))\n",
        "print('R2:', np.sqrt(metrics.mean_squared_error(y_test, y_pred_RandomForest)))\n",
        "print('BIAS:', np.sqrt(metrics.mean_squared_error(y_test, y_pred_RandomForest)))\n",
        "print('IQRREST:', np.sqrt(metrics.mean_squared_error(y_test, y_pred_RandomForest)))"
      ]
    },
    {
      "cell_type": "markdown",
      "metadata": {
        "id": "7eZYPW5J2le6"
      },
      "source": [
        "Extra tree regressor"
      ]
    },
    {
      "cell_type": "code",
      "execution_count": null,
      "metadata": {
        "colab": {
          "background_save": true
        },
        "id": "Xio744DC3JKZ"
      },
      "outputs": [],
      "source": [
        "from sklearn.ensemble import ExtraTreesRegressor"
      ]
    },
    {
      "cell_type": "code",
      "execution_count": null,
      "metadata": {
        "colab": {
          "background_save": true,
          "base_uri": "https://localhost:8080/"
        },
        "id": "ZitSjhlU3JjP",
        "outputId": "5b8b770c-fd1d-46f4-f59d-1ca3d4b9477c"
      },
      "outputs": [
        {
          "data": {
            "text/plain": [
              "ExtraTreesRegressor(random_state=0)"
            ]
          },
          "execution_count": null,
          "metadata": {},
          "output_type": "execute_result"
        }
      ],
      "source": [
        "reg_extratree= ExtraTreesRegressor(n_estimators=100, random_state=0)\n",
        "reg_extratree.fit(X_train, y_train)"
      ]
    },
    {
      "cell_type": "code",
      "execution_count": null,
      "metadata": {
        "colab": {
          "background_save": true
        },
        "id": "7pTtW8T03emO"
      },
      "outputs": [],
      "source": [
        "y_pred_extratree = reg_extratree.predict(X_test)"
      ]
    },
    {
      "cell_type": "code",
      "execution_count": null,
      "metadata": {
        "colab": {
          "background_save": true,
          "base_uri": "https://localhost:8080/"
        },
        "id": "QihFFimG38ZO",
        "outputId": "2104ab56-69e7-474b-ed32-26a0ef54b426"
      },
      "outputs": [
        {
          "name": "stdout",
          "output_type": "stream",
          "text": [
            "[[3.94116416 3.14228028]\n",
            " [2.41316436 2.49363017]\n",
            " [6.48630491 4.75130321]\n",
            " [1.49836271 1.49352266]\n",
            " [4.69623694 4.7773898 ]\n",
            " [5.01770295 4.79036455]\n",
            " [6.16693792 5.56149608]\n",
            " [1.75192404 1.67197665]\n",
            " [4.94026917 4.63192837]\n",
            " [3.37140525 2.65536838]\n",
            " [8.74190495 9.00581672]\n",
            " [8.26084863 9.52460319]\n",
            " [2.93268704 2.59197995]\n",
            " [8.80504252 7.99582739]\n",
            " [6.79151015 8.2377919 ]\n",
            " [2.02774979 1.93279402]\n",
            " [6.88793056 7.43718076]\n",
            " [1.8766289  2.12129361]\n",
            " [4.52571405 4.39746202]\n",
            " [3.1102982  3.13677147]\n",
            " [8.05673084 7.4230884 ]\n",
            " [1.89445081 1.7406128 ]\n",
            " [3.39237525 3.17787053]\n",
            " [2.97321716 4.20103057]\n",
            " [5.67109678 4.44151703]\n",
            " [2.99939776 3.12162504]\n",
            " [3.75684058 3.11217441]\n",
            " [1.90179068 1.79277628]\n",
            " [2.86550915 2.38926536]\n",
            " [6.80237865 6.92898385]\n",
            " [2.47036831 2.53462135]\n",
            " [6.40338572 6.03745556]\n",
            " [6.89364771 7.33978691]\n",
            " [2.12120179 2.20733863]\n",
            " [5.90633034 5.23817607]\n",
            " [3.95693615 4.72191306]\n",
            " [6.92905501 7.38126211]\n",
            " [3.88238528 3.2045597 ]\n",
            " [7.14607982 6.42001097]\n",
            " [7.91528877 7.61114509]\n",
            " [4.80099382 4.41362916]\n",
            " [3.65978138 4.1613982 ]\n",
            " [1.77416696 2.2951929 ]\n",
            " [1.67217512 1.47568251]\n",
            " [4.31518748 4.44914495]\n",
            " [3.0085776  3.65750101]\n",
            " [4.22598264 3.86698636]\n",
            " [3.05034377 2.92798478]\n",
            " [2.33259447 2.11389323]\n",
            " [1.97596741 2.001736  ]\n",
            " [5.44431994 4.71116209]\n",
            " [7.8310498  7.30831438]\n",
            " [4.45920711 3.21588324]\n",
            " [5.15849157 4.57232627]\n",
            " [3.69492528 3.64617747]\n",
            " [6.09366045 6.91953582]\n",
            " [1.69507392 1.63079496]\n",
            " [4.5143869  4.84081016]\n",
            " [6.98445148 6.65218118]\n",
            " [1.91024302 2.09477534]\n",
            " [2.74710777 3.12162504]\n",
            " [3.8541287  3.53860391]\n",
            " [2.90142392 3.41222677]\n",
            " [1.89203993 2.29244746]\n",
            " [3.64312701 4.73889836]\n",
            " [4.38055377 5.45640967]\n",
            " [6.02304    6.67702872]\n",
            " [7.35509096 9.28263868]\n",
            " [2.79427988 2.84977181]\n",
            " [1.75052067 1.70766745]\n",
            " [2.58278572 3.72157699]\n",
            " [6.50120468 8.39493912]\n",
            " [4.83365145 5.62616464]\n",
            " [2.40740083 2.05639091]\n",
            " [4.21161807 4.05382464]\n",
            " [2.06001179 2.10762988]\n",
            " [2.14362884 2.30233799]\n",
            " [2.20781916 2.11787768]]\n"
          ]
        }
      ],
      "source": [
        "print(np.concatenate((y_pred_extratree.reshape(len(y_pred_extratree),1), y_test.reshape(len(y_test),1)),1))"
      ]
    },
    {
      "cell_type": "code",
      "execution_count": null,
      "metadata": {
        "colab": {
          "background_save": true,
          "base_uri": "https://localhost:8080/"
        },
        "id": "Yl3Y8x714Ctg",
        "outputId": "c1dd9fd3-bbc7-4aa4-af35-8e5411362be6"
      },
      "outputs": [
        {
          "data": {
            "text/plain": [
              "0.9039486809125428"
            ]
          },
          "execution_count": null,
          "metadata": {},
          "output_type": "execute_result"
        }
      ],
      "source": [
        "r2_score(y_test, y_pred_extratree)"
      ]
    },
    {
      "cell_type": "code",
      "execution_count": null,
      "metadata": {
        "colab": {
          "background_save": true,
          "base_uri": "https://localhost:8080/",
          "height": 300
        },
        "id": "za5vBChSi3kC",
        "outputId": "2d7eb4d0-1012-4d5e-a5c0-f959eb5fdf71"
      },
      "outputs": [
        {
          "data": {
            "image/png": "[encoded data removed]",
            "text/plain": [
              "<Figure size 432x288 with 1 Axes>"
            ]
          },
          "metadata": {},
          "output_type": "display_data"
        }
      ],
      "source": [
        "plt.scatter(y_pred_extratree,y_test,color = 'blue')\n",
        "plt.title('Comparing predicted and test Fr')\n",
        "plt.xlabel('Predicted Fr',size=16)\n",
        "plt.ylabel('test Fr',size=16,)\n",
        "plt.show()"
      ]
    },
    {
      "cell_type": "code",
      "execution_count": null,
      "metadata": {
        "colab": {
          "background_save": true,
          "base_uri": "https://localhost:8080/"
        },
        "id": "IAO0rMWO9HIa",
        "outputId": "bbc49bba-fbfb-4601-b985-1c2f785846e4"
      },
      "outputs": [
        {
          "name": "stdout",
          "output_type": "stream",
          "text": [
            "MAE: 0.49185224884961626\n",
            "MSE: 0.4396362216776141\n",
            "RMSE: 0.6630506931431519\n",
            "R2: 0.6630506931431519\n",
            "BIAS: 0.6630506931431519\n",
            "IQRREST: 0.6630506931431519\n"
          ]
        }
      ],
      "source": [
        "print('MAE:', metrics.mean_absolute_error(y_test, y_pred_extratree))\n",
        "print('MSE:', metrics.mean_squared_error(y_test, y_pred_extratree))\n",
        "print('RMSE:', np.sqrt(metrics.mean_squared_error(y_test, y_pred_extratree)))\n",
        "print('R2:', np.sqrt(metrics.mean_squared_error(y_test, y_pred_extratree)))\n",
        "print('BIAS:', np.sqrt(metrics.mean_squared_error(y_test, y_pred_extratree)))\n",
        "print('IQRREST:', np.sqrt(metrics.mean_squared_error(y_test, y_pred_extratree)))"
      ]
    },
    {
      "cell_type": "markdown",
      "metadata": {
        "id": "hlPD_-rF4ITr"
      },
      "source": [
        "support vector regression"
      ]
    },
    {
      "cell_type": "code",
      "execution_count": null,
      "metadata": {
        "colab": {
          "background_save": true
        },
        "id": "1KL5-DRV5onw"
      },
      "outputs": [],
      "source": [
        "# from sklearn.preprocessing import StandardScaler\n",
        "# sc_X = StandardScaler()\n",
        "# sc_y = StandardScaler()\n",
        "# X1 = sc_X.fit_transform(X)\n",
        "# y1 = sc_y.fit_transform(y)"
      ]
    },
    {
      "cell_type": "code",
      "execution_count": null,
      "metadata": {
        "colab": {
          "background_save": true
        },
        "id": "__QJJJbf4nvX"
      },
      "outputs": [],
      "source": [
        "\n",
        "from sklearn.svm import SVR"
      ]
    },
    {
      "cell_type": "code",
      "execution_count": null,
      "metadata": {
        "colab": {
          "background_save": true,
          "base_uri": "https://localhost:8080/"
        },
        "id": "2QkpuJv34oNF",
        "outputId": "741a67ed-e3ed-4fda-c45e-fabce83465c3"
      },
      "outputs": [
        {
          "data": {
            "text/plain": [
              "SVR()"
            ]
          },
          "execution_count": null,
          "metadata": {},
          "output_type": "execute_result"
        }
      ],
      "source": [
        "reg_supportvector = SVR(kernel='rbf')\n",
        "reg_supportvector.fit(X_train,y_train)"
      ]
    },
    {
      "cell_type": "code",
      "execution_count": null,
      "metadata": {
        "colab": {
          "background_save": true
        },
        "id": "v8lZ_N5J4uW3"
      },
      "outputs": [],
      "source": [
        "y_pred_supportvector = reg_supportvector.predict(X_test)"
      ]
    },
    {
      "cell_type": "code",
      "execution_count": null,
      "metadata": {
        "colab": {
          "background_save": true,
          "base_uri": "https://localhost:8080/"
        },
        "id": "5SvpnteN49Qb",
        "outputId": "a3af2a9f-78d7-4bc5-9e55-dab691d6f8b5"
      },
      "outputs": [
        {
          "name": "stdout",
          "output_type": "stream",
          "text": [
            "[[3.59757315 3.14228028]\n",
            " [2.29841768 2.49363017]\n",
            " [5.03185855 4.75130321]\n",
            " [1.29504049 1.49352266]\n",
            " [4.42587613 4.7773898 ]\n",
            " [5.09834211 4.79036455]\n",
            " [5.35645133 5.56149608]\n",
            " [2.20858099 1.67197665]\n",
            " [5.0507653  4.63192837]\n",
            " [2.65853868 2.65536838]\n",
            " [8.05168791 9.00581672]\n",
            " [5.7728048  9.52460319]\n",
            " [2.78098918 2.59197995]\n",
            " [6.71795553 7.99582739]\n",
            " [5.15160358 8.2377919 ]\n",
            " [2.03521372 1.93279402]\n",
            " [5.31117185 7.43718076]\n",
            " [1.85132771 2.12129361]\n",
            " [4.3815762  4.39746202]\n",
            " [3.16894144 3.13677147]\n",
            " [8.94245307 7.4230884 ]\n",
            " [1.96100644 1.7406128 ]\n",
            " [3.37745649 3.17787053]\n",
            " [3.75088012 4.20103057]\n",
            " [5.50335379 4.44151703]\n",
            " [2.99698763 3.12162504]\n",
            " [4.1433741  3.11217441]\n",
            " [1.78914811 1.79277628]\n",
            " [2.85692572 2.38926536]\n",
            " [5.10132379 6.92898385]\n",
            " [2.43733135 2.53462135]\n",
            " [4.95281689 6.03745556]\n",
            " [7.38261522 7.33978691]\n",
            " [2.33143828 2.20733863]\n",
            " [4.76668516 5.23817607]\n",
            " [3.8307235  4.72191306]\n",
            " [6.00786137 7.38126211]\n",
            " [3.66825129 3.2045597 ]\n",
            " [6.32698686 6.42001097]\n",
            " [6.79273477 7.61114509]\n",
            " [4.6735061  4.41362916]\n",
            " [3.90020174 4.1613982 ]\n",
            " [1.7952714  2.2951929 ]\n",
            " [1.76873343 1.47568251]\n",
            " [4.48279111 4.44914495]\n",
            " [3.59844078 3.65750101]\n",
            " [4.26962664 3.86698636]\n",
            " [3.15519874 2.92798478]\n",
            " [2.34171841 2.11389323]\n",
            " [1.99027844 2.001736  ]\n",
            " [4.43600441 4.71116209]\n",
            " [6.68546639 7.30831438]\n",
            " [3.58999798 3.21588324]\n",
            " [5.49368705 4.57232627]\n",
            " [3.71257321 3.64617747]\n",
            " [5.50618733 6.91953582]\n",
            " [1.77606091 1.63079496]\n",
            " [4.85930288 4.84081016]\n",
            " [5.97995553 6.65218118]\n",
            " [1.95898516 2.09477534]\n",
            " [2.79673577 3.12162504]\n",
            " [3.73642765 3.53860391]\n",
            " [3.32651051 3.41222677]\n",
            " [1.8312641  2.29244746]\n",
            " [3.44218134 4.73889836]\n",
            " [4.65871497 5.45640967]\n",
            " [5.27254691 6.67702872]\n",
            " [5.38684834 9.28263868]\n",
            " [2.89829488 2.84977181]\n",
            " [1.65939226 1.70766745]\n",
            " [4.45807849 3.72157699]\n",
            " [6.35774692 8.39493912]\n",
            " [4.58525229 5.62616464]\n",
            " [2.51635048 2.05639091]\n",
            " [4.50324791 4.05382464]\n",
            " [2.04157871 2.10762988]\n",
            " [2.27494914 2.30233799]\n",
            " [2.10907022 2.11787768]]\n"
          ]
        }
      ],
      "source": [
        "print(np.concatenate((y_pred_supportvector.reshape(len(y_pred_supportvector),1), y_test.reshape(len(y_test),1)),1))"
      ]
    },
    {
      "cell_type": "code",
      "execution_count": null,
      "metadata": {
        "colab": {
          "background_save": true,
          "base_uri": "https://localhost:8080/"
        },
        "id": "K6JWvwMd5Kz-",
        "outputId": "3b2cb750-416a-406b-aa06-b856f62262ef"
      },
      "outputs": [
        {
          "data": {
            "text/plain": [
              "0.7872466920019351"
            ]
          },
          "execution_count": null,
          "metadata": {},
          "output_type": "execute_result"
        }
      ],
      "source": [
        "r2_score(y_test, y_pred_supportvector)"
      ]
    },
    {
      "cell_type": "code",
      "execution_count": null,
      "metadata": {
        "colab": {
          "background_save": true,
          "base_uri": "https://localhost:8080/",
          "height": 300
        },
        "id": "ZLtdX-5qjC3p",
        "outputId": "08cc0948-4467-4259-f347-792f13493909"
      },
      "outputs": [
        {
          "data": {
            "image/png": "[encoded data removed]",
            "text/plain": [
              "<Figure size 432x288 with 1 Axes>"
            ]
          },
          "metadata": {},
          "output_type": "display_data"
        }
      ],
      "source": [
        "plt.scatter(y_pred_supportvector,y_test,color = 'blue')\n",
        "plt.title('Comparing predicted and test Fr')\n",
        "plt.xlabel('Predicted Fr',size=16)\n",
        "plt.ylabel('test Fr',size=16,)\n",
        "plt.show()"
      ]
    },
    {
      "cell_type": "code",
      "execution_count": null,
      "metadata": {
        "colab": {
          "background_save": true,
          "base_uri": "https://localhost:8080/"
        },
        "id": "plTmp_Ll9hFW",
        "outputId": "ed35f4d2-d96a-4927-80dc-ca341e6b2dd1"
      },
      "outputs": [
        {
          "name": "stdout",
          "output_type": "stream",
          "text": [
            "MAE: 0.6081094687961345\n",
            "MSE: 0.9737925659565153\n",
            "RMSE: 0.9868092855037975\n",
            "R2: 0.9868092855037975\n",
            "BIAS: 0.9868092855037975\n",
            "IQRREST: 0.9868092855037975\n"
          ]
        }
      ],
      "source": [
        "print('MAE:', metrics.mean_absolute_error(y_test, y_pred_supportvector))\n",
        "print('MSE:', metrics.mean_squared_error(y_test, y_pred_supportvector))\n",
        "print('RMSE:', np.sqrt(metrics.mean_squared_error(y_test, y_pred_supportvector)))\n",
        "print('R2:', np.sqrt(metrics.mean_squared_error(y_test, y_pred_supportvector)))\n",
        "print('BIAS:', np.sqrt(metrics.mean_squared_error(y_test, y_pred_supportvector)))\n",
        "print('IQRREST:', np.sqrt(metrics.mean_squared_error(y_test, y_pred_supportvector)))"
      ]
    },
    {
      "cell_type": "markdown",
      "metadata": {
        "id": "KHbUPBhh556a"
      },
      "source": [
        "Ada boost Regressor\n"
      ]
    },
    {
      "cell_type": "code",
      "execution_count": null,
      "metadata": {
        "colab": {
          "background_save": true,
          "base_uri": "https://localhost:8080/"
        },
        "id": "WrrzpHGD6R74",
        "outputId": "2be54447-6f0e-4172-e4f9-2674c9f84cd0"
      },
      "outputs": [
        {
          "data": {
            "text/plain": [
              "AdaBoostRegressor(n_estimators=100, random_state=0)"
            ]
          },
          "execution_count": null,
          "metadata": {},
          "output_type": "execute_result"
        }
      ],
      "source": [
        "from sklearn.ensemble import AdaBoostRegressor\n",
        "reg_adaboost = AdaBoostRegressor(random_state=0, n_estimators=100)\n",
        "reg_adaboost.fit(X_train, y_train)"
      ]
    },
    {
      "cell_type": "code",
      "execution_count": null,
      "metadata": {
        "colab": {
          "background_save": true
        },
        "id": "1cWaQzCC6imx"
      },
      "outputs": [],
      "source": [
        "y_pred_adaboost = reg_adaboost.predict(X_test)"
      ]
    },
    {
      "cell_type": "code",
      "execution_count": null,
      "metadata": {
        "colab": {
          "background_save": true,
          "base_uri": "https://localhost:8080/"
        },
        "id": "_JPmgcTN6ze-",
        "outputId": "649b6d69-5520-480d-8df3-98f188144c3c"
      },
      "outputs": [
        {
          "name": "stdout",
          "output_type": "stream",
          "text": [
            "[[3.50196999 3.14228028]\n",
            " [2.39381657 2.49363017]\n",
            " [5.3508403  4.75130321]\n",
            " [2.10311743 1.49352266]\n",
            " [4.95166864 4.7773898 ]\n",
            " [5.70478652 4.79036455]\n",
            " [5.24882924 5.56149608]\n",
            " [2.39496926 1.67197665]\n",
            " [5.70478652 4.63192837]\n",
            " [3.23760719 2.65536838]\n",
            " [8.6104954  9.00581672]\n",
            " [7.35280295 9.52460319]\n",
            " [3.18227535 2.59197995]\n",
            " [7.49419254 7.99582739]\n",
            " [6.46968809 8.2377919 ]\n",
            " [2.39496926 1.93279402]\n",
            " [6.39634353 7.43718076]\n",
            " [2.27375788 2.12129361]\n",
            " [4.89452221 4.39746202]\n",
            " [3.23624143 3.13677147]\n",
            " [8.735295   7.4230884 ]\n",
            " [2.14372043 1.7406128 ]\n",
            " [3.29853116 3.17787053]\n",
            " [3.50345331 4.20103057]\n",
            " [6.33399936 4.44151703]\n",
            " [3.26542114 3.12162504]\n",
            " [4.68246868 3.11217441]\n",
            " [2.39381657 1.79277628]\n",
            " [3.26542114 2.38926536]\n",
            " [6.46968809 6.92898385]\n",
            " [2.58447038 2.53462135]\n",
            " [5.50789019 6.03745556]\n",
            " [6.36393528 7.33978691]\n",
            " [2.16883369 2.20733863]\n",
            " [6.03011101 5.23817607]\n",
            " [3.58983678 4.72191306]\n",
            " [6.68319475 7.38126211]\n",
            " [3.50345331 3.2045597 ]\n",
            " [6.71879545 6.42001097]\n",
            " [7.0989061  7.61114509]\n",
            " [4.94959471 4.41362916]\n",
            " [3.50345331 4.1613982 ]\n",
            " [2.10311743 2.2951929 ]\n",
            " [2.39496926 1.47568251]\n",
            " [4.89452221 4.44914495]\n",
            " [3.35841889 3.65750101]\n",
            " [3.50345331 3.86698636]\n",
            " [3.23624143 2.92798478]\n",
            " [2.9701743  2.11389323]\n",
            " [2.25950385 2.001736  ]\n",
            " [5.68044153 4.71116209]\n",
            " [6.71879545 7.30831438]\n",
            " [3.50345331 3.21588324]\n",
            " [5.92948344 4.57232627]\n",
            " [3.50345331 3.64617747]\n",
            " [5.24882924 6.91953582]\n",
            " [2.10311743 1.63079496]\n",
            " [3.50345331 4.84081016]\n",
            " [6.65148972 6.65218118]\n",
            " [2.14372043 2.09477534]\n",
            " [3.1109003  3.12162504]\n",
            " [3.50345331 3.53860391]\n",
            " [3.1564761  3.41222677]\n",
            " [2.10699415 2.29244746]\n",
            " [3.49087919 4.73889836]\n",
            " [4.91695506 5.45640967]\n",
            " [5.18675916 6.67702872]\n",
            " [7.44643443 9.28263868]\n",
            " [3.1564761  2.84977181]\n",
            " [2.14372043 1.70766745]\n",
            " [3.28717767 3.72157699]\n",
            " [6.2185773  8.39493912]\n",
            " [4.90653595 5.62616464]\n",
            " [2.58447038 2.05639091]\n",
            " [3.50196999 4.05382464]\n",
            " [2.28663364 2.10762988]\n",
            " [2.5289892  2.30233799]\n",
            " [2.38664946 2.11787768]]\n"
          ]
        }
      ],
      "source": [
        "print(np.concatenate((y_pred_adaboost.reshape(len(y_pred_adaboost),1), y_test.reshape(len(y_test),1)),1))"
      ]
    },
    {
      "cell_type": "code",
      "execution_count": null,
      "metadata": {
        "colab": {
          "background_save": true,
          "base_uri": "https://localhost:8080/"
        },
        "id": "PQ7M1GKf65Hq",
        "outputId": "eb77a3a3-918b-4997-90a1-716ea4d77737"
      },
      "outputs": [
        {
          "data": {
            "text/plain": [
              "0.8519560685203044"
            ]
          },
          "execution_count": null,
          "metadata": {},
          "output_type": "execute_result"
        }
      ],
      "source": [
        "r2_score(y_test, y_pred_adaboost)"
      ]
    },
    {
      "cell_type": "code",
      "execution_count": null,
      "metadata": {
        "colab": {
          "background_save": true,
          "base_uri": "https://localhost:8080/",
          "height": 300
        },
        "id": "9JUiKKuvjQW-",
        "outputId": "e16ce8a7-5fe8-434f-abd9-9e7b91d1bc55"
      },
      "outputs": [
        {
          "data": {
            "image/png": "[encoded data removed]",
            "text/plain": [
              "<Figure size 432x288 with 1 Axes>"
            ]
          },
          "metadata": {},
          "output_type": "display_data"
        }
      ],
      "source": [
        "plt.scatter(y_pred_adaboost,y_test,color = 'blue')\n",
        "plt.title('Comparing predicted and test Fr')\n",
        "plt.xlabel('Predicted Fr',size=16)\n",
        "plt.ylabel('test Fr',size=16,)\n",
        "plt.show()"
      ]
    },
    {
      "cell_type": "code",
      "execution_count": null,
      "metadata": {
        "colab": {
          "background_save": true,
          "base_uri": "https://localhost:8080/"
        },
        "id": "RTaQuZiT9_2k",
        "outputId": "a2bee0c5-a577-48ff-d0c8-dec61f9b8fcd"
      },
      "outputs": [
        {
          "name": "stdout",
          "output_type": "stream",
          "text": [
            "MAE: 0.6367950761168979\n",
            "MSE: 0.6776114612103448\n",
            "RMSE: 0.823171586736535\n",
            "R2: 0.823171586736535\n",
            "BIAS: 0.823171586736535\n",
            "IQRREST: 0.823171586736535\n"
          ]
        }
      ],
      "source": [
        "print('MAE:', metrics.mean_absolute_error(y_test, y_pred_adaboost))\n",
        "print('MSE:', metrics.mean_squared_error(y_test, y_pred_adaboost))\n",
        "print('RMSE:', np.sqrt(metrics.mean_squared_error(y_test, y_pred_adaboost)))\n",
        "print('R2:', np.sqrt(metrics.mean_squared_error(y_test, y_pred_adaboost)))\n",
        "print('BIAS:', np.sqrt(metrics.mean_squared_error(y_test, y_pred_adaboost)))\n",
        "print('IQRREST:', np.sqrt(metrics.mean_squared_error(y_test, y_pred_adaboost)))"
      ]
    },
    {
      "cell_type": "markdown",
      "metadata": {
        "id": "GiOYv7vR671W"
      },
      "source": [
        "PLS regrression"
      ]
    },
    {
      "cell_type": "code",
      "execution_count": null,
      "metadata": {
        "colab": {
          "background_save": true,
          "base_uri": "https://localhost:8080/"
        },
        "id": "umw8bQx_7fls",
        "outputId": "2ccb7217-9dbf-4aa4-b97a-1d76581c3e9b"
      },
      "outputs": [
        {
          "data": {
            "text/plain": [
              "PLSRegression()"
            ]
          },
          "execution_count": null,
          "metadata": {},
          "output_type": "execute_result"
        }
      ],
      "source": [
        "from sklearn.cross_decomposition import PLSRegression\n",
        "reg_pls = PLSRegression(n_components=2)\n",
        "reg_pls.fit(X_train, y_train)"
      ]
    },
    {
      "cell_type": "code",
      "execution_count": null,
      "metadata": {
        "colab": {
          "background_save": true
        },
        "id": "AqYLBpI37rzs"
      },
      "outputs": [],
      "source": [
        "y_pred_pls = reg_pls.predict(X_test)"
      ]
    },
    {
      "cell_type": "code",
      "execution_count": null,
      "metadata": {
        "colab": {
          "background_save": true,
          "base_uri": "https://localhost:8080/"
        },
        "id": "XYy5UHeF708f",
        "outputId": "64c71dcc-88d6-44b2-8294-da5d7727d9cd"
      },
      "outputs": [
        {
          "name": "stdout",
          "output_type": "stream",
          "text": [
            "[[4.17147571 3.14228028]\n",
            " [2.59231244 2.49363017]\n",
            " [4.60391142 4.75130321]\n",
            " [0.03066323 1.49352266]\n",
            " [4.37885981 4.7773898 ]\n",
            " [4.95077356 4.79036455]\n",
            " [5.04663941 5.56149608]\n",
            " [1.67277521 1.67197665]\n",
            " [4.94400454 4.63192837]\n",
            " [4.46002823 2.65536838]\n",
            " [8.5927599  9.00581672]\n",
            " [5.12825092 9.52460319]\n",
            " [3.66940181 2.59197995]\n",
            " [5.88716128 7.99582739]\n",
            " [4.60159797 8.2377919 ]\n",
            " [2.80387382 1.93279402]\n",
            " [5.42838345 7.43718076]\n",
            " [1.56203073 2.12129361]\n",
            " [4.34020987 4.39746202]\n",
            " [4.29167606 3.13677147]\n",
            " [8.04249523 7.4230884 ]\n",
            " [0.68873246 1.7406128 ]\n",
            " [3.8006133  3.17787053]\n",
            " [3.88579758 4.20103057]\n",
            " [5.44281683 4.44151703]\n",
            " [3.40508457 3.12162504]\n",
            " [4.12287329 3.11217441]\n",
            " [1.67770285 1.79277628]\n",
            " [4.32427622 2.38926536]\n",
            " [4.58591475 6.92898385]\n",
            " [2.79568485 2.53462135]\n",
            " [4.84258199 6.03745556]\n",
            " [6.32506037 7.33978691]\n",
            " [1.50603764 2.20733863]\n",
            " [4.79778652 5.23817607]\n",
            " [4.23191943 4.72191306]\n",
            " [5.9014921  7.38126211]\n",
            " [4.15063374 3.2045597 ]\n",
            " [6.44449947 6.42001097]\n",
            " [6.78940623 7.61114509]\n",
            " [4.40823389 4.41362916]\n",
            " [4.02214244 4.1613982 ]\n",
            " [0.42325287 2.2951929 ]\n",
            " [2.34625397 1.47568251]\n",
            " [4.40524275 4.44914495]\n",
            " [4.38027484 3.65750101]\n",
            " [4.84220259 3.86698636]\n",
            " [4.22192747 2.92798478]\n",
            " [3.49379156 2.11389323]\n",
            " [2.48412133 2.001736  ]\n",
            " [5.38829146 4.71116209]\n",
            " [6.66778819 7.30831438]\n",
            " [4.37882289 3.21588324]\n",
            " [5.60769626 4.57232627]\n",
            " [4.07229869 3.64617747]\n",
            " [5.11347026 6.91953582]\n",
            " [0.05515332 1.63079496]\n",
            " [5.08303488 4.84081016]\n",
            " [5.8790626  6.65218118]\n",
            " [1.59884003 2.09477534]\n",
            " [3.96817614 3.12162504]\n",
            " [3.98451312 3.53860391]\n",
            " [4.57976977 3.41222677]\n",
            " [1.4520136  2.29244746]\n",
            " [4.0129687  4.73889836]\n",
            " [4.33963145 5.45640967]\n",
            " [4.94962978 6.67702872]\n",
            " [4.85736979 9.28263868]\n",
            " [4.03495878 2.84977181]\n",
            " [0.54993968 1.70766745]\n",
            " [5.80472311 3.72157699]\n",
            " [6.32745445 8.39493912]\n",
            " [4.30866097 5.62616464]\n",
            " [2.22576626 2.05639091]\n",
            " [4.92816457 4.05382464]\n",
            " [2.23498288 2.10762988]\n",
            " [2.24844049 2.30233799]\n",
            " [2.00817295 2.11787768]]\n"
          ]
        }
      ],
      "source": [
        "print(np.concatenate((y_pred_pls.reshape(len(y_pred_pls),1), y_test.reshape(len(y_test),1)),1))"
      ]
    },
    {
      "cell_type": "code",
      "execution_count": null,
      "metadata": {
        "colab": {
          "background_save": true,
          "base_uri": "https://localhost:8080/"
        },
        "id": "4IRdDdtN74Oj",
        "outputId": "9c9ba8fc-6d9a-4f7b-f7ab-7ad0a0223027"
      },
      "outputs": [
        {
          "data": {
            "text/plain": [
              "0.6266747666542232"
            ]
          },
          "execution_count": null,
          "metadata": {},
          "output_type": "execute_result"
        }
      ],
      "source": [
        "r2_score(y_test, y_pred_pls)"
      ]
    },
    {
      "cell_type": "code",
      "execution_count": null,
      "metadata": {
        "colab": {
          "background_save": true,
          "base_uri": "https://localhost:8080/",
          "height": 300
        },
        "id": "5DOQkvEGjfsN",
        "outputId": "d9ee3f0d-2be9-4074-d2d3-28bdd1ae0757"
      },
      "outputs": [
        {
          "data": {
            "image/png": "[encoded data removed]",
            "text/plain": [
              "<Figure size 432x288 with 1 Axes>"
            ]
          },
          "metadata": {},
          "output_type": "display_data"
        }
      ],
      "source": [
        "plt.scatter(y_pred_pls,y_test,color = 'blue')\n",
        "plt.title('Comparing predicted and test Fr')\n",
        "plt.xlabel('Predicted Fr',size=16)\n",
        "plt.ylabel('test Fr',size=16,)\n",
        "plt.show()"
      ]
    },
    {
      "cell_type": "code",
      "execution_count": null,
      "metadata": {
        "colab": {
          "background_save": true,
          "base_uri": "https://localhost:8080/"
        },
        "id": "zZPaezT7-Ntq",
        "outputId": "bf8df6d4-a8fa-4836-a1df-a68325084f4c"
      },
      "outputs": [
        {
          "name": "stdout",
          "output_type": "stream",
          "text": [
            "MAE: 0.973674700148691\n",
            "MSE: 1.7087458725643199\n",
            "RMSE: 1.307190067497577\n",
            "R2: 1.307190067497577\n",
            "BIAS: 1.307190067497577\n",
            "IQRREST: 1.307190067497577\n"
          ]
        }
      ],
      "source": [
        "print('MAE:', metrics.mean_absolute_error(y_test, y_pred_pls))\n",
        "print('MSE:', metrics.mean_squared_error(y_test, y_pred_pls))\n",
        "print('RMSE:', np.sqrt(metrics.mean_squared_error(y_test, y_pred_pls)))\n",
        "print('R2:', np.sqrt(metrics.mean_squared_error(y_test, y_pred_pls)))\n",
        "print('BIAS:', np.sqrt(metrics.mean_squared_error(y_test, y_pred_pls)))\n",
        "print('IQRREST:', np.sqrt(metrics.mean_squared_error(y_test, y_pred_pls)))"
      ]
    },
    {
      "cell_type": "markdown",
      "metadata": {
        "id": "Izwq8iSx79nA"
      },
      "source": [
        "Stacking Regressor"
      ]
    },
    {
      "cell_type": "code",
      "execution_count": null,
      "metadata": {
        "colab": {
          "background_save": true
        },
        "id": "c34Xu4UB8K6c"
      },
      "outputs": [],
      "source": [
        "# from sklearn.ensemble import StackingRegressor\n",
        "# reg_stack=StackingRegressor(estimators=estimators,final_estimator=RandomForestRegressor(n_estimators=10,random_state=42)\n",
        "# reg_sta.fit(X_train, y_train)"
      ]
    },
    {
      "cell_type": "code",
      "execution_count": null,
      "metadata": {
        "colab": {
          "background_save": true
        },
        "id": "HzUSAbEo845O"
      },
      "outputs": [],
      "source": [
        ""
      ]
    },
    {
      "cell_type": "markdown",
      "metadata": {
        "id": "sHZMbwUz9qn8"
      },
      "source": [
        "Grid search CV Regressor"
      ]
    },
    {
      "cell_type": "code",
      "execution_count": null,
      "metadata": {
        "colab": {
          "background_save": true
        },
        "id": "wrQ3cULNexVs"
      },
      "outputs": [],
      "source": [
        "parameters = {'learning_rate': [0.01,0.02,0.03,0.04],\n",
        "                  'subsample'    : [0.9, 0.5, 0.2, 0.1],\n",
        "                  'n_estimators' : [100,500,1000, 1500],\n",
        "                  'max_depth'    : [4,6,8,10]\n",
        "                 }"
      ]
    },
    {
      "cell_type": "code",
      "execution_count": null,
      "metadata": {
        "colab": {
          "background_save": true
        },
        "id": "Thy6ciIGfE4Q"
      },
      "outputs": [],
      "source": [
        "from sklearn.ensemble import GradientBoostingRegressor"
      ]
    },
    {
      "cell_type": "code",
      "execution_count": null,
      "metadata": {
        "colab": {
          "background_save": true
        },
        "id": "sGQcf2tCe4NM"
      },
      "outputs": [],
      "source": [
        "GBR=GradientBoostingRegressor()"
      ]
    },
    {
      "cell_type": "code",
      "execution_count": null,
      "metadata": {
        "colab": {
          "base_uri": "https://localhost:8080/"
        },
        "id": "uEaYQQym_js8",
        "outputId": "2c1e5e54-c2ec-4354-ab20-47aedcac73b1"
      },
      "outputs": [
        {
          "data": {
            "text/plain": [
              "GridSearchCV(cv=2, estimator=GradientBoostingRegressor(), n_jobs=-1,\n",
              "             param_grid={'learning_rate': [0.01, 0.02, 0.03, 0.04],\n",
              "                         'max_depth': [4, 6, 8, 10],\n",
              "                         'n_estimators': [100, 500, 1000, 1500],\n",
              "                         'subsample': [0.9, 0.5, 0.2, 0.1]})"
            ]
          },
          "execution_count": 41,
          "metadata": {},
          "output_type": "execute_result"
        }
      ],
      "source": [
        "from sklearn.model_selection import GridSearchCV\n",
        "grid_GBR = GridSearchCV(estimator=GBR, param_grid = parameters, cv = 2, n_jobs=-1)\n",
        "grid_GBR.fit(X_train, y_train)"
      ]
    },
    {
      "cell_type": "code",
      "execution_count": null,
      "metadata": {
        "id": "fh_BaVhfeBGg"
      },
      "outputs": [],
      "source": [
        "y_pred_gscv= grid_GBR.predict(X_test)"
      ]
    },
    {
      "cell_type": "code",
      "execution_count": null,
      "metadata": {
        "colab": {
          "base_uri": "https://localhost:8080/",
          "height": 300
        },
        "id": "vdTDLwK0jxpt",
        "outputId": "d137da96-e2ac-484d-edb8-64aa5bc2a12c"
      },
      "outputs": [
        {
          "data": {
            "image/png": "[encoded data removed]",
            "text/plain": [
              "<Figure size 432x288 with 1 Axes>"
            ]
          },
          "metadata": {},
          "output_type": "display_data"
        }
      ],
      "source": [
        "plt.scatter(y_pred_gscv,y_test,color = 'blue')\n",
        "plt.title('Comparing predicted and test Fr')\n",
        "plt.xlabel('Predicted Fr',size=16)\n",
        "plt.ylabel('test Fr',size=16,)\n",
        "plt.show()"
      ]
    },
    {
      "cell_type": "code",
      "execution_count": null,
      "metadata": {
        "colab": {
          "base_uri": "https://localhost:8080/"
        },
        "id": "b2D78hrPgDI6",
        "outputId": "678a0e39-9493-4bc5-9f65-13762d4d3122"
      },
      "outputs": [
        {
          "name": "stdout",
          "output_type": "stream",
          "text": [
            "[[4.05975871 3.14228028]\n",
            " [2.4826946  2.49363017]\n",
            " [6.36153292 4.75130321]\n",
            " [1.40133624 1.49352266]\n",
            " [4.41727843 4.7773898 ]\n",
            " [4.50468386 4.79036455]\n",
            " [5.63932578 5.56149608]\n",
            " [1.82552109 1.67197665]\n",
            " [5.44104742 4.63192837]\n",
            " [2.35734537 2.65536838]\n",
            " [8.43993389 9.00581672]\n",
            " [7.76546131 9.52460319]\n",
            " [2.96821271 2.59197995]\n",
            " [8.21028548 7.99582739]\n",
            " [6.39101602 8.2377919 ]\n",
            " [2.2009875  1.93279402]\n",
            " [6.76360995 7.43718076]\n",
            " [1.77426092 2.12129361]\n",
            " [4.47101825 4.39746202]\n",
            " [2.83632897 3.13677147]\n",
            " [7.80828834 7.4230884 ]\n",
            " [1.77870975 1.7406128 ]\n",
            " [3.75687582 3.17787053]\n",
            " [3.09704976 4.20103057]\n",
            " [5.53574783 4.44151703]\n",
            " [3.09429858 3.12162504]\n",
            " [3.18396926 3.11217441]\n",
            " [2.0230883  1.79277628]\n",
            " [2.76856784 2.38926536]\n",
            " [6.62820915 6.92898385]\n",
            " [2.48736304 2.53462135]\n",
            " [5.65680428 6.03745556]\n",
            " [7.89209223 7.33978691]\n",
            " [2.08201718 2.20733863]\n",
            " [5.79074675 5.23817607]\n",
            " [4.10743543 4.72191306]\n",
            " [7.17711119 7.38126211]\n",
            " [3.98892309 3.2045597 ]\n",
            " [7.10130647 6.42001097]\n",
            " [8.04070661 7.61114509]\n",
            " [5.00644379 4.41362916]\n",
            " [3.84961289 4.1613982 ]\n",
            " [1.68218165 2.2951929 ]\n",
            " [1.71887526 1.47568251]\n",
            " [4.27904636 4.44914495]\n",
            " [3.14428204 3.65750101]\n",
            " [4.31019993 3.86698636]\n",
            " [2.74953455 2.92798478]\n",
            " [2.6186462  2.11389323]\n",
            " [2.13183059 2.001736  ]\n",
            " [5.84466944 4.71116209]\n",
            " [7.6472228  7.30831438]\n",
            " [4.27587697 3.21588324]\n",
            " [4.40976325 4.57232627]\n",
            " [3.71619016 3.64617747]\n",
            " [5.62270815 6.91953582]\n",
            " [1.69891038 1.63079496]\n",
            " [4.30879599 4.84081016]\n",
            " [7.18189072 6.65218118]\n",
            " [1.94388783 2.09477534]\n",
            " [2.86783354 3.12162504]\n",
            " [3.67996335 3.53860391]\n",
            " [2.91276127 3.41222677]\n",
            " [1.7252154  2.29244746]\n",
            " [3.68838385 4.73889836]\n",
            " [4.6030896  5.45640967]\n",
            " [5.55018954 6.67702872]\n",
            " [7.20293156 9.28263868]\n",
            " [2.89857269 2.84977181]\n",
            " [1.78549236 1.70766745]\n",
            " [3.16407676 3.72157699]\n",
            " [6.73482782 8.39493912]\n",
            " [4.68117898 5.62616464]\n",
            " [2.33856614 2.05639091]\n",
            " [3.92352187 4.05382464]\n",
            " [2.10241137 2.10762988]\n",
            " [2.28419968 2.30233799]\n",
            " [2.15262569 2.11787768]]\n"
          ]
        }
      ],
      "source": [
        "print(np.concatenate((y_pred_gscv.reshape(len(y_pred_gscv),1), y_test.reshape(len(y_test),1)),1))"
      ]
    },
    {
      "cell_type": "code",
      "execution_count": null,
      "metadata": {
        "id": "te7lZuiLgTaq"
      },
      "outputs": [],
      "source": [
        "r2_score(y_test, y_pred_gscv)"
      ]
    },
    {
      "cell_type": "code",
      "execution_count": null,
      "metadata": {
        "colab": {
          "base_uri": "https://localhost:8080/"
        },
        "id": "KaQ9qXRngiqF",
        "outputId": "14f6513f-9cb6-4de1-8852-ec16e4bde50b"
      },
      "outputs": [
        {
          "name": "stdout",
          "output_type": "stream",
          "text": [
            "MAE: 0.49996940306524706\n",
            "MSE: 0.46775794605422094\n",
            "RMSE: 0.6839283193831214\n",
            "R2: 0.6839283193831214\n",
            "BIAS: 0.6839283193831214\n",
            "IQRREST: 0.6839283193831214\n"
          ]
        }
      ],
      "source": [
        "print('MAE:', metrics.mean_absolute_error(y_test, y_pred_gscv))\n",
        "print('MSE:', metrics.mean_squared_error(y_test, y_pred_gscv))\n",
        "print('RMSE:', np.sqrt(metrics.mean_squared_error(y_test, y_pred_gscv)))\n",
        "print('R2:', np.sqrt(metrics.mean_squared_error(y_test, y_pred_gscv)))\n",
        "print('BIAS:', np.sqrt(metrics.mean_squared_error(y_test, y_pred_gscv)))\n",
        "print('IQRREST:', np.sqrt(metrics.mean_squared_error(y_test, y_pred_gscv)))"
      ]
    }
  ],
  "metadata": {
    "accelerator": "GPU",
    "colab": {
      "name": "innovation-lab_project.ipynb",
      "provenance": []
    },
    "kernelspec": {
      "display_name": "Python 3",
      "name": "python3"
    },
    "language_info": {
      "name": "python"
    },
    "widgets": {
      "application/vnd.jupyter.widget-state+json": {}
    }
  },
  "nbformat": 4,
  "nbformat_minor": 0
}